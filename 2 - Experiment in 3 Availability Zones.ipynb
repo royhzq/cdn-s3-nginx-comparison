{
 "cells": [
  {
   "cell_type": "markdown",
   "metadata": {},
   "source": [
    "## 2 - Conducting the experiment from different availability zones in the Singapore region"
   ]
  },
  {
   "cell_type": "markdown",
   "metadata": {},
   "source": [
    "Improving from our previous design where we conducted the experiment from our local machine, we can repeat this experiment by running them in three separate EC2 instances each launched in a different availability zone (AZ) in Singapore. This ensures that the request will be made in geographically distributed areas as AWS guarantees a minimum distance between each AZ in a region."
   ]
  },
  {
   "cell_type": "markdown",
   "metadata": {},
   "source": [
    "We can automate the data collection by launching each experiment EC2 instance with the following startup script:"
   ]
  },
  {
   "cell_type": "markdown",
   "metadata": {},
   "source": [
    "```{bash}\n",
    "#!/bin/bash\n",
    "yum update -y\n",
    "amazon-linux-extras install python3 nginx1.12 -y\n",
    "cat > local.conf << EOF\n",
    "server {\n",
    "    listen 80;\n",
    "    server_name _;\n",
    "    root /usr/share/nginx;\n",
    "    location / {\n",
    "    }\n",
    "}\n",
    "EOF\n",
    "mv local.conf /etc/nginx/conf.d/local.conf\n",
    "systemctl restart nginx\n",
    "pip3 install requests \n",
    "\n",
    "# Get metadata for Availability zone\n",
    "REGION=`curl --silent http://169.254.169.254/latest/meta-data/placement/availability-zone`\n",
    "cat > get_payload.py << EOF \n",
    "import requests\n",
    "import datetime\n",
    "with open(\"/usr/share/nginx/html/\" + \"$REGION\" + \"-data.csv\", \"w\") as f:\n",
    "\n",
    "    n=1000\n",
    "    origin = \"$REGION\" \n",
    "    source = {\n",
    "        \"CLOUDFRONT\": \"https://<your-assigned-cloudfront-url>.cloudfront.net/static/payload\",\n",
    "        \"S3\": \"https://<bucket-name>.s3-ap-southeast-1.amazonaws.com/static/payload\",\n",
    "        \"NGINX\": \"http://<IPV4-address>/payload\",\n",
    "    }\n",
    "    \n",
    "    headers = \"timestamp,url,server,resp_time,status_code,size,origin\"\n",
    "    f.write(headers)\n",
    "    f.write(\"\\n\")\n",
    "    \n",
    "    # Iterate through each mode of serving payload\n",
    "    for server, url in source.items():    \n",
    "        for i in range(1000):\n",
    "            r = requests.get(url)\n",
    "            timestamp = datetime.datetime.utcnow().strftime('%Y-%m-%d %H:%M:%S.%f')\n",
    "            row = [\n",
    "                timestamp, \n",
    "                url, \n",
    "                server, \n",
    "                str(r.elapsed.total_seconds()), \n",
    "                str(r.status_code), \n",
    "                str(len(r.content)), \n",
    "                origin\n",
    "            ]\n",
    "            f.write(\",\".join(row))\n",
    "            f.write(\"\\n\")\n",
    "            print(i, server, r.elapsed.total_seconds(), r.status_code)\n",
    "EOF\n",
    "python3 get_payload.py\n",
    "\n",
    "```"
   ]
  },
  {
   "cell_type": "markdown",
   "metadata": {},
   "source": [
    "This script does the following things:\n",
    "1. Install python3, Nginx\n",
    "2. Creates the python script to collect data\n",
    "3. Runs the python script\n",
    "4. Serves the data csv file through HTTP via Nginx"
   ]
  },
  {
   "cell_type": "markdown",
   "metadata": {},
   "source": [
    "One launched, give the instances a few minutes to finish running the script *get_payload.py*. Then you can simply download the data using the IPV4 addresses and the url path of the files for each availability zone:"
   ]
  },
  {
   "cell_type": "markdown",
   "metadata": {},
   "source": [
    "```{bash}\n",
    "http://<instance-az1-ipv4-address>/ap-southeast-1a-data.csv\n",
    "http://<instance-az2-ipv4-address>/ap-southeast-1b-data.csv\n",
    "http://<instance-az3-ipv4-address>/ap-southeast-1c-data.csv\n",
    "\n",
    "```"
   ]
  },
  {
   "cell_type": "markdown",
   "metadata": {},
   "source": [
    "## OLS Regression Specification\n"
   ]
  },
  {
   "cell_type": "markdown",
   "metadata": {},
   "source": [
    "As our observations are coming from multiple sources, we need to control (or \"block\") these factors in a multivariate regression model."
   ]
  },
  {
   "cell_type": "markdown",
   "metadata": {},
   "source": [
    "$$ log(T_i) = \\beta_0 + \\beta_1\\text{Nginx}_i + \\beta_2\\text{Cloudfront}_i + \\beta_3\\text{ap-southeast-1b}_i + \\beta_4\\text{ap-southeast-1c}_i + \\epsilon_i $$"
   ]
  },
  {
   "cell_type": "markdown",
   "metadata": {},
   "source": [
    "Where:\n",
    "* $ T_i = $ Dependent variable. The response time of the $i$th HTTP GET request for the payload file\n",
    "* $ \\text{Nginx}_i = $ Dummy variable of the $i$the request if the file source is from the Nginx server\n",
    "* $ \\text{Cloudfront}_i = $ Dummy variable of the $i$the request if the file source is from the CDN\n",
    "* $ \\text{ap-southeast-1b}_i = $ Dummy variable of the $i$the request if the request is from the availability zone b\n",
    "* $ \\text{ap-southeast-1c}_i = $ Dummy variable of the $i$the request if the request is from the availability zone c\n",
    "\n"
   ]
  },
  {
   "cell_type": "code",
   "execution_count": 1,
   "metadata": {},
   "outputs": [],
   "source": [
    "import pandas as pd\n",
    "import numpy as np\n",
    "import matplotlib.pyplot as plt\n",
    "from scipy import stats\n",
    "import statsmodels.formula.api as smf"
   ]
  },
  {
   "cell_type": "code",
   "execution_count": 2,
   "metadata": {},
   "outputs": [],
   "source": [
    "df_a = pd.read_csv(\"./data/ap-southeast-1a-data.csv\")\n",
    "df_b = pd.read_csv(\"./data/ap-southeast-1b-data.csv\")\n",
    "df_c = pd.read_csv(\"./data/ap-southeast-1c-data.csv\")\n",
    "df = df_a.append(df_b).append(df_c)"
   ]
  },
  {
   "cell_type": "code",
   "execution_count": 3,
   "metadata": {},
   "outputs": [],
   "source": [
    "df['resp_time'] = df['resp_time'] * 1000 # Convert to milliseconds\n",
    "df['ln_resp_time'] = np.log(df['resp_time']) # Log response times"
   ]
  },
  {
   "cell_type": "code",
   "execution_count": 4,
   "metadata": {},
   "outputs": [
    {
     "data": {
      "image/png": "[encoded data removed]",
      "text/plain": [
       "<Figure size 1080x360 with 2 Axes>"
      ]
     },
     "metadata": {
      "needs_background": "light"
     },
     "output_type": "display_data"
    },
    {
     "name": "stdout",
     "output_type": "stream",
     "text": [
      "Mean response times (ms): 18.586894333333333 (CloudFront), 28.335949333333332 (S3), 4.898942666666667 (NGINX) \n",
      "Variance: 59.24 (CloudFront), 368.68 (S3), 346.28 (NGINX) \n",
      "N=9000\n"
     ]
    }
   ],
   "source": [
    "cdn, ln_cdn = zip(*df[['resp_time','ln_resp_time']].loc[df['server']=='CLOUDFRONT'].values)\n",
    "s3, ln_s3 = zip(*df[['resp_time','ln_resp_time']].loc[df['server']=='S3'].values)\n",
    "nginx, ln_nginx = zip(*df[['resp_time','ln_resp_time']].loc[df['server']=='NGINX'].values)\n",
    "\n",
    "bins = np.linspace(0, df['resp_time'].quantile(0.999), 100) # Less outliers\n",
    "ln_bins = np.linspace(df['ln_resp_time'].min(), df['ln_resp_time'].quantile(0.999), 100)\n",
    "\n",
    "fig, (ax1, ax2) = plt.subplots(1,2, figsize=(15,5))\n",
    "\n",
    "ax1.hist(cdn, bins=bins, label='AWS CloudFront CDN')\n",
    "ax1.hist(s3, bins=bins, label='AWS S3')\n",
    "ax1.hist(nginx, bins=bins, label='NGINX')\n",
    "ax1.set_title('Distribution of Response Times, milliseconds \\n Request origin: Multi AZ', fontsize=12, fontweight='bold')\n",
    "ax1.legend()\n",
    "ax1.set_xlabel(\"Response Time (ms)\", fontsize=12)\n",
    "\n",
    "ax2.hist(ln_cdn, bins=ln_bins, label='AWS CloudFront CDN')\n",
    "ax2.hist(ln_s3, bins=ln_bins, label='AWS S3')\n",
    "ax2.hist(ln_nginx, bins=ln_bins, label='NGINX')\n",
    "ax2.set_title('Distribution of log Response Times, milliseconds \\n Request origin: Multi AZ', fontsize=12, fontweight='bold')\n",
    "ax2.legend()\n",
    "ax2.set_xlabel(\"Log Response Time (ms)\", fontsize=12)\n",
    "\n",
    "plt.savefig('./static/ec2-hist.png')\n",
    "plt.show()\n",
    "\n",
    "print(f\"Mean response times (ms): {np.mean(cdn)} (CloudFront), {np.mean(s3)} (S3), {np.mean(nginx)} (NGINX) \")\n",
    "print(f\"Variance: {np.var(cdn):.2f} (CloudFront), {np.var(s3):.2f} (S3), {np.var(nginx):.2f} (NGINX) \")\n",
    "print(f\"N={df.shape[0]}\")"
   ]
  },
  {
   "cell_type": "code",
   "execution_count": 21,
   "metadata": {},
   "outputs": [],
   "source": [
    "# Get server dummies - s3 as base\n",
    "server_dummies = pd.get_dummies(df['server']).drop('S3', axis=1)\n",
    "\n",
    "# Get Availability Zone dummies - 1a as base\n",
    "az_dummies = pd.get_dummies(df['origin'], drop_first=True)"
   ]
  },
  {
   "cell_type": "code",
   "execution_count": 22,
   "metadata": {},
   "outputs": [],
   "source": [
    "df = pd.concat([df, server_dummies], axis=1)\n",
    "df = pd.concat([df, az_dummies], axis=1)"
   ]
  },
  {
   "cell_type": "code",
   "execution_count": 24,
   "metadata": {},
   "outputs": [],
   "source": [
    "df.rename(columns={\n",
    "    \"ap-southeast-1a\" : \"ap_southeast_1a\",\n",
    "    \"ap-southeast-1b\" : \"ap_southeast_1b\",\n",
    "    \"ap-southeast-1c\" : \"ap_southeast_1c\"\n",
    "}, inplace=True)"
   ]
  },
  {
   "cell_type": "code",
   "execution_count": 26,
   "metadata": {},
   "outputs": [
    {
     "name": "stdout",
     "output_type": "stream",
     "text": [
      "                            OLS Regression Results                            \n",
      "==============================================================================\n",
      "Dep. Variable:           ln_resp_time   R-squared:                       0.811\n",
      "Model:                            OLS   Adj. R-squared:                  0.811\n",
      "Method:                 Least Squares   F-statistic:                     9675.\n",
      "Date:                Tue, 15 Oct 2019   Prob (F-statistic):               0.00\n",
      "Time:                        14:52:46   Log-Likelihood:                -4527.4\n",
      "No. Observations:                9000   AIC:                             9065.\n",
      "Df Residuals:                    8995   BIC:                             9100.\n",
      "Df Model:                           4                                         \n",
      "Covariance Type:            nonrobust                                         \n",
      "===================================================================================\n",
      "                      coef    std err          t      P>|t|      [0.025      0.975]\n",
      "-----------------------------------------------------------------------------------\n",
      "Intercept           3.1861      0.009    337.707      0.000       3.168       3.205\n",
      "NGINX              -1.9215      0.010   -185.922      0.000      -1.942      -1.901\n",
      "CLOUDFRONT         -0.4016      0.010    -38.862      0.000      -0.422      -0.381\n",
      "ap_southeast_1b     0.1566      0.010     15.154      0.000       0.136       0.177\n",
      "ap_southeast_1c     0.0916      0.010      8.861      0.000       0.071       0.112\n",
      "==============================================================================\n",
      "Omnibus:                     3783.940   Durbin-Watson:                   0.454\n",
      "Prob(Omnibus):                  0.000   Jarque-Bera (JB):            25680.498\n",
      "Skew:                           1.880   Prob(JB):                         0.00\n",
      "Kurtosis:                      10.371   Cond. No.                         4.44\n",
      "==============================================================================\n",
      "\n",
      "Warnings:\n",
      "[1] Standard Errors assume that the covariance matrix of the errors is correctly specified.\n"
     ]
    }
   ],
   "source": [
    "results = smf.ols(\"ln_resp_time ~ NGINX + CLOUDFRONT + ap_southeast_1b + ap_southeast_1c \", data=df).fit()\n",
    "print(results.summary())"
   ]
  },
  {
   "cell_type": "markdown",
   "metadata": {},
   "source": [
    "## Discussion"
   ]
  },
  {
   "cell_type": "markdown",
   "metadata": {},
   "source": [
    "Interesting stuff. When we conduct the same experiment using EC2 instances launched in different availability zones, the estimates show a different result. The requests to the CDN have a faster response time as compared to S3 this time round. In fact, using a CDN over S3 is associated with a $100(e^{-0.4016}-1)=-33.1$ percent decrease in response times."
   ]
  },
  {
   "cell_type": "markdown",
   "metadata": {},
   "source": [
    "Still, Nginx outperforms the other two delivery methods. The estimates suggest that using an Nginx server is associated with a $100(e^{-1.9215}-1)=-85.4$ percent decrease in response times!"
   ]
  },
  {
   "cell_type": "markdown",
   "metadata": {},
   "source": [
    "What is a possible cause of the differences in results from the first run? Looking at the distributions, we can see that the Nginx responses have 3 distinct peaks, and this is expected as our requests come from 3 availability zones, whereas the Nginx server is deployed in one  (ap-southeast-1a). And we can expect the fastest group of responses (first peak in the graph) correspond to the availability zone that the server was deployed in. This is confirmed by a quick inspection of the data."
   ]
  },
  {
   "cell_type": "code",
   "execution_count": 50,
   "metadata": {},
   "outputs": [
    {
     "name": "stdout",
     "output_type": "stream",
     "text": [
      "Mean response time for NGINX (ap-southeast-1a):     3.531129\n",
      "Mean response time for NGINX (ap-southeast-1b):     6.646465\n",
      "Mean response time for NGINX (ap-southeast-1c):     4.519234\n"
     ]
    }
   ],
   "source": [
    "print(f\"Mean response time for NGINX (ap-southeast-1a): \\\n",
    "    {df['resp_time'].loc[(df['server']=='NGINX') & (df['origin']=='ap-southeast-1a')].mean()}\")\n",
    "print(f\"Mean response time for NGINX (ap-southeast-1b): \\\n",
    "    {df['resp_time'].loc[(df['server']=='NGINX') & (df['origin']=='ap-southeast-1b')].mean()}\")\n",
    "print(f\"Mean response time for NGINX (ap-southeast-1c): \\\n",
    "    {df['resp_time'].loc[(df['server']=='NGINX') & (df['origin']=='ap-southeast-1c')].mean()}\")"
   ]
  },
  {
   "cell_type": "markdown",
   "metadata": {},
   "source": [
    "Herein lies another potential bias to the results. As we conduct the experiment from EC2 servers, we are essentially making requests that are very close to the CDN and S3 infrastructure. Since CloudFront and S3 both store copies of the file redundantly across all three AZs, we may be making the requests directly from the same data center the files are stored. "
   ]
  },
  {
   "cell_type": "markdown",
   "metadata": {},
   "source": [
    "To eliminate this bias and improve our design, we will run this experiment using a VPN instead to simulate requests from different locations in the region in the next notebook. "
   ]
  }
 ],
 "metadata": {
  "kernelspec": {
   "display_name": "Python 3",
   "language": "python",
   "name": "python3"
  },
  "language_info": {
   "codemirror_mode": {
    "name": "ipython",
    "version": 3
   },
   "file_extension": ".py",
   "mimetype": "text/x-python",
   "name": "python",
   "nbconvert_exporter": "python",
   "pygments_lexer": "ipython3",
   "version": "3.6.8"
  }
 },
 "nbformat": 4,
 "nbformat_minor": 2
}
