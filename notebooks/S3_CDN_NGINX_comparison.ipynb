{
 "cells": [
  {
   "cell_type": "markdown",
   "metadata": {},
   "source": [
    "# CDN (CloudFront) vs S3 vs NGINX"
   ]
  },
  {
   "cell_type": "markdown",
   "metadata": {},
   "source": [
    "A statistical comparison of transfer speeds for static files served from a Content Delivery Network (CDN), Amazon's Simple Storage Service (S3) and an NGINX server in Singapore."
   ]
  },
  {
   "cell_type": "markdown",
   "metadata": {},
   "source": [
    "Content Delivery Networks serve as web proxies and allows caching of data nearer to the requesting user's location. Using a CDN can greatly increase transfer speeds if you are serving content to a global audience."
   ]
  },
  {
   "cell_type": "markdown",
   "metadata": {},
   "source": [
    "However, if you are serving content solely to a local region, static files served with a CDN may not be faster than files served using a regular storage service (i.e., AWS S3). This may be even more so in a small region like Singapore, where distances between data centers are relatively short."
   ]
  },
  {
   "cell_type": "markdown",
   "metadata": {},
   "source": [
    "As such, we will conduct a statistical comparison of the speeds for three different methods of serving a 100kb file. \n",
    "\n",
    "1. **AWS Simple Storage Service** <br> - Amazon's default cloud storage service\n",
    "2. **AWS CloudFront CDN** <br> - Amazon's Content Delivery Network Service\n",
    "3. **NGINX Web Server** <br> - A popular open source web server "
   ]
  },
  {
   "cell_type": "markdown",
   "metadata": {},
   "source": [
    "## Motivation"
   ]
  },
  {
   "cell_type": "markdown",
   "metadata": {},
   "source": [
    "It is not immediately obvious if a CDN will be beneficial for applications serving solely serving the Singapore market. In AWS, the S3 service stores files in specific regions. And in South-East Asia region, AWS only has data centers in Singapore. Likewise, it's CDN service will serve the same files through the same data centers (together with edge locations). For each region (including Singapore), AWS maintains 3 availability zones. These zones contain one or more data centers and each zone is separated by a significant distance to spread the risk of a disaster bringing down all zones at once. This means that in the Singapore, one availability zone may be in Jurong area and the other in Tampines. The distance could be around ~20km."
   ]
  },
  {
   "cell_type": "markdown",
   "metadata": {},
   "source": [
    "Compare the scenario to the Ohio region where it is ~100x larger in area than Singapore. The availability zones are spread out much further. Thus, using a CDN will be more effective there. The case is not so clear for Singapore."
   ]
  },
  {
   "cell_type": "markdown",
   "metadata": {},
   "source": [
    "As such, is it still worthwhile to use a CDN in Singapore, solely for the Singapore market?"
   ]
  },
  {
   "cell_type": "markdown",
   "metadata": {},
   "source": [
    "## Setup"
   ]
  },
  {
   "cell_type": "markdown",
   "metadata": {},
   "source": [
    "### S3 Setup"
   ]
  },
  {
   "cell_type": "markdown",
   "metadata": {},
   "source": [
    "We'll create a 256kb file for our experiment and upload this file to S3.\n",
    "```{bash}\n",
    "$ dd if=/dev/zero of=payload  bs=256KB  count=1\n",
    "```"
   ]
  },
  {
   "cell_type": "markdown",
   "metadata": {},
   "source": [
    "Once uploaded, and made public, the url path to the file should be in the format:\n",
    "```{bash}\n",
    "https://<bucket-name>.s3-ap-southeast-1.amazonaws.com/payload\n",
    "```\n",
    "Detailed instructions on how to uload to S3 here: https://docs.aws.amazon.com/AmazonS3/latest/user-guide/upload-objects.html\n"
   ]
  },
  {
   "cell_type": "markdown",
   "metadata": {},
   "source": [
    "### CloudFront Setup"
   ]
  },
  {
   "cell_type": "markdown",
   "metadata": {},
   "source": [
    "Next, you can enable the CDN service on the S3 bucket, so that the same file can be served through Amazon's CDN (CloudFront). The CDN url path would look something like:\n",
    "```{bash}\n",
    "https://<your-assigned-cloudfront-url>.cloudfront.net/payload\n",
    "```"
   ]
  },
  {
   "cell_type": "markdown",
   "metadata": {},
   "source": [
    "Detailed instructions on how to enable CDN on S3 can be found here: https://aws.amazon.com/premiumsupport/knowledge-center/cloudfront-https-requests-s3/"
   ]
  },
  {
   "cell_type": "markdown",
   "metadata": {},
   "source": [
    "Now the file can be accessed both by S3 using the S3 filepath and the CDN using the cloudfront filepath"
   ]
  },
  {
   "cell_type": "markdown",
   "metadata": {},
   "source": [
    "### Nginx file server Setup"
   ]
  },
  {
   "cell_type": "markdown",
   "metadata": {},
   "source": [
    "Deploy an EC2 instance (t2.small). Since the nginx file server is not highly available, it exists only in one availability zone. We'll select a-southeast-1 availabilty zone for this. "
   ]
  },
  {
   "cell_type": "markdown",
   "metadata": {},
   "source": [
    "Deploy the instance with a bootstrap script to install Nginx and serve the payload file automatically when launched. Remember to configure the security groups to allow inbound http traffic on port 80"
   ]
  },
  {
   "cell_type": "markdown",
   "metadata": {},
   "source": [
    "```{bash}\n",
    "#!/bin/bash\n",
    "yum update -y\n",
    "amazon-linux-extras install nginx1.12 -y\n",
    "cat > local.conf <<- EOM\n",
    "server {\n",
    "    listen 80;\n",
    "    server_name _;\n",
    "    root /usr/share/nginx;\n",
    "    location / {\n",
    "    }\n",
    "}\n",
    "EOM\n",
    "mv local.conf /etc/nginx/conf.d/local.conf\n",
    "dd if=/dev/zero of=/usr/share/nginx/html/payload  bs=256KB  count=1\n",
    "systemctl restart nginx\n",
    "\n",
    "```"
   ]
  },
  {
   "cell_type": "markdown",
   "metadata": {},
   "source": [
    "You can test downloading the payload file from the deployed file server at this path:\n",
    "```{bash}\n",
    "http://<public-ipv4-address>/payload\n",
    "```\n"
   ]
  },
  {
   "cell_type": "markdown",
   "metadata": {},
   "source": [
    "Now all three environments serving the same file has been deployed. We can run the experiment"
   ]
  },
  {
   "cell_type": "markdown",
   "metadata": {},
   "source": [
    "## From Local Machine"
   ]
  },
  {
   "cell_type": "markdown",
   "metadata": {},
   "source": [
    "We'll start with a base case, accessing the static files from our local machine. "
   ]
  },
  {
   "cell_type": "code",
   "execution_count": 1,
   "metadata": {},
   "outputs": [],
   "source": [
    "import requests\n",
    "import datetime\n",
    "import pandas as pd\n",
    "import numpy as np\n",
    "import matplotlib.pyplot as plt\n",
    "from scipy import stats"
   ]
  },
  {
   "cell_type": "code",
   "execution_count": 2,
   "metadata": {},
   "outputs": [],
   "source": [
    "CDN = \"https://df3k2q0k3bu2n.cloudfront.net/static\"\n",
    "S3 = \"https://amber-static.s3-ap-southeast-1.amazonaws.com/static\"\n",
    "NGINX = \"http://3.0.61.50/payload\""
   ]
  },
  {
   "cell_type": "code",
   "execution_count": 3,
   "metadata": {
    "scrolled": true
   },
   "outputs": [
    {
     "name": "stdout",
     "output_type": "stream",
     "text": [
      "0 CLOUDFRONT 2.523459 200\n",
      "1 CLOUDFRONT 1.185601 200\n",
      "2 CLOUDFRONT 2.255079 200\n",
      "3 CLOUDFRONT 1.234732 200\n",
      "4 CLOUDFRONT 1.216561 200\n",
      "5 CLOUDFRONT 1.269479 200\n",
      "6 CLOUDFRONT 1.17435 200\n",
      "7 CLOUDFRONT 1.284709 200\n",
      "8 CLOUDFRONT 1.381209 200\n",
      "9 CLOUDFRONT 1.152081 200\n",
      "10 CLOUDFRONT 1.200939 200\n",
      "11 CLOUDFRONT 1.233886 200\n",
      "12 CLOUDFRONT 1.145838 200\n",
      "13 CLOUDFRONT 1.165431 200\n",
      "14 CLOUDFRONT 1.201601 200\n",
      "15 CLOUDFRONT 1.187411 200\n",
      "16 CLOUDFRONT 1.207079 200\n",
      "17 CLOUDFRONT 1.211284 200\n",
      "18 CLOUDFRONT 1.194489 200\n",
      "19 CLOUDFRONT 1.20471 200\n",
      "20 CLOUDFRONT 1.204013 200\n",
      "21 CLOUDFRONT 1.237894 200\n",
      "22 CLOUDFRONT 1.286384 200\n",
      "23 CLOUDFRONT 1.347832 200\n",
      "24 CLOUDFRONT 1.555182 200\n",
      "25 CLOUDFRONT 2.557269 200\n",
      "26 CLOUDFRONT 1.195889 200\n",
      "27 CLOUDFRONT 3.067706 200\n",
      "28 CLOUDFRONT 1.290488 200\n",
      "29 CLOUDFRONT 1.220854 200\n",
      "30 CLOUDFRONT 1.190264 200\n",
      "31 CLOUDFRONT 1.270533 200\n",
      "32 CLOUDFRONT 1.213662 200\n",
      "33 CLOUDFRONT 1.217726 200\n",
      "34 CLOUDFRONT 2.041656 200\n",
      "35 CLOUDFRONT 1.201645 200\n",
      "36 CLOUDFRONT 1.209932 200\n",
      "37 CLOUDFRONT 1.249662 200\n",
      "38 CLOUDFRONT 1.212768 200\n",
      "39 CLOUDFRONT 2.633298 200\n",
      "40 CLOUDFRONT 1.281626 200\n",
      "41 CLOUDFRONT 1.274191 200\n",
      "42 CLOUDFRONT 1.223998 200\n",
      "43 CLOUDFRONT 1.192794 200\n",
      "44 CLOUDFRONT 2.623491 200\n",
      "45 CLOUDFRONT 1.181836 200\n",
      "46 CLOUDFRONT 1.56266 200\n",
      "47 CLOUDFRONT 1.199111 200\n",
      "48 CLOUDFRONT 1.19654 200\n",
      "49 CLOUDFRONT 1.292554 200\n",
      "50 CLOUDFRONT 1.189386 200\n",
      "51 CLOUDFRONT 1.216491 200\n",
      "52 CLOUDFRONT 1.367606 200\n",
      "53 CLOUDFRONT 1.21622 200\n",
      "54 CLOUDFRONT 1.220556 200\n",
      "55 CLOUDFRONT 1.322947 200\n",
      "56 CLOUDFRONT 1.262066 200\n",
      "57 CLOUDFRONT 1.195272 200\n",
      "58 CLOUDFRONT 1.173583 200\n",
      "59 CLOUDFRONT 1.226031 200\n",
      "60 CLOUDFRONT 1.299144 200\n",
      "61 CLOUDFRONT 1.228619 200\n",
      "62 CLOUDFRONT 1.215573 200\n",
      "63 CLOUDFRONT 1.209025 200\n",
      "64 CLOUDFRONT 1.290982 200\n",
      "65 CLOUDFRONT 1.299566 200\n",
      "66 CLOUDFRONT 1.219724 200\n",
      "67 CLOUDFRONT 1.292618 200\n",
      "68 CLOUDFRONT 1.389086 200\n",
      "69 CLOUDFRONT 1.16747 200\n",
      "70 CLOUDFRONT 1.461388 200\n",
      "71 CLOUDFRONT 1.219058 200\n",
      "72 CLOUDFRONT 1.356525 200\n",
      "73 CLOUDFRONT 1.275153 200\n",
      "74 CLOUDFRONT 1.392703 200\n",
      "75 CLOUDFRONT 1.219733 200\n",
      "76 CLOUDFRONT 1.254974 200\n",
      "77 CLOUDFRONT 1.290701 200\n",
      "78 CLOUDFRONT 1.138381 200\n",
      "79 CLOUDFRONT 1.2101 200\n",
      "80 CLOUDFRONT 1.189796 200\n",
      "81 CLOUDFRONT 1.279655 200\n",
      "82 CLOUDFRONT 1.276679 200\n",
      "83 CLOUDFRONT 1.373247 200\n",
      "84 CLOUDFRONT 1.342996 200\n",
      "85 CLOUDFRONT 1.22638 200\n",
      "86 CLOUDFRONT 1.190899 200\n",
      "87 CLOUDFRONT 1.199231 200\n",
      "88 CLOUDFRONT 2.037153 200\n",
      "89 CLOUDFRONT 1.285249 200\n",
      "90 CLOUDFRONT 1.284453 200\n",
      "91 CLOUDFRONT 1.207213 200\n",
      "92 CLOUDFRONT 1.197017 200\n",
      "93 CLOUDFRONT 1.606176 200\n",
      "94 CLOUDFRONT 1.509963 200\n",
      "95 CLOUDFRONT 1.195446 200\n",
      "96 CLOUDFRONT 1.211368 200\n",
      "97 CLOUDFRONT 1.376612 200\n",
      "98 CLOUDFRONT 1.221317 200\n",
      "99 CLOUDFRONT 1.222769 200\n",
      "100 CLOUDFRONT 1.195796 200\n",
      "101 CLOUDFRONT 1.186121 200\n",
      "102 CLOUDFRONT 1.100722 200\n",
      "103 CLOUDFRONT 1.184802 200\n",
      "104 CLOUDFRONT 1.1819 200\n",
      "105 CLOUDFRONT 1.217838 200\n",
      "106 CLOUDFRONT 1.085161 200\n",
      "107 CLOUDFRONT 1.147216 200\n",
      "108 CLOUDFRONT 1.181945 200\n",
      "109 CLOUDFRONT 1.086069 200\n",
      "110 CLOUDFRONT 1.329548 200\n",
      "111 CLOUDFRONT 1.203891 200\n",
      "112 CLOUDFRONT 1.236966 200\n",
      "113 CLOUDFRONT 1.804126 200\n",
      "114 CLOUDFRONT 1.111853 200\n",
      "115 CLOUDFRONT 1.062141 200\n",
      "116 CLOUDFRONT 1.072211 200\n",
      "117 CLOUDFRONT 1.076027 200\n",
      "118 CLOUDFRONT 1.186056 200\n",
      "119 CLOUDFRONT 1.518531 200\n",
      "120 CLOUDFRONT 1.175559 200\n",
      "121 CLOUDFRONT 1.204432 200\n",
      "122 CLOUDFRONT 1.278723 200\n",
      "123 CLOUDFRONT 1.199151 200\n",
      "124 CLOUDFRONT 1.204908 200\n",
      "125 CLOUDFRONT 1.199273 200\n",
      "126 CLOUDFRONT 1.188527 200\n",
      "127 CLOUDFRONT 1.197556 200\n",
      "128 CLOUDFRONT 1.243925 200\n",
      "129 CLOUDFRONT 1.295364 200\n",
      "130 CLOUDFRONT 1.164039 200\n",
      "131 CLOUDFRONT 1.306026 200\n",
      "132 CLOUDFRONT 1.297333 200\n",
      "133 CLOUDFRONT 1.173137 200\n",
      "134 CLOUDFRONT 2.156063 200\n",
      "135 CLOUDFRONT 1.216978 200\n",
      "136 CLOUDFRONT 1.324141 200\n",
      "137 CLOUDFRONT 1.203598 200\n",
      "138 CLOUDFRONT 1.12763 200\n",
      "139 CLOUDFRONT 1.202475 200\n",
      "140 CLOUDFRONT 1.136655 200\n",
      "141 CLOUDFRONT 1.512149 200\n",
      "142 CLOUDFRONT 1.308178 200\n",
      "143 CLOUDFRONT 1.135991 200\n",
      "144 CLOUDFRONT 1.075638 200\n",
      "145 CLOUDFRONT 1.085335 200\n",
      "146 CLOUDFRONT 1.123088 200\n",
      "147 CLOUDFRONT 1.193776 200\n",
      "148 CLOUDFRONT 1.18601 200\n",
      "149 CLOUDFRONT 1.082385 200\n",
      "150 CLOUDFRONT 1.133757 200\n",
      "151 CLOUDFRONT 1.19702 200\n",
      "152 CLOUDFRONT 1.086374 200\n",
      "153 CLOUDFRONT 1.090697 200\n",
      "154 CLOUDFRONT 1.126841 200\n",
      "155 CLOUDFRONT 1.143262 200\n",
      "156 CLOUDFRONT 1.223482 200\n",
      "157 CLOUDFRONT 1.202307 200\n",
      "158 CLOUDFRONT 1.284708 200\n",
      "159 CLOUDFRONT 1.162379 200\n",
      "160 CLOUDFRONT 1.216643 200\n",
      "161 CLOUDFRONT 1.218269 200\n",
      "162 CLOUDFRONT 1.079859 200\n",
      "163 CLOUDFRONT 1.086547 200\n",
      "164 CLOUDFRONT 1.361778 200\n",
      "165 CLOUDFRONT 1.214001 200\n",
      "166 CLOUDFRONT 1.522954 200\n",
      "167 CLOUDFRONT 2.765053 200\n",
      "168 CLOUDFRONT 1.250242 200\n",
      "169 CLOUDFRONT 1.303661 200\n",
      "170 CLOUDFRONT 1.247121 200\n",
      "171 CLOUDFRONT 1.290501 200\n",
      "172 CLOUDFRONT 1.211178 200\n",
      "173 CLOUDFRONT 1.317398 200\n",
      "174 CLOUDFRONT 1.104145 200\n",
      "175 CLOUDFRONT 1.207693 200\n",
      "176 CLOUDFRONT 1.367164 200\n",
      "177 CLOUDFRONT 1.256119 200\n",
      "178 CLOUDFRONT 1.262257 200\n",
      "179 CLOUDFRONT 1.197756 200\n",
      "180 CLOUDFRONT 1.257556 200\n",
      "181 CLOUDFRONT 1.265518 200\n",
      "182 CLOUDFRONT 1.281664 200\n",
      "183 CLOUDFRONT 1.219614 200\n",
      "184 CLOUDFRONT 1.197946 200\n",
      "185 CLOUDFRONT 1.218335 200\n",
      "186 CLOUDFRONT 1.221796 200\n",
      "187 CLOUDFRONT 1.193545 200\n",
      "188 CLOUDFRONT 1.203143 200\n",
      "189 CLOUDFRONT 1.194956 200\n",
      "190 CLOUDFRONT 1.257685 200\n",
      "191 CLOUDFRONT 1.204389 200\n",
      "192 CLOUDFRONT 1.606382 200\n",
      "193 CLOUDFRONT 1.269788 200\n",
      "194 CLOUDFRONT 1.193949 200\n",
      "195 CLOUDFRONT 1.158341 200\n",
      "196 CLOUDFRONT 1.376784 200\n",
      "197 CLOUDFRONT 1.389754 200\n"
     ]
    },
    {
     "ename": "KeyboardInterrupt",
     "evalue": "",
     "output_type": "error",
     "traceback": [
      "\u001b[0;31m---------------------------------------------------------------------------\u001b[0m",
      "\u001b[0;31mTypeError\u001b[0m                                 Traceback (most recent call last)",
      "\u001b[0;32m~/Personal/lib/python3.6/site-packages/urllib3/connectionpool.py\u001b[0m in \u001b[0;36m_make_request\u001b[0;34m(self, conn, method, url, timeout, chunked, **httplib_request_kw)\u001b[0m\n\u001b[1;32m    378\u001b[0m                 \u001b[0;31m# Python 2.7, use buffering of HTTP responses\u001b[0m\u001b[0;34m\u001b[0m\u001b[0;34m\u001b[0m\u001b[0;34m\u001b[0m\u001b[0m\n\u001b[0;32m--> 379\u001b[0;31m                 \u001b[0mhttplib_response\u001b[0m \u001b[0;34m=\u001b[0m \u001b[0mconn\u001b[0m\u001b[0;34m.\u001b[0m\u001b[0mgetresponse\u001b[0m\u001b[0;34m(\u001b[0m\u001b[0mbuffering\u001b[0m\u001b[0;34m=\u001b[0m\u001b[0;32mTrue\u001b[0m\u001b[0;34m)\u001b[0m\u001b[0;34m\u001b[0m\u001b[0;34m\u001b[0m\u001b[0m\n\u001b[0m\u001b[1;32m    380\u001b[0m             \u001b[0;32mexcept\u001b[0m \u001b[0mTypeError\u001b[0m\u001b[0;34m:\u001b[0m\u001b[0;34m\u001b[0m\u001b[0;34m\u001b[0m\u001b[0m\n",
      "\u001b[0;31mTypeError\u001b[0m: getresponse() got an unexpected keyword argument 'buffering'",
      "\nDuring handling of the above exception, another exception occurred:\n",
      "\u001b[0;31mKeyboardInterrupt\u001b[0m                         Traceback (most recent call last)",
      "\u001b[0;32m<ipython-input-3-00048650769f>\u001b[0m in \u001b[0;36m<module>\u001b[0;34m\u001b[0m\n\u001b[1;32m     16\u001b[0m     \u001b[0;32mfor\u001b[0m \u001b[0mserver\u001b[0m\u001b[0;34m,\u001b[0m \u001b[0murl\u001b[0m \u001b[0;32min\u001b[0m \u001b[0msource\u001b[0m\u001b[0;34m.\u001b[0m\u001b[0mitems\u001b[0m\u001b[0;34m(\u001b[0m\u001b[0;34m)\u001b[0m\u001b[0;34m:\u001b[0m\u001b[0;34m\u001b[0m\u001b[0;34m\u001b[0m\u001b[0m\n\u001b[1;32m     17\u001b[0m         \u001b[0;32mfor\u001b[0m \u001b[0mi\u001b[0m \u001b[0;32min\u001b[0m \u001b[0mrange\u001b[0m\u001b[0;34m(\u001b[0m\u001b[0;36m1000\u001b[0m\u001b[0;34m)\u001b[0m\u001b[0;34m:\u001b[0m\u001b[0;34m\u001b[0m\u001b[0;34m\u001b[0m\u001b[0m\n\u001b[0;32m---> 18\u001b[0;31m             \u001b[0mr\u001b[0m \u001b[0;34m=\u001b[0m \u001b[0mrequests\u001b[0m\u001b[0;34m.\u001b[0m\u001b[0mget\u001b[0m\u001b[0;34m(\u001b[0m\u001b[0murl\u001b[0m\u001b[0;34m)\u001b[0m\u001b[0;34m\u001b[0m\u001b[0;34m\u001b[0m\u001b[0m\n\u001b[0m\u001b[1;32m     19\u001b[0m             \u001b[0mtimestamp\u001b[0m \u001b[0;34m=\u001b[0m \u001b[0mdatetime\u001b[0m\u001b[0;34m.\u001b[0m\u001b[0mdatetime\u001b[0m\u001b[0;34m.\u001b[0m\u001b[0mutcnow\u001b[0m\u001b[0;34m(\u001b[0m\u001b[0;34m)\u001b[0m\u001b[0;34m.\u001b[0m\u001b[0mstrftime\u001b[0m\u001b[0;34m(\u001b[0m\u001b[0;34m'%Y-%m-%d %H:%M:%S.%f'\u001b[0m\u001b[0;34m)\u001b[0m\u001b[0;34m\u001b[0m\u001b[0;34m\u001b[0m\u001b[0m\n\u001b[1;32m     20\u001b[0m             row = [\n",
      "\u001b[0;32m~/Personal/lib/python3.6/site-packages/requests/api.py\u001b[0m in \u001b[0;36mget\u001b[0;34m(url, params, **kwargs)\u001b[0m\n\u001b[1;32m     73\u001b[0m \u001b[0;34m\u001b[0m\u001b[0m\n\u001b[1;32m     74\u001b[0m     \u001b[0mkwargs\u001b[0m\u001b[0;34m.\u001b[0m\u001b[0msetdefault\u001b[0m\u001b[0;34m(\u001b[0m\u001b[0;34m'allow_redirects'\u001b[0m\u001b[0;34m,\u001b[0m \u001b[0;32mTrue\u001b[0m\u001b[0;34m)\u001b[0m\u001b[0;34m\u001b[0m\u001b[0;34m\u001b[0m\u001b[0m\n\u001b[0;32m---> 75\u001b[0;31m     \u001b[0;32mreturn\u001b[0m \u001b[0mrequest\u001b[0m\u001b[0;34m(\u001b[0m\u001b[0;34m'get'\u001b[0m\u001b[0;34m,\u001b[0m \u001b[0murl\u001b[0m\u001b[0;34m,\u001b[0m \u001b[0mparams\u001b[0m\u001b[0;34m=\u001b[0m\u001b[0mparams\u001b[0m\u001b[0;34m,\u001b[0m \u001b[0;34m**\u001b[0m\u001b[0mkwargs\u001b[0m\u001b[0;34m)\u001b[0m\u001b[0;34m\u001b[0m\u001b[0;34m\u001b[0m\u001b[0m\n\u001b[0m\u001b[1;32m     76\u001b[0m \u001b[0;34m\u001b[0m\u001b[0m\n\u001b[1;32m     77\u001b[0m \u001b[0;34m\u001b[0m\u001b[0m\n",
      "\u001b[0;32m~/Personal/lib/python3.6/site-packages/requests/api.py\u001b[0m in \u001b[0;36mrequest\u001b[0;34m(method, url, **kwargs)\u001b[0m\n\u001b[1;32m     58\u001b[0m     \u001b[0;31m# cases, and look like a memory leak in others.\u001b[0m\u001b[0;34m\u001b[0m\u001b[0;34m\u001b[0m\u001b[0;34m\u001b[0m\u001b[0m\n\u001b[1;32m     59\u001b[0m     \u001b[0;32mwith\u001b[0m \u001b[0msessions\u001b[0m\u001b[0;34m.\u001b[0m\u001b[0mSession\u001b[0m\u001b[0;34m(\u001b[0m\u001b[0;34m)\u001b[0m \u001b[0;32mas\u001b[0m \u001b[0msession\u001b[0m\u001b[0;34m:\u001b[0m\u001b[0;34m\u001b[0m\u001b[0;34m\u001b[0m\u001b[0m\n\u001b[0;32m---> 60\u001b[0;31m         \u001b[0;32mreturn\u001b[0m \u001b[0msession\u001b[0m\u001b[0;34m.\u001b[0m\u001b[0mrequest\u001b[0m\u001b[0;34m(\u001b[0m\u001b[0mmethod\u001b[0m\u001b[0;34m=\u001b[0m\u001b[0mmethod\u001b[0m\u001b[0;34m,\u001b[0m \u001b[0murl\u001b[0m\u001b[0;34m=\u001b[0m\u001b[0murl\u001b[0m\u001b[0;34m,\u001b[0m \u001b[0;34m**\u001b[0m\u001b[0mkwargs\u001b[0m\u001b[0;34m)\u001b[0m\u001b[0;34m\u001b[0m\u001b[0;34m\u001b[0m\u001b[0m\n\u001b[0m\u001b[1;32m     61\u001b[0m \u001b[0;34m\u001b[0m\u001b[0m\n\u001b[1;32m     62\u001b[0m \u001b[0;34m\u001b[0m\u001b[0m\n",
      "\u001b[0;32m~/Personal/lib/python3.6/site-packages/requests/sessions.py\u001b[0m in \u001b[0;36mrequest\u001b[0;34m(self, method, url, params, data, headers, cookies, files, auth, timeout, allow_redirects, proxies, hooks, stream, verify, cert, json)\u001b[0m\n\u001b[1;32m    531\u001b[0m         }\n\u001b[1;32m    532\u001b[0m         \u001b[0msend_kwargs\u001b[0m\u001b[0;34m.\u001b[0m\u001b[0mupdate\u001b[0m\u001b[0;34m(\u001b[0m\u001b[0msettings\u001b[0m\u001b[0;34m)\u001b[0m\u001b[0;34m\u001b[0m\u001b[0;34m\u001b[0m\u001b[0m\n\u001b[0;32m--> 533\u001b[0;31m         \u001b[0mresp\u001b[0m \u001b[0;34m=\u001b[0m \u001b[0mself\u001b[0m\u001b[0;34m.\u001b[0m\u001b[0msend\u001b[0m\u001b[0;34m(\u001b[0m\u001b[0mprep\u001b[0m\u001b[0;34m,\u001b[0m \u001b[0;34m**\u001b[0m\u001b[0msend_kwargs\u001b[0m\u001b[0;34m)\u001b[0m\u001b[0;34m\u001b[0m\u001b[0;34m\u001b[0m\u001b[0m\n\u001b[0m\u001b[1;32m    534\u001b[0m \u001b[0;34m\u001b[0m\u001b[0m\n\u001b[1;32m    535\u001b[0m         \u001b[0;32mreturn\u001b[0m \u001b[0mresp\u001b[0m\u001b[0;34m\u001b[0m\u001b[0;34m\u001b[0m\u001b[0m\n",
      "\u001b[0;32m~/Personal/lib/python3.6/site-packages/requests/sessions.py\u001b[0m in \u001b[0;36msend\u001b[0;34m(self, request, **kwargs)\u001b[0m\n\u001b[1;32m    644\u001b[0m \u001b[0;34m\u001b[0m\u001b[0m\n\u001b[1;32m    645\u001b[0m         \u001b[0;31m# Send the request\u001b[0m\u001b[0;34m\u001b[0m\u001b[0;34m\u001b[0m\u001b[0;34m\u001b[0m\u001b[0m\n\u001b[0;32m--> 646\u001b[0;31m         \u001b[0mr\u001b[0m \u001b[0;34m=\u001b[0m \u001b[0madapter\u001b[0m\u001b[0;34m.\u001b[0m\u001b[0msend\u001b[0m\u001b[0;34m(\u001b[0m\u001b[0mrequest\u001b[0m\u001b[0;34m,\u001b[0m \u001b[0;34m**\u001b[0m\u001b[0mkwargs\u001b[0m\u001b[0;34m)\u001b[0m\u001b[0;34m\u001b[0m\u001b[0;34m\u001b[0m\u001b[0m\n\u001b[0m\u001b[1;32m    647\u001b[0m \u001b[0;34m\u001b[0m\u001b[0m\n\u001b[1;32m    648\u001b[0m         \u001b[0;31m# Total elapsed time of the request (approximately)\u001b[0m\u001b[0;34m\u001b[0m\u001b[0;34m\u001b[0m\u001b[0;34m\u001b[0m\u001b[0m\n",
      "\u001b[0;32m~/Personal/lib/python3.6/site-packages/requests/adapters.py\u001b[0m in \u001b[0;36msend\u001b[0;34m(self, request, stream, timeout, verify, cert, proxies)\u001b[0m\n\u001b[1;32m    447\u001b[0m                     \u001b[0mdecode_content\u001b[0m\u001b[0;34m=\u001b[0m\u001b[0;32mFalse\u001b[0m\u001b[0;34m,\u001b[0m\u001b[0;34m\u001b[0m\u001b[0;34m\u001b[0m\u001b[0m\n\u001b[1;32m    448\u001b[0m                     \u001b[0mretries\u001b[0m\u001b[0;34m=\u001b[0m\u001b[0mself\u001b[0m\u001b[0;34m.\u001b[0m\u001b[0mmax_retries\u001b[0m\u001b[0;34m,\u001b[0m\u001b[0;34m\u001b[0m\u001b[0;34m\u001b[0m\u001b[0m\n\u001b[0;32m--> 449\u001b[0;31m                     \u001b[0mtimeout\u001b[0m\u001b[0;34m=\u001b[0m\u001b[0mtimeout\u001b[0m\u001b[0;34m\u001b[0m\u001b[0;34m\u001b[0m\u001b[0m\n\u001b[0m\u001b[1;32m    450\u001b[0m                 )\n\u001b[1;32m    451\u001b[0m \u001b[0;34m\u001b[0m\u001b[0m\n",
      "\u001b[0;32m~/Personal/lib/python3.6/site-packages/urllib3/connectionpool.py\u001b[0m in \u001b[0;36murlopen\u001b[0;34m(self, method, url, body, headers, retries, redirect, assert_same_host, timeout, pool_timeout, release_conn, chunked, body_pos, **response_kw)\u001b[0m\n\u001b[1;32m    601\u001b[0m                                                   \u001b[0mtimeout\u001b[0m\u001b[0;34m=\u001b[0m\u001b[0mtimeout_obj\u001b[0m\u001b[0;34m,\u001b[0m\u001b[0;34m\u001b[0m\u001b[0;34m\u001b[0m\u001b[0m\n\u001b[1;32m    602\u001b[0m                                                   \u001b[0mbody\u001b[0m\u001b[0;34m=\u001b[0m\u001b[0mbody\u001b[0m\u001b[0;34m,\u001b[0m \u001b[0mheaders\u001b[0m\u001b[0;34m=\u001b[0m\u001b[0mheaders\u001b[0m\u001b[0;34m,\u001b[0m\u001b[0;34m\u001b[0m\u001b[0;34m\u001b[0m\u001b[0m\n\u001b[0;32m--> 603\u001b[0;31m                                                   chunked=chunked)\n\u001b[0m\u001b[1;32m    604\u001b[0m \u001b[0;34m\u001b[0m\u001b[0m\n\u001b[1;32m    605\u001b[0m             \u001b[0;31m# If we're going to release the connection in ``finally:``, then\u001b[0m\u001b[0;34m\u001b[0m\u001b[0;34m\u001b[0m\u001b[0;34m\u001b[0m\u001b[0m\n",
      "\u001b[0;32m~/Personal/lib/python3.6/site-packages/urllib3/connectionpool.py\u001b[0m in \u001b[0;36m_make_request\u001b[0;34m(self, conn, method, url, timeout, chunked, **httplib_request_kw)\u001b[0m\n\u001b[1;32m    381\u001b[0m                 \u001b[0;31m# Python 3\u001b[0m\u001b[0;34m\u001b[0m\u001b[0;34m\u001b[0m\u001b[0;34m\u001b[0m\u001b[0m\n\u001b[1;32m    382\u001b[0m                 \u001b[0;32mtry\u001b[0m\u001b[0;34m:\u001b[0m\u001b[0;34m\u001b[0m\u001b[0;34m\u001b[0m\u001b[0m\n\u001b[0;32m--> 383\u001b[0;31m                     \u001b[0mhttplib_response\u001b[0m \u001b[0;34m=\u001b[0m \u001b[0mconn\u001b[0m\u001b[0;34m.\u001b[0m\u001b[0mgetresponse\u001b[0m\u001b[0;34m(\u001b[0m\u001b[0;34m)\u001b[0m\u001b[0;34m\u001b[0m\u001b[0;34m\u001b[0m\u001b[0m\n\u001b[0m\u001b[1;32m    384\u001b[0m                 \u001b[0;32mexcept\u001b[0m \u001b[0mException\u001b[0m \u001b[0;32mas\u001b[0m \u001b[0me\u001b[0m\u001b[0;34m:\u001b[0m\u001b[0;34m\u001b[0m\u001b[0;34m\u001b[0m\u001b[0m\n\u001b[1;32m    385\u001b[0m                     \u001b[0;31m# Remove the TypeError from the exception chain in Python 3;\u001b[0m\u001b[0;34m\u001b[0m\u001b[0;34m\u001b[0m\u001b[0;34m\u001b[0m\u001b[0m\n",
      "\u001b[0;32m/usr/lib/python3.6/http/client.py\u001b[0m in \u001b[0;36mgetresponse\u001b[0;34m(self)\u001b[0m\n\u001b[1;32m   1344\u001b[0m         \u001b[0;32mtry\u001b[0m\u001b[0;34m:\u001b[0m\u001b[0;34m\u001b[0m\u001b[0;34m\u001b[0m\u001b[0m\n\u001b[1;32m   1345\u001b[0m             \u001b[0;32mtry\u001b[0m\u001b[0;34m:\u001b[0m\u001b[0;34m\u001b[0m\u001b[0;34m\u001b[0m\u001b[0m\n\u001b[0;32m-> 1346\u001b[0;31m                 \u001b[0mresponse\u001b[0m\u001b[0;34m.\u001b[0m\u001b[0mbegin\u001b[0m\u001b[0;34m(\u001b[0m\u001b[0;34m)\u001b[0m\u001b[0;34m\u001b[0m\u001b[0;34m\u001b[0m\u001b[0m\n\u001b[0m\u001b[1;32m   1347\u001b[0m             \u001b[0;32mexcept\u001b[0m \u001b[0mConnectionError\u001b[0m\u001b[0;34m:\u001b[0m\u001b[0;34m\u001b[0m\u001b[0;34m\u001b[0m\u001b[0m\n\u001b[1;32m   1348\u001b[0m                 \u001b[0mself\u001b[0m\u001b[0;34m.\u001b[0m\u001b[0mclose\u001b[0m\u001b[0;34m(\u001b[0m\u001b[0;34m)\u001b[0m\u001b[0;34m\u001b[0m\u001b[0;34m\u001b[0m\u001b[0m\n",
      "\u001b[0;32m/usr/lib/python3.6/http/client.py\u001b[0m in \u001b[0;36mbegin\u001b[0;34m(self)\u001b[0m\n\u001b[1;32m    305\u001b[0m         \u001b[0;31m# read until we get a non-100 response\u001b[0m\u001b[0;34m\u001b[0m\u001b[0;34m\u001b[0m\u001b[0;34m\u001b[0m\u001b[0m\n\u001b[1;32m    306\u001b[0m         \u001b[0;32mwhile\u001b[0m \u001b[0;32mTrue\u001b[0m\u001b[0;34m:\u001b[0m\u001b[0;34m\u001b[0m\u001b[0;34m\u001b[0m\u001b[0m\n\u001b[0;32m--> 307\u001b[0;31m             \u001b[0mversion\u001b[0m\u001b[0;34m,\u001b[0m \u001b[0mstatus\u001b[0m\u001b[0;34m,\u001b[0m \u001b[0mreason\u001b[0m \u001b[0;34m=\u001b[0m \u001b[0mself\u001b[0m\u001b[0;34m.\u001b[0m\u001b[0m_read_status\u001b[0m\u001b[0;34m(\u001b[0m\u001b[0;34m)\u001b[0m\u001b[0;34m\u001b[0m\u001b[0;34m\u001b[0m\u001b[0m\n\u001b[0m\u001b[1;32m    308\u001b[0m             \u001b[0;32mif\u001b[0m \u001b[0mstatus\u001b[0m \u001b[0;34m!=\u001b[0m \u001b[0mCONTINUE\u001b[0m\u001b[0;34m:\u001b[0m\u001b[0;34m\u001b[0m\u001b[0;34m\u001b[0m\u001b[0m\n\u001b[1;32m    309\u001b[0m                 \u001b[0;32mbreak\u001b[0m\u001b[0;34m\u001b[0m\u001b[0;34m\u001b[0m\u001b[0m\n",
      "\u001b[0;32m/usr/lib/python3.6/http/client.py\u001b[0m in \u001b[0;36m_read_status\u001b[0;34m(self)\u001b[0m\n\u001b[1;32m    266\u001b[0m \u001b[0;34m\u001b[0m\u001b[0m\n\u001b[1;32m    267\u001b[0m     \u001b[0;32mdef\u001b[0m \u001b[0m_read_status\u001b[0m\u001b[0;34m(\u001b[0m\u001b[0mself\u001b[0m\u001b[0;34m)\u001b[0m\u001b[0;34m:\u001b[0m\u001b[0;34m\u001b[0m\u001b[0;34m\u001b[0m\u001b[0m\n\u001b[0;32m--> 268\u001b[0;31m         \u001b[0mline\u001b[0m \u001b[0;34m=\u001b[0m \u001b[0mstr\u001b[0m\u001b[0;34m(\u001b[0m\u001b[0mself\u001b[0m\u001b[0;34m.\u001b[0m\u001b[0mfp\u001b[0m\u001b[0;34m.\u001b[0m\u001b[0mreadline\u001b[0m\u001b[0;34m(\u001b[0m\u001b[0m_MAXLINE\u001b[0m \u001b[0;34m+\u001b[0m \u001b[0;36m1\u001b[0m\u001b[0;34m)\u001b[0m\u001b[0;34m,\u001b[0m \u001b[0;34m\"iso-8859-1\"\u001b[0m\u001b[0;34m)\u001b[0m\u001b[0;34m\u001b[0m\u001b[0;34m\u001b[0m\u001b[0m\n\u001b[0m\u001b[1;32m    269\u001b[0m         \u001b[0;32mif\u001b[0m \u001b[0mlen\u001b[0m\u001b[0;34m(\u001b[0m\u001b[0mline\u001b[0m\u001b[0;34m)\u001b[0m \u001b[0;34m>\u001b[0m \u001b[0m_MAXLINE\u001b[0m\u001b[0;34m:\u001b[0m\u001b[0;34m\u001b[0m\u001b[0;34m\u001b[0m\u001b[0m\n\u001b[1;32m    270\u001b[0m             \u001b[0;32mraise\u001b[0m \u001b[0mLineTooLong\u001b[0m\u001b[0;34m(\u001b[0m\u001b[0;34m\"status line\"\u001b[0m\u001b[0;34m)\u001b[0m\u001b[0;34m\u001b[0m\u001b[0;34m\u001b[0m\u001b[0m\n",
      "\u001b[0;32m/usr/lib/python3.6/socket.py\u001b[0m in \u001b[0;36mreadinto\u001b[0;34m(self, b)\u001b[0m\n\u001b[1;32m    584\u001b[0m         \u001b[0;32mwhile\u001b[0m \u001b[0;32mTrue\u001b[0m\u001b[0;34m:\u001b[0m\u001b[0;34m\u001b[0m\u001b[0;34m\u001b[0m\u001b[0m\n\u001b[1;32m    585\u001b[0m             \u001b[0;32mtry\u001b[0m\u001b[0;34m:\u001b[0m\u001b[0;34m\u001b[0m\u001b[0;34m\u001b[0m\u001b[0m\n\u001b[0;32m--> 586\u001b[0;31m                 \u001b[0;32mreturn\u001b[0m \u001b[0mself\u001b[0m\u001b[0;34m.\u001b[0m\u001b[0m_sock\u001b[0m\u001b[0;34m.\u001b[0m\u001b[0mrecv_into\u001b[0m\u001b[0;34m(\u001b[0m\u001b[0mb\u001b[0m\u001b[0;34m)\u001b[0m\u001b[0;34m\u001b[0m\u001b[0;34m\u001b[0m\u001b[0m\n\u001b[0m\u001b[1;32m    587\u001b[0m             \u001b[0;32mexcept\u001b[0m \u001b[0mtimeout\u001b[0m\u001b[0;34m:\u001b[0m\u001b[0;34m\u001b[0m\u001b[0;34m\u001b[0m\u001b[0m\n\u001b[1;32m    588\u001b[0m                 \u001b[0mself\u001b[0m\u001b[0;34m.\u001b[0m\u001b[0m_timeout_occurred\u001b[0m \u001b[0;34m=\u001b[0m \u001b[0;32mTrue\u001b[0m\u001b[0;34m\u001b[0m\u001b[0;34m\u001b[0m\u001b[0m\n",
      "\u001b[0;32m/usr/lib/python3.6/ssl.py\u001b[0m in \u001b[0;36mrecv_into\u001b[0;34m(self, buffer, nbytes, flags)\u001b[0m\n\u001b[1;32m   1010\u001b[0m                   \u001b[0;34m\"non-zero flags not allowed in calls to recv_into() on %s\"\u001b[0m \u001b[0;34m%\u001b[0m\u001b[0;34m\u001b[0m\u001b[0;34m\u001b[0m\u001b[0m\n\u001b[1;32m   1011\u001b[0m                   self.__class__)\n\u001b[0;32m-> 1012\u001b[0;31m             \u001b[0;32mreturn\u001b[0m \u001b[0mself\u001b[0m\u001b[0;34m.\u001b[0m\u001b[0mread\u001b[0m\u001b[0;34m(\u001b[0m\u001b[0mnbytes\u001b[0m\u001b[0;34m,\u001b[0m \u001b[0mbuffer\u001b[0m\u001b[0;34m)\u001b[0m\u001b[0;34m\u001b[0m\u001b[0;34m\u001b[0m\u001b[0m\n\u001b[0m\u001b[1;32m   1013\u001b[0m         \u001b[0;32melse\u001b[0m\u001b[0;34m:\u001b[0m\u001b[0;34m\u001b[0m\u001b[0;34m\u001b[0m\u001b[0m\n\u001b[1;32m   1014\u001b[0m             \u001b[0;32mreturn\u001b[0m \u001b[0msocket\u001b[0m\u001b[0;34m.\u001b[0m\u001b[0mrecv_into\u001b[0m\u001b[0;34m(\u001b[0m\u001b[0mself\u001b[0m\u001b[0;34m,\u001b[0m \u001b[0mbuffer\u001b[0m\u001b[0;34m,\u001b[0m \u001b[0mnbytes\u001b[0m\u001b[0;34m,\u001b[0m \u001b[0mflags\u001b[0m\u001b[0;34m)\u001b[0m\u001b[0;34m\u001b[0m\u001b[0;34m\u001b[0m\u001b[0m\n",
      "\u001b[0;32m/usr/lib/python3.6/ssl.py\u001b[0m in \u001b[0;36mread\u001b[0;34m(self, len, buffer)\u001b[0m\n\u001b[1;32m    872\u001b[0m             \u001b[0;32mraise\u001b[0m \u001b[0mValueError\u001b[0m\u001b[0;34m(\u001b[0m\u001b[0;34m\"Read on closed or unwrapped SSL socket.\"\u001b[0m\u001b[0;34m)\u001b[0m\u001b[0;34m\u001b[0m\u001b[0;34m\u001b[0m\u001b[0m\n\u001b[1;32m    873\u001b[0m         \u001b[0;32mtry\u001b[0m\u001b[0;34m:\u001b[0m\u001b[0;34m\u001b[0m\u001b[0;34m\u001b[0m\u001b[0m\n\u001b[0;32m--> 874\u001b[0;31m             \u001b[0;32mreturn\u001b[0m \u001b[0mself\u001b[0m\u001b[0;34m.\u001b[0m\u001b[0m_sslobj\u001b[0m\u001b[0;34m.\u001b[0m\u001b[0mread\u001b[0m\u001b[0;34m(\u001b[0m\u001b[0mlen\u001b[0m\u001b[0;34m,\u001b[0m \u001b[0mbuffer\u001b[0m\u001b[0;34m)\u001b[0m\u001b[0;34m\u001b[0m\u001b[0;34m\u001b[0m\u001b[0m\n\u001b[0m\u001b[1;32m    875\u001b[0m         \u001b[0;32mexcept\u001b[0m \u001b[0mSSLError\u001b[0m \u001b[0;32mas\u001b[0m \u001b[0mx\u001b[0m\u001b[0;34m:\u001b[0m\u001b[0;34m\u001b[0m\u001b[0;34m\u001b[0m\u001b[0m\n\u001b[1;32m    876\u001b[0m             \u001b[0;32mif\u001b[0m \u001b[0mx\u001b[0m\u001b[0;34m.\u001b[0m\u001b[0margs\u001b[0m\u001b[0;34m[\u001b[0m\u001b[0;36m0\u001b[0m\u001b[0;34m]\u001b[0m \u001b[0;34m==\u001b[0m \u001b[0mSSL_ERROR_EOF\u001b[0m \u001b[0;32mand\u001b[0m \u001b[0mself\u001b[0m\u001b[0;34m.\u001b[0m\u001b[0msuppress_ragged_eofs\u001b[0m\u001b[0;34m:\u001b[0m\u001b[0;34m\u001b[0m\u001b[0;34m\u001b[0m\u001b[0m\n",
      "\u001b[0;32m/usr/lib/python3.6/ssl.py\u001b[0m in \u001b[0;36mread\u001b[0;34m(self, len, buffer)\u001b[0m\n\u001b[1;32m    629\u001b[0m         \"\"\"\n\u001b[1;32m    630\u001b[0m         \u001b[0;32mif\u001b[0m \u001b[0mbuffer\u001b[0m \u001b[0;32mis\u001b[0m \u001b[0;32mnot\u001b[0m \u001b[0;32mNone\u001b[0m\u001b[0;34m:\u001b[0m\u001b[0;34m\u001b[0m\u001b[0;34m\u001b[0m\u001b[0m\n\u001b[0;32m--> 631\u001b[0;31m             \u001b[0mv\u001b[0m \u001b[0;34m=\u001b[0m \u001b[0mself\u001b[0m\u001b[0;34m.\u001b[0m\u001b[0m_sslobj\u001b[0m\u001b[0;34m.\u001b[0m\u001b[0mread\u001b[0m\u001b[0;34m(\u001b[0m\u001b[0mlen\u001b[0m\u001b[0;34m,\u001b[0m \u001b[0mbuffer\u001b[0m\u001b[0;34m)\u001b[0m\u001b[0;34m\u001b[0m\u001b[0;34m\u001b[0m\u001b[0m\n\u001b[0m\u001b[1;32m    632\u001b[0m         \u001b[0;32melse\u001b[0m\u001b[0;34m:\u001b[0m\u001b[0;34m\u001b[0m\u001b[0;34m\u001b[0m\u001b[0m\n\u001b[1;32m    633\u001b[0m             \u001b[0mv\u001b[0m \u001b[0;34m=\u001b[0m \u001b[0mself\u001b[0m\u001b[0;34m.\u001b[0m\u001b[0m_sslobj\u001b[0m\u001b[0;34m.\u001b[0m\u001b[0mread\u001b[0m\u001b[0;34m(\u001b[0m\u001b[0mlen\u001b[0m\u001b[0;34m)\u001b[0m\u001b[0;34m\u001b[0m\u001b[0;34m\u001b[0m\u001b[0m\n",
      "\u001b[0;31mKeyboardInterrupt\u001b[0m: "
     ]
    }
   ],
   "source": [
    "with open(\"../data/sg-vpn-1-data.csv\", \"w\") as f:\n",
    "\n",
    "    n=1000\n",
    "    req_az = \"sg-vpn-1\" # Request coming from local machine\n",
    "    source = {\n",
    "        \"CLOUDFRONT\": \"https://df3k2q0k3bu2n.cloudfront.net/static/payload\",\n",
    "        \"S3\": \"https://amber-static.s3-ap-southeast-1.amazonaws.com/static/payload\",\n",
    "        \"NGINX\": \"http://3.0.61.50/payload\",\n",
    "    }\n",
    "    \n",
    "    headers = \"timestamp,url,server,resp_time,status_code,size,origin\"\n",
    "    f.write(headers)\n",
    "    f.write(\"\\n\")\n",
    "    \n",
    "    # Iterate through each mode of serving payload\n",
    "    for server, url in source.items():    \n",
    "        for i in range(1000):\n",
    "            r = requests.get(url)\n",
    "            timestamp = datetime.datetime.utcnow().strftime('%Y-%m-%d %H:%M:%S.%f')\n",
    "            row = [\n",
    "                timestamp, \n",
    "                url, \n",
    "                server, \n",
    "                str(r.elapsed.total_seconds()), \n",
    "                str(r.status_code), \n",
    "                str(len(r.content)), \n",
    "                req_az\n",
    "            ]\n",
    "            f.write(\",\".join(row))\n",
    "            f.write(\"\\n\")\n",
    "            print(i, server, r.elapsed.total_seconds(), r.status_code)"
   ]
  },
  {
   "cell_type": "code",
   "execution_count": 55,
   "metadata": {},
   "outputs": [],
   "source": [
    "df_vpn_1 = pd.read_csv(\"../data/sg-vpn-1-data.csv\")\n",
    "df_vpn_2 = pd.read_csv(\"../data/sg-vpn-2-data.csv\")\n",
    "df_vpn_3 = pd.read_csv(\"../data/sg-vpn-3-data.csv\")"
   ]
  },
  {
   "cell_type": "code",
   "execution_count": 56,
   "metadata": {},
   "outputs": [],
   "source": [
    "df =df_vpn_1.append(df_vpn_2.append(df_vpn_3))"
   ]
  },
  {
   "cell_type": "code",
   "execution_count": 57,
   "metadata": {
    "scrolled": true
   },
   "outputs": [
    {
     "data": {
      "text/plain": [
       "(9000, 7)"
      ]
     },
     "execution_count": 57,
     "metadata": {},
     "output_type": "execute_result"
    }
   ],
   "source": [
    "df.shape"
   ]
  },
  {
   "cell_type": "code",
   "execution_count": 58,
   "metadata": {},
   "outputs": [],
   "source": [
    "df['resp_time'] = df['resp_time'] * 1000 # Convert to milliseconds\n",
    "df['ln_resp_time'] = np.log(df['resp_time'])"
   ]
  },
  {
   "cell_type": "code",
   "execution_count": 59,
   "metadata": {},
   "outputs": [
    {
     "data": {
      "text/plain": [
       "200    9000\n",
       "Name: status_code, dtype: int64"
      ]
     },
     "execution_count": 59,
     "metadata": {},
     "output_type": "execute_result"
    }
   ],
   "source": [
    "df['status_code'].value_counts()"
   ]
  },
  {
   "cell_type": "code",
   "execution_count": 60,
   "metadata": {
    "scrolled": true
   },
   "outputs": [
    {
     "data": {
      "text/plain": [
       "256000    9000\n",
       "Name: size, dtype: int64"
      ]
     },
     "execution_count": 60,
     "metadata": {},
     "output_type": "execute_result"
    }
   ],
   "source": [
    "df['size'].value_counts()"
   ]
  },
  {
   "cell_type": "code",
   "execution_count": 61,
   "metadata": {},
   "outputs": [
    {
     "data": {
      "text/plain": [
       "sg-vpn-2    3000\n",
       "sg-vpn-3    3000\n",
       "sg-vpn-1    3000\n",
       "Name: origin, dtype: int64"
      ]
     },
     "execution_count": 61,
     "metadata": {},
     "output_type": "execute_result"
    }
   ],
   "source": [
    "df['origin'].value_counts()"
   ]
  },
  {
   "cell_type": "code",
   "execution_count": 9,
   "metadata": {},
   "outputs": [
    {
     "data": {
      "image/png": "[encoded data removed]",
      "text/plain": [
       "<Figure size 1080x360 with 2 Axes>"
      ]
     },
     "metadata": {
      "needs_background": "light"
     },
     "output_type": "display_data"
    }
   ],
   "source": [
    "# Plot distribution of response times from local machine\n",
    "\n",
    "cdn, ln_cdn = zip(*df[['resp_time','ln_resp_time']].loc[df['server']=='CLOUDFRONT'].values)\n",
    "s3, ln_s3 = zip(*df[['resp_time','ln_resp_time']].loc[df['server']=='S3'].values)\n",
    "nginx, ln_nginx = zip(*df[['resp_time','ln_resp_time']].loc[df['server']=='NGINX'].values)\n",
    "\n",
    "bins = np.linspace(0, df['resp_time'].quantile(0.999), 100) # Less outliers\n",
    "ln_bins = np.linspace(df['ln_resp_time'].min(), df['ln_resp_time'].quantile(0.999), 100)\n",
    "\n",
    "fig, (ax1, ax2) = plt.subplots(1,2, figsize=(15,5))\n",
    "\n",
    "ax1.hist(cdn, bins=bins, label='AWS CloudFront CDN')\n",
    "ax1.hist(s3, bins=bins, label='AWS S3')\n",
    "ax1.hist(nginx, bins=bins, label='NGINX')\n",
    "ax1.set_title('Distribution of Response Times, milliseconds \\n Request origin: local machine', fontsize=12, fontweight='bold')\n",
    "ax1.legend()\n",
    "ax1.set_xlabel(\"Response Time (ms)\", fontsize=12)\n",
    "\n",
    "ax2.hist(ln_cdn, bins=ln_bins, label='AWS CloudFront CDN')\n",
    "ax2.hist(ln_s3, bins=ln_bins, label='AWS S3')\n",
    "ax2.hist(ln_nginx, bins=ln_bins, label='NGINX')\n",
    "ax2.set_title('Distribution of log Response Times, milliseconds \\n Request origin: local machine', fontsize=12, fontweight='bold')\n",
    "ax2.legend()\n",
    "ax2.set_xlabel(\"Log Response Time (ms)\", fontsize=12)\n",
    "\n",
    "plt.show()"
   ]
  },
  {
   "cell_type": "code",
   "execution_count": 12,
   "metadata": {},
   "outputs": [
    {
     "ename": "AttributeError",
     "evalue": "'tuple' object has no attribute 'var'",
     "output_type": "error",
     "traceback": [
      "\u001b[0;31m---------------------------------------------------------------------------\u001b[0m",
      "\u001b[0;31mAttributeError\u001b[0m                            Traceback (most recent call last)",
      "\u001b[0;32m<ipython-input-12-df4e41103f2f>\u001b[0m in \u001b[0;36m<module>\u001b[0;34m\u001b[0m\n\u001b[0;32m----> 1\u001b[0;31m \u001b[0mvar_ln_cdn\u001b[0m \u001b[0;34m=\u001b[0m \u001b[0mln_cdn\u001b[0m\u001b[0;34m.\u001b[0m\u001b[0mvar\u001b[0m\u001b[0;34m(\u001b[0m\u001b[0mddof\u001b[0m\u001b[0;34m=\u001b[0m\u001b[0;36m1\u001b[0m\u001b[0;34m)\u001b[0m\u001b[0;34m\u001b[0m\u001b[0;34m\u001b[0m\u001b[0m\n\u001b[0m\u001b[1;32m      2\u001b[0m \u001b[0mvar_ln_s3\u001b[0m \u001b[0;34m=\u001b[0m \u001b[0mln_s3\u001b[0m\u001b[0;34m.\u001b[0m\u001b[0mvar\u001b[0m\u001b[0;34m(\u001b[0m\u001b[0mddof\u001b[0m\u001b[0;34m=\u001b[0m\u001b[0;36m1\u001b[0m\u001b[0;34m)\u001b[0m\u001b[0;34m\u001b[0m\u001b[0;34m\u001b[0m\u001b[0m\n\u001b[1;32m      3\u001b[0m \u001b[0mvar_ln_nginx\u001b[0m \u001b[0;34m=\u001b[0m \u001b[0mln_nginx\u001b[0m\u001b[0;34m.\u001b[0m\u001b[0mvar\u001b[0m\u001b[0;34m(\u001b[0m\u001b[0mddof\u001b[0m\u001b[0;34m=\u001b[0m\u001b[0;36m1\u001b[0m\u001b[0;34m)\u001b[0m\u001b[0;34m\u001b[0m\u001b[0;34m\u001b[0m\u001b[0m\n",
      "\u001b[0;31mAttributeError\u001b[0m: 'tuple' object has no attribute 'var'"
     ]
    }
   ],
   "source": [
    "var_ln_cdn = list(ln_cdn).var(ddof=1)\n",
    "var_ln_s3 = ln_s3.var(ddof=1)\n",
    "var_ln_nginx = ln_nginx.var(ddof=1)"
   ]
  },
  {
   "cell_type": "code",
   "execution_count": null,
   "metadata": {},
   "outputs": [],
   "source": [
    "s = np.sqrt((var_ln_nginx+var_ln_s3)/2)"
   ]
  },
  {
   "cell_type": "code",
   "execution_count": null,
   "metadata": {},
   "outputs": [],
   "source": [
    "t = (ln_nginx.mean() - ln_s3.mean())/(s*np.sqrt(2.0/1000))"
   ]
  },
  {
   "cell_type": "code",
   "execution_count": null,
   "metadata": {},
   "outputs": [],
   "source": [
    "t"
   ]
  },
  {
   "cell_type": "code",
   "execution_count": 473,
   "metadata": {},
   "outputs": [],
   "source": [
    "df = 2*(1000-2)"
   ]
  },
  {
   "cell_type": "code",
   "execution_count": 474,
   "metadata": {},
   "outputs": [],
   "source": [
    "p = 1 - stats.t.cdf(t, df=df)"
   ]
  },
  {
   "cell_type": "code",
   "execution_count": 475,
   "metadata": {},
   "outputs": [
    {
     "data": {
      "text/plain": [
       "1.0"
      ]
     },
     "execution_count": 475,
     "metadata": {},
     "output_type": "execute_result"
    }
   ],
   "source": [
    "p"
   ]
  },
  {
   "cell_type": "code",
   "execution_count": 382,
   "metadata": {},
   "outputs": [],
   "source": [
    "t2, p2 = stats.ttest_ind(ln_nginx, ln_s3, equal_var=False)"
   ]
  },
  {
   "cell_type": "code",
   "execution_count": 383,
   "metadata": {},
   "outputs": [
    {
     "data": {
      "text/plain": [
       "-158.75436806449343"
      ]
     },
     "execution_count": 383,
     "metadata": {},
     "output_type": "execute_result"
    }
   ],
   "source": [
    "t2"
   ]
  },
  {
   "cell_type": "code",
   "execution_count": 384,
   "metadata": {},
   "outputs": [
    {
     "data": {
      "text/plain": [
       "0.0"
      ]
     },
     "execution_count": 384,
     "metadata": {},
     "output_type": "execute_result"
    }
   ],
   "source": [
    "p2"
   ]
  },
  {
   "cell_type": "code",
   "execution_count": null,
   "metadata": {},
   "outputs": [],
   "source": []
  },
  {
   "cell_type": "markdown",
   "metadata": {},
   "source": [
    "## Comparing speeds from different locations"
   ]
  },
  {
   "cell_type": "code",
   "execution_count": 74,
   "metadata": {},
   "outputs": [],
   "source": [
    "df = pd.read_csv(\"../data/local-data.csv\")\n",
    "df_a = pd.read_csv(\"../data/ap-southeast-1a-data.csv\")\n",
    "df_b = pd.read_csv(\"../data/ap-southeast-1b-data.csv\")\n",
    "df_c = pd.read_csv(\"../data/ap-southeast-1c-data.csv\")"
   ]
  },
  {
   "cell_type": "code",
   "execution_count": 75,
   "metadata": {},
   "outputs": [],
   "source": [
    "df_az = df_a.append(df_b).append(df_c)"
   ]
  },
  {
   "cell_type": "code",
   "execution_count": 76,
   "metadata": {
    "scrolled": false
   },
   "outputs": [
    {
     "data": {
      "text/plain": [
       "(9000, 7)"
      ]
     },
     "execution_count": 76,
     "metadata": {},
     "output_type": "execute_result"
    }
   ],
   "source": [
    "df_az.shape"
   ]
  },
  {
   "cell_type": "code",
   "execution_count": 77,
   "metadata": {},
   "outputs": [],
   "source": [
    "df_az['resp_time'] = df_az['resp_time'] * 1000 # Convert to milliseconds\n",
    "df_az['ln_resp_time'] = np.log(df_az['resp_time'])"
   ]
  },
  {
   "cell_type": "code",
   "execution_count": 78,
   "metadata": {},
   "outputs": [
    {
     "data": {
      "image/png": "[encoded data removed]",
      "text/plain": [
       "<Figure size 1080x360 with 2 Axes>"
      ]
     },
     "metadata": {
      "needs_background": "light"
     },
     "output_type": "display_data"
    }
   ],
   "source": [
    "# Plot distribution of response times from local machine\n",
    "\n",
    "cdn, ln_cdn = zip(*df_az[['resp_time','ln_resp_time']].loc[df_az['server']=='CLOUDFRONT'].values)\n",
    "s3, ln_s3 = zip(*df_az[['resp_time','ln_resp_time']].loc[df_az['server']=='S3'].values)\n",
    "nginx, ln_nginx = zip(*df_az[['resp_time','ln_resp_time']].loc[df_az['server']=='NGINX'].values)\n",
    "\n",
    "bins = np.linspace(0, df_az['resp_time'].quantile(0.999), 100)\n",
    "ln_bins = np.linspace(df_az['ln_resp_time'].min(), df_az['ln_resp_time'].quantile(0.999), 100)\n",
    "\n",
    "fig, (ax1, ax2) = plt.subplots(1,2, figsize=(15,5))\n",
    "\n",
    "ax1.hist(cdn, bins=bins, label='AWS CloudFront CDN')\n",
    "ax1.hist(s3, bins=bins, label='AWS S3')\n",
    "ax1.hist(nginx, bins=bins, label='NGINX')\n",
    "ax1.set_title('Distribution of Response Times, milliseconds \\n Request origin: Multi-AZ', fontsize=12, fontweight='bold')\n",
    "ax1.legend()\n",
    "ax1.set_xlabel(\"Response Time (ms)\", fontsize=12)\n",
    "\n",
    "ax2.hist(ln_cdn, bins=ln_bins, label='AWS CloudFront CDN')\n",
    "ax2.hist(ln_s3, bins=ln_bins, label='AWS S3')\n",
    "ax2.hist(ln_nginx, bins=ln_bins, label='NGINX')\n",
    "ax2.set_title('Distribution of log Response Times, milliseconds \\n Request origin: Multi-AZ', fontsize=12, fontweight='bold')\n",
    "ax2.legend()\n",
    "ax2.set_xlabel(\"Response Time (ms)\", fontsize=12)\n",
    "\n",
    "\n",
    "plt.show()"
   ]
  },
  {
   "cell_type": "code",
   "execution_count": 18,
   "metadata": {},
   "outputs": [
    {
     "data": {
      "text/plain": [
       "3.531129"
      ]
     },
     "execution_count": 18,
     "metadata": {},
     "output_type": "execute_result"
    }
   ],
   "source": [
    "df_az['resp_time'].loc[(df_az['server']=='NGINX') & (df_az['origin']=='ap-southeast-1a')].mean()"
   ]
  },
  {
   "cell_type": "code",
   "execution_count": 19,
   "metadata": {},
   "outputs": [
    {
     "data": {
      "text/plain": [
       "6.646465"
      ]
     },
     "execution_count": 19,
     "metadata": {},
     "output_type": "execute_result"
    }
   ],
   "source": [
    "df_az['resp_time'].loc[(df_az['server']=='NGINX') & (df_az['origin']=='ap-southeast-1b')].mean()"
   ]
  },
  {
   "cell_type": "code",
   "execution_count": 20,
   "metadata": {},
   "outputs": [
    {
     "data": {
      "text/plain": [
       "4.519234"
      ]
     },
     "execution_count": 20,
     "metadata": {},
     "output_type": "execute_result"
    }
   ],
   "source": [
    "df_az['resp_time'].loc[(df_az['server']=='NGINX') & (df_az['origin']=='ap-southeast-1c')].mean()"
   ]
  },
  {
   "cell_type": "code",
   "execution_count": 23,
   "metadata": {},
   "outputs": [
    {
     "data": {
      "text/plain": [
       "28.335949333333332"
      ]
     },
     "execution_count": 23,
     "metadata": {},
     "output_type": "execute_result"
    }
   ],
   "source": [
    "np.mean(s3)"
   ]
  },
  {
   "cell_type": "code",
   "execution_count": 24,
   "metadata": {},
   "outputs": [
    {
     "data": {
      "text/plain": [
       "4.898942666666667"
      ]
     },
     "execution_count": 24,
     "metadata": {},
     "output_type": "execute_result"
    }
   ],
   "source": [
    "np.mean(nginx)"
   ]
  },
  {
   "cell_type": "markdown",
   "metadata": {},
   "source": [
    "## OLS Regression - AWS AZ"
   ]
  },
  {
   "cell_type": "code",
   "execution_count": 79,
   "metadata": {},
   "outputs": [],
   "source": [
    "import statsmodels.formula.api as smf"
   ]
  },
  {
   "cell_type": "code",
   "execution_count": 80,
   "metadata": {},
   "outputs": [
    {
     "data": {
      "text/plain": [
       "Index(['timestamp', 'url', 'server', 'resp_time', 'status_code', 'size',\n",
       "       'origin'],\n",
       "      dtype='object')"
      ]
     },
     "execution_count": 80,
     "metadata": {},
     "output_type": "execute_result"
    }
   ],
   "source": [
    "df.columns"
   ]
  },
  {
   "cell_type": "code",
   "execution_count": 81,
   "metadata": {},
   "outputs": [],
   "source": [
    "# Get server dummies - s3 as base\n",
    "server_dummies = pd.get_dummies(df_az['server']).drop('S3', axis=1)\n",
    "\n",
    "# Get Availability Zone dummies - 1a as base\n",
    "az_dummies = pd.get_dummies(df_az['origin'], drop_first=True)"
   ]
  },
  {
   "cell_type": "code",
   "execution_count": 86,
   "metadata": {},
   "outputs": [],
   "source": [
    "df_az = pd.concat([df_az, server_dummies], axis=1)\n",
    "df_az = pd.concat([df_az, az_dummies], axis=1)"
   ]
  },
  {
   "cell_type": "code",
   "execution_count": 91,
   "metadata": {
    "scrolled": true
   },
   "outputs": [
    {
     "data": {
      "text/html": [
       "<div>\n",
       "<style scoped>\n",
       "    .dataframe tbody tr th:only-of-type {\n",
       "        vertical-align: middle;\n",
       "    }\n",
       "\n",
       "    .dataframe tbody tr th {\n",
       "        vertical-align: top;\n",
       "    }\n",
       "\n",
       "    .dataframe thead th {\n",
       "        text-align: right;\n",
       "    }\n",
       "</style>\n",
       "<table border=\"1\" class=\"dataframe\">\n",
       "  <thead>\n",
       "    <tr style=\"text-align: right;\">\n",
       "      <th></th>\n",
       "      <th>timestamp</th>\n",
       "      <th>url</th>\n",
       "      <th>server</th>\n",
       "      <th>resp_time</th>\n",
       "      <th>status_code</th>\n",
       "      <th>size</th>\n",
       "      <th>origin</th>\n",
       "      <th>ln_resp_time</th>\n",
       "      <th>CLOUDFRONT</th>\n",
       "      <th>NGINX</th>\n",
       "      <th>ap_southeast_1b</th>\n",
       "      <th>ap_southeast_1c</th>\n",
       "    </tr>\n",
       "  </thead>\n",
       "  <tbody>\n",
       "    <tr>\n",
       "      <th>0</th>\n",
       "      <td>2019-10-14 07:31:17.281124</td>\n",
       "      <td>https://df3k2q0k3bu2n.cloudfront.net/static/pa...</td>\n",
       "      <td>CLOUDFRONT</td>\n",
       "      <td>57.333</td>\n",
       "      <td>200</td>\n",
       "      <td>256000</td>\n",
       "      <td>ap-southeast-1a</td>\n",
       "      <td>4.048876</td>\n",
       "      <td>1</td>\n",
       "      <td>0</td>\n",
       "      <td>0</td>\n",
       "      <td>0</td>\n",
       "    </tr>\n",
       "    <tr>\n",
       "      <th>1</th>\n",
       "      <td>2019-10-14 07:31:17.310067</td>\n",
       "      <td>https://df3k2q0k3bu2n.cloudfront.net/static/pa...</td>\n",
       "      <td>CLOUDFRONT</td>\n",
       "      <td>21.181</td>\n",
       "      <td>200</td>\n",
       "      <td>256000</td>\n",
       "      <td>ap-southeast-1a</td>\n",
       "      <td>3.053105</td>\n",
       "      <td>1</td>\n",
       "      <td>0</td>\n",
       "      <td>0</td>\n",
       "      <td>0</td>\n",
       "    </tr>\n",
       "    <tr>\n",
       "      <th>2</th>\n",
       "      <td>2019-10-14 07:31:17.339916</td>\n",
       "      <td>https://df3k2q0k3bu2n.cloudfront.net/static/pa...</td>\n",
       "      <td>CLOUDFRONT</td>\n",
       "      <td>20.201</td>\n",
       "      <td>200</td>\n",
       "      <td>256000</td>\n",
       "      <td>ap-southeast-1a</td>\n",
       "      <td>3.005732</td>\n",
       "      <td>1</td>\n",
       "      <td>0</td>\n",
       "      <td>0</td>\n",
       "      <td>0</td>\n",
       "    </tr>\n",
       "    <tr>\n",
       "      <th>3</th>\n",
       "      <td>2019-10-14 07:31:17.368034</td>\n",
       "      <td>https://df3k2q0k3bu2n.cloudfront.net/static/pa...</td>\n",
       "      <td>CLOUDFRONT</td>\n",
       "      <td>21.043</td>\n",
       "      <td>200</td>\n",
       "      <td>256000</td>\n",
       "      <td>ap-southeast-1a</td>\n",
       "      <td>3.046568</td>\n",
       "      <td>1</td>\n",
       "      <td>0</td>\n",
       "      <td>0</td>\n",
       "      <td>0</td>\n",
       "    </tr>\n",
       "    <tr>\n",
       "      <th>4</th>\n",
       "      <td>2019-10-14 07:31:17.398650</td>\n",
       "      <td>https://df3k2q0k3bu2n.cloudfront.net/static/pa...</td>\n",
       "      <td>CLOUDFRONT</td>\n",
       "      <td>23.579</td>\n",
       "      <td>200</td>\n",
       "      <td>256000</td>\n",
       "      <td>ap-southeast-1a</td>\n",
       "      <td>3.160356</td>\n",
       "      <td>1</td>\n",
       "      <td>0</td>\n",
       "      <td>0</td>\n",
       "      <td>0</td>\n",
       "    </tr>\n",
       "    <tr>\n",
       "      <th>5</th>\n",
       "      <td>2019-10-14 07:31:17.428196</td>\n",
       "      <td>https://df3k2q0k3bu2n.cloudfront.net/static/pa...</td>\n",
       "      <td>CLOUDFRONT</td>\n",
       "      <td>21.673</td>\n",
       "      <td>200</td>\n",
       "      <td>256000</td>\n",
       "      <td>ap-southeast-1a</td>\n",
       "      <td>3.076067</td>\n",
       "      <td>1</td>\n",
       "      <td>0</td>\n",
       "      <td>0</td>\n",
       "      <td>0</td>\n",
       "    </tr>\n",
       "    <tr>\n",
       "      <th>6</th>\n",
       "      <td>2019-10-14 07:31:17.457367</td>\n",
       "      <td>https://df3k2q0k3bu2n.cloudfront.net/static/pa...</td>\n",
       "      <td>CLOUDFRONT</td>\n",
       "      <td>20.149</td>\n",
       "      <td>200</td>\n",
       "      <td>256000</td>\n",
       "      <td>ap-southeast-1a</td>\n",
       "      <td>3.003155</td>\n",
       "      <td>1</td>\n",
       "      <td>0</td>\n",
       "      <td>0</td>\n",
       "      <td>0</td>\n",
       "    </tr>\n",
       "    <tr>\n",
       "      <th>7</th>\n",
       "      <td>2019-10-14 07:31:17.485039</td>\n",
       "      <td>https://df3k2q0k3bu2n.cloudfront.net/static/pa...</td>\n",
       "      <td>CLOUDFRONT</td>\n",
       "      <td>20.348</td>\n",
       "      <td>200</td>\n",
       "      <td>256000</td>\n",
       "      <td>ap-southeast-1a</td>\n",
       "      <td>3.012983</td>\n",
       "      <td>1</td>\n",
       "      <td>0</td>\n",
       "      <td>0</td>\n",
       "      <td>0</td>\n",
       "    </tr>\n",
       "    <tr>\n",
       "      <th>8</th>\n",
       "      <td>2019-10-14 07:31:17.512652</td>\n",
       "      <td>https://df3k2q0k3bu2n.cloudfront.net/static/pa...</td>\n",
       "      <td>CLOUDFRONT</td>\n",
       "      <td>19.490</td>\n",
       "      <td>200</td>\n",
       "      <td>256000</td>\n",
       "      <td>ap-southeast-1a</td>\n",
       "      <td>2.969902</td>\n",
       "      <td>1</td>\n",
       "      <td>0</td>\n",
       "      <td>0</td>\n",
       "      <td>0</td>\n",
       "    </tr>\n",
       "    <tr>\n",
       "      <th>9</th>\n",
       "      <td>2019-10-14 07:31:17.544133</td>\n",
       "      <td>https://df3k2q0k3bu2n.cloudfront.net/static/pa...</td>\n",
       "      <td>CLOUDFRONT</td>\n",
       "      <td>23.007</td>\n",
       "      <td>200</td>\n",
       "      <td>256000</td>\n",
       "      <td>ap-southeast-1a</td>\n",
       "      <td>3.135799</td>\n",
       "      <td>1</td>\n",
       "      <td>0</td>\n",
       "      <td>0</td>\n",
       "      <td>0</td>\n",
       "    </tr>\n",
       "    <tr>\n",
       "      <th>10</th>\n",
       "      <td>2019-10-14 07:31:17.580498</td>\n",
       "      <td>https://df3k2q0k3bu2n.cloudfront.net/static/pa...</td>\n",
       "      <td>CLOUDFRONT</td>\n",
       "      <td>26.211</td>\n",
       "      <td>200</td>\n",
       "      <td>256000</td>\n",
       "      <td>ap-southeast-1a</td>\n",
       "      <td>3.266179</td>\n",
       "      <td>1</td>\n",
       "      <td>0</td>\n",
       "      <td>0</td>\n",
       "      <td>0</td>\n",
       "    </tr>\n",
       "    <tr>\n",
       "      <th>11</th>\n",
       "      <td>2019-10-14 07:31:17.607690</td>\n",
       "      <td>https://df3k2q0k3bu2n.cloudfront.net/static/pa...</td>\n",
       "      <td>CLOUDFRONT</td>\n",
       "      <td>20.159</td>\n",
       "      <td>200</td>\n",
       "      <td>256000</td>\n",
       "      <td>ap-southeast-1a</td>\n",
       "      <td>3.003651</td>\n",
       "      <td>1</td>\n",
       "      <td>0</td>\n",
       "      <td>0</td>\n",
       "      <td>0</td>\n",
       "    </tr>\n",
       "    <tr>\n",
       "      <th>12</th>\n",
       "      <td>2019-10-14 07:31:17.636195</td>\n",
       "      <td>https://df3k2q0k3bu2n.cloudfront.net/static/pa...</td>\n",
       "      <td>CLOUDFRONT</td>\n",
       "      <td>20.422</td>\n",
       "      <td>200</td>\n",
       "      <td>256000</td>\n",
       "      <td>ap-southeast-1a</td>\n",
       "      <td>3.016613</td>\n",
       "      <td>1</td>\n",
       "      <td>0</td>\n",
       "      <td>0</td>\n",
       "      <td>0</td>\n",
       "    </tr>\n",
       "    <tr>\n",
       "      <th>13</th>\n",
       "      <td>2019-10-14 07:31:17.666360</td>\n",
       "      <td>https://df3k2q0k3bu2n.cloudfront.net/static/pa...</td>\n",
       "      <td>CLOUDFRONT</td>\n",
       "      <td>20.043</td>\n",
       "      <td>200</td>\n",
       "      <td>256000</td>\n",
       "      <td>ap-southeast-1a</td>\n",
       "      <td>2.997880</td>\n",
       "      <td>1</td>\n",
       "      <td>0</td>\n",
       "      <td>0</td>\n",
       "      <td>0</td>\n",
       "    </tr>\n",
       "    <tr>\n",
       "      <th>14</th>\n",
       "      <td>2019-10-14 07:31:17.697645</td>\n",
       "      <td>https://df3k2q0k3bu2n.cloudfront.net/static/pa...</td>\n",
       "      <td>CLOUDFRONT</td>\n",
       "      <td>21.544</td>\n",
       "      <td>200</td>\n",
       "      <td>256000</td>\n",
       "      <td>ap-southeast-1a</td>\n",
       "      <td>3.070097</td>\n",
       "      <td>1</td>\n",
       "      <td>0</td>\n",
       "      <td>0</td>\n",
       "      <td>0</td>\n",
       "    </tr>\n",
       "    <tr>\n",
       "      <th>15</th>\n",
       "      <td>2019-10-14 07:31:17.725809</td>\n",
       "      <td>https://df3k2q0k3bu2n.cloudfront.net/static/pa...</td>\n",
       "      <td>CLOUDFRONT</td>\n",
       "      <td>20.091</td>\n",
       "      <td>200</td>\n",
       "      <td>256000</td>\n",
       "      <td>ap-southeast-1a</td>\n",
       "      <td>3.000272</td>\n",
       "      <td>1</td>\n",
       "      <td>0</td>\n",
       "      <td>0</td>\n",
       "      <td>0</td>\n",
       "    </tr>\n",
       "    <tr>\n",
       "      <th>16</th>\n",
       "      <td>2019-10-14 07:31:17.753021</td>\n",
       "      <td>https://df3k2q0k3bu2n.cloudfront.net/static/pa...</td>\n",
       "      <td>CLOUDFRONT</td>\n",
       "      <td>19.522</td>\n",
       "      <td>200</td>\n",
       "      <td>256000</td>\n",
       "      <td>ap-southeast-1a</td>\n",
       "      <td>2.971542</td>\n",
       "      <td>1</td>\n",
       "      <td>0</td>\n",
       "      <td>0</td>\n",
       "      <td>0</td>\n",
       "    </tr>\n",
       "    <tr>\n",
       "      <th>17</th>\n",
       "      <td>2019-10-14 07:31:17.780681</td>\n",
       "      <td>https://df3k2q0k3bu2n.cloudfront.net/static/pa...</td>\n",
       "      <td>CLOUDFRONT</td>\n",
       "      <td>19.474</td>\n",
       "      <td>200</td>\n",
       "      <td>256000</td>\n",
       "      <td>ap-southeast-1a</td>\n",
       "      <td>2.969080</td>\n",
       "      <td>1</td>\n",
       "      <td>0</td>\n",
       "      <td>0</td>\n",
       "      <td>0</td>\n",
       "    </tr>\n",
       "    <tr>\n",
       "      <th>18</th>\n",
       "      <td>2019-10-14 07:31:17.808257</td>\n",
       "      <td>https://df3k2q0k3bu2n.cloudfront.net/static/pa...</td>\n",
       "      <td>CLOUDFRONT</td>\n",
       "      <td>19.670</td>\n",
       "      <td>200</td>\n",
       "      <td>256000</td>\n",
       "      <td>ap-southeast-1a</td>\n",
       "      <td>2.979095</td>\n",
       "      <td>1</td>\n",
       "      <td>0</td>\n",
       "      <td>0</td>\n",
       "      <td>0</td>\n",
       "    </tr>\n",
       "    <tr>\n",
       "      <th>19</th>\n",
       "      <td>2019-10-14 07:31:17.836114</td>\n",
       "      <td>https://df3k2q0k3bu2n.cloudfront.net/static/pa...</td>\n",
       "      <td>CLOUDFRONT</td>\n",
       "      <td>19.789</td>\n",
       "      <td>200</td>\n",
       "      <td>256000</td>\n",
       "      <td>ap-southeast-1a</td>\n",
       "      <td>2.985126</td>\n",
       "      <td>1</td>\n",
       "      <td>0</td>\n",
       "      <td>0</td>\n",
       "      <td>0</td>\n",
       "    </tr>\n",
       "    <tr>\n",
       "      <th>20</th>\n",
       "      <td>2019-10-14 07:31:17.864207</td>\n",
       "      <td>https://df3k2q0k3bu2n.cloudfront.net/static/pa...</td>\n",
       "      <td>CLOUDFRONT</td>\n",
       "      <td>20.323</td>\n",
       "      <td>200</td>\n",
       "      <td>256000</td>\n",
       "      <td>ap-southeast-1a</td>\n",
       "      <td>3.011753</td>\n",
       "      <td>1</td>\n",
       "      <td>0</td>\n",
       "      <td>0</td>\n",
       "      <td>0</td>\n",
       "    </tr>\n",
       "    <tr>\n",
       "      <th>21</th>\n",
       "      <td>2019-10-14 07:31:17.892649</td>\n",
       "      <td>https://df3k2q0k3bu2n.cloudfront.net/static/pa...</td>\n",
       "      <td>CLOUDFRONT</td>\n",
       "      <td>20.234</td>\n",
       "      <td>200</td>\n",
       "      <td>256000</td>\n",
       "      <td>ap-southeast-1a</td>\n",
       "      <td>3.007364</td>\n",
       "      <td>1</td>\n",
       "      <td>0</td>\n",
       "      <td>0</td>\n",
       "      <td>0</td>\n",
       "    </tr>\n",
       "    <tr>\n",
       "      <th>22</th>\n",
       "      <td>2019-10-14 07:31:17.922144</td>\n",
       "      <td>https://df3k2q0k3bu2n.cloudfront.net/static/pa...</td>\n",
       "      <td>CLOUDFRONT</td>\n",
       "      <td>22.223</td>\n",
       "      <td>200</td>\n",
       "      <td>256000</td>\n",
       "      <td>ap-southeast-1a</td>\n",
       "      <td>3.101128</td>\n",
       "      <td>1</td>\n",
       "      <td>0</td>\n",
       "      <td>0</td>\n",
       "      <td>0</td>\n",
       "    </tr>\n",
       "    <tr>\n",
       "      <th>23</th>\n",
       "      <td>2019-10-14 07:31:17.952839</td>\n",
       "      <td>https://df3k2q0k3bu2n.cloudfront.net/static/pa...</td>\n",
       "      <td>CLOUDFRONT</td>\n",
       "      <td>22.562</td>\n",
       "      <td>200</td>\n",
       "      <td>256000</td>\n",
       "      <td>ap-southeast-1a</td>\n",
       "      <td>3.116267</td>\n",
       "      <td>1</td>\n",
       "      <td>0</td>\n",
       "      <td>0</td>\n",
       "      <td>0</td>\n",
       "    </tr>\n",
       "    <tr>\n",
       "      <th>24</th>\n",
       "      <td>2019-10-14 07:31:17.980021</td>\n",
       "      <td>https://df3k2q0k3bu2n.cloudfront.net/static/pa...</td>\n",
       "      <td>CLOUDFRONT</td>\n",
       "      <td>19.705</td>\n",
       "      <td>200</td>\n",
       "      <td>256000</td>\n",
       "      <td>ap-southeast-1a</td>\n",
       "      <td>2.980872</td>\n",
       "      <td>1</td>\n",
       "      <td>0</td>\n",
       "      <td>0</td>\n",
       "      <td>0</td>\n",
       "    </tr>\n",
       "    <tr>\n",
       "      <th>25</th>\n",
       "      <td>2019-10-14 07:31:18.010800</td>\n",
       "      <td>https://df3k2q0k3bu2n.cloudfront.net/static/pa...</td>\n",
       "      <td>CLOUDFRONT</td>\n",
       "      <td>21.806</td>\n",
       "      <td>200</td>\n",
       "      <td>256000</td>\n",
       "      <td>ap-southeast-1a</td>\n",
       "      <td>3.082185</td>\n",
       "      <td>1</td>\n",
       "      <td>0</td>\n",
       "      <td>0</td>\n",
       "      <td>0</td>\n",
       "    </tr>\n",
       "    <tr>\n",
       "      <th>26</th>\n",
       "      <td>2019-10-14 07:31:18.041144</td>\n",
       "      <td>https://df3k2q0k3bu2n.cloudfront.net/static/pa...</td>\n",
       "      <td>CLOUDFRONT</td>\n",
       "      <td>22.118</td>\n",
       "      <td>200</td>\n",
       "      <td>256000</td>\n",
       "      <td>ap-southeast-1a</td>\n",
       "      <td>3.096392</td>\n",
       "      <td>1</td>\n",
       "      <td>0</td>\n",
       "      <td>0</td>\n",
       "      <td>0</td>\n",
       "    </tr>\n",
       "    <tr>\n",
       "      <th>27</th>\n",
       "      <td>2019-10-14 07:31:18.069101</td>\n",
       "      <td>https://df3k2q0k3bu2n.cloudfront.net/static/pa...</td>\n",
       "      <td>CLOUDFRONT</td>\n",
       "      <td>19.472</td>\n",
       "      <td>200</td>\n",
       "      <td>256000</td>\n",
       "      <td>ap-southeast-1a</td>\n",
       "      <td>2.968978</td>\n",
       "      <td>1</td>\n",
       "      <td>0</td>\n",
       "      <td>0</td>\n",
       "      <td>0</td>\n",
       "    </tr>\n",
       "    <tr>\n",
       "      <th>28</th>\n",
       "      <td>2019-10-14 07:31:18.096112</td>\n",
       "      <td>https://df3k2q0k3bu2n.cloudfront.net/static/pa...</td>\n",
       "      <td>CLOUDFRONT</td>\n",
       "      <td>18.946</td>\n",
       "      <td>200</td>\n",
       "      <td>256000</td>\n",
       "      <td>ap-southeast-1a</td>\n",
       "      <td>2.941593</td>\n",
       "      <td>1</td>\n",
       "      <td>0</td>\n",
       "      <td>0</td>\n",
       "      <td>0</td>\n",
       "    </tr>\n",
       "    <tr>\n",
       "      <th>29</th>\n",
       "      <td>2019-10-14 07:31:18.125083</td>\n",
       "      <td>https://df3k2q0k3bu2n.cloudfront.net/static/pa...</td>\n",
       "      <td>CLOUDFRONT</td>\n",
       "      <td>20.873</td>\n",
       "      <td>200</td>\n",
       "      <td>256000</td>\n",
       "      <td>ap-southeast-1a</td>\n",
       "      <td>3.038456</td>\n",
       "      <td>1</td>\n",
       "      <td>0</td>\n",
       "      <td>0</td>\n",
       "      <td>0</td>\n",
       "    </tr>\n",
       "    <tr>\n",
       "      <th>...</th>\n",
       "      <td>...</td>\n",
       "      <td>...</td>\n",
       "      <td>...</td>\n",
       "      <td>...</td>\n",
       "      <td>...</td>\n",
       "      <td>...</td>\n",
       "      <td>...</td>\n",
       "      <td>...</td>\n",
       "      <td>...</td>\n",
       "      <td>...</td>\n",
       "      <td>...</td>\n",
       "      <td>...</td>\n",
       "    </tr>\n",
       "    <tr>\n",
       "      <th>2970</th>\n",
       "      <td>2019-10-14 07:40:36.364009</td>\n",
       "      <td>http://18.141.13.186/payload</td>\n",
       "      <td>NGINX</td>\n",
       "      <td>3.603</td>\n",
       "      <td>200</td>\n",
       "      <td>256000</td>\n",
       "      <td>ap-southeast-1c</td>\n",
       "      <td>1.281767</td>\n",
       "      <td>0</td>\n",
       "      <td>1</td>\n",
       "      <td>0</td>\n",
       "      <td>1</td>\n",
       "    </tr>\n",
       "    <tr>\n",
       "      <th>2971</th>\n",
       "      <td>2019-10-14 07:40:36.382634</td>\n",
       "      <td>http://18.141.13.186/payload</td>\n",
       "      <td>NGINX</td>\n",
       "      <td>3.596</td>\n",
       "      <td>200</td>\n",
       "      <td>256000</td>\n",
       "      <td>ap-southeast-1c</td>\n",
       "      <td>1.279822</td>\n",
       "      <td>0</td>\n",
       "      <td>1</td>\n",
       "      <td>0</td>\n",
       "      <td>1</td>\n",
       "    </tr>\n",
       "    <tr>\n",
       "      <th>2972</th>\n",
       "      <td>2019-10-14 07:40:36.402089</td>\n",
       "      <td>http://18.141.13.186/payload</td>\n",
       "      <td>NGINX</td>\n",
       "      <td>3.863</td>\n",
       "      <td>200</td>\n",
       "      <td>256000</td>\n",
       "      <td>ap-southeast-1c</td>\n",
       "      <td>1.351444</td>\n",
       "      <td>0</td>\n",
       "      <td>1</td>\n",
       "      <td>0</td>\n",
       "      <td>1</td>\n",
       "    </tr>\n",
       "    <tr>\n",
       "      <th>2973</th>\n",
       "      <td>2019-10-14 07:40:36.421677</td>\n",
       "      <td>http://18.141.13.186/payload</td>\n",
       "      <td>NGINX</td>\n",
       "      <td>3.576</td>\n",
       "      <td>200</td>\n",
       "      <td>256000</td>\n",
       "      <td>ap-southeast-1c</td>\n",
       "      <td>1.274245</td>\n",
       "      <td>0</td>\n",
       "      <td>1</td>\n",
       "      <td>0</td>\n",
       "      <td>1</td>\n",
       "    </tr>\n",
       "    <tr>\n",
       "      <th>2974</th>\n",
       "      <td>2019-10-14 07:40:36.440533</td>\n",
       "      <td>http://18.141.13.186/payload</td>\n",
       "      <td>NGINX</td>\n",
       "      <td>3.611</td>\n",
       "      <td>200</td>\n",
       "      <td>256000</td>\n",
       "      <td>ap-southeast-1c</td>\n",
       "      <td>1.283985</td>\n",
       "      <td>0</td>\n",
       "      <td>1</td>\n",
       "      <td>0</td>\n",
       "      <td>1</td>\n",
       "    </tr>\n",
       "    <tr>\n",
       "      <th>2975</th>\n",
       "      <td>2019-10-14 07:40:36.459202</td>\n",
       "      <td>http://18.141.13.186/payload</td>\n",
       "      <td>NGINX</td>\n",
       "      <td>3.612</td>\n",
       "      <td>200</td>\n",
       "      <td>256000</td>\n",
       "      <td>ap-southeast-1c</td>\n",
       "      <td>1.284262</td>\n",
       "      <td>0</td>\n",
       "      <td>1</td>\n",
       "      <td>0</td>\n",
       "      <td>1</td>\n",
       "    </tr>\n",
       "    <tr>\n",
       "      <th>2976</th>\n",
       "      <td>2019-10-14 07:40:36.477865</td>\n",
       "      <td>http://18.141.13.186/payload</td>\n",
       "      <td>NGINX</td>\n",
       "      <td>3.532</td>\n",
       "      <td>200</td>\n",
       "      <td>256000</td>\n",
       "      <td>ap-southeast-1c</td>\n",
       "      <td>1.261864</td>\n",
       "      <td>0</td>\n",
       "      <td>1</td>\n",
       "      <td>0</td>\n",
       "      <td>1</td>\n",
       "    </tr>\n",
       "    <tr>\n",
       "      <th>2977</th>\n",
       "      <td>2019-10-14 07:40:36.497855</td>\n",
       "      <td>http://18.141.13.186/payload</td>\n",
       "      <td>NGINX</td>\n",
       "      <td>3.652</td>\n",
       "      <td>200</td>\n",
       "      <td>256000</td>\n",
       "      <td>ap-southeast-1c</td>\n",
       "      <td>1.295275</td>\n",
       "      <td>0</td>\n",
       "      <td>1</td>\n",
       "      <td>0</td>\n",
       "      <td>1</td>\n",
       "    </tr>\n",
       "    <tr>\n",
       "      <th>2978</th>\n",
       "      <td>2019-10-14 07:40:36.517125</td>\n",
       "      <td>http://18.141.13.186/payload</td>\n",
       "      <td>NGINX</td>\n",
       "      <td>3.643</td>\n",
       "      <td>200</td>\n",
       "      <td>256000</td>\n",
       "      <td>ap-southeast-1c</td>\n",
       "      <td>1.292808</td>\n",
       "      <td>0</td>\n",
       "      <td>1</td>\n",
       "      <td>0</td>\n",
       "      <td>1</td>\n",
       "    </tr>\n",
       "    <tr>\n",
       "      <th>2979</th>\n",
       "      <td>2019-10-14 07:40:36.536335</td>\n",
       "      <td>http://18.141.13.186/payload</td>\n",
       "      <td>NGINX</td>\n",
       "      <td>3.851</td>\n",
       "      <td>200</td>\n",
       "      <td>256000</td>\n",
       "      <td>ap-southeast-1c</td>\n",
       "      <td>1.348333</td>\n",
       "      <td>0</td>\n",
       "      <td>1</td>\n",
       "      <td>0</td>\n",
       "      <td>1</td>\n",
       "    </tr>\n",
       "    <tr>\n",
       "      <th>2980</th>\n",
       "      <td>2019-10-14 07:40:36.555574</td>\n",
       "      <td>http://18.141.13.186/payload</td>\n",
       "      <td>NGINX</td>\n",
       "      <td>3.612</td>\n",
       "      <td>200</td>\n",
       "      <td>256000</td>\n",
       "      <td>ap-southeast-1c</td>\n",
       "      <td>1.284262</td>\n",
       "      <td>0</td>\n",
       "      <td>1</td>\n",
       "      <td>0</td>\n",
       "      <td>1</td>\n",
       "    </tr>\n",
       "    <tr>\n",
       "      <th>2981</th>\n",
       "      <td>2019-10-14 07:40:36.575428</td>\n",
       "      <td>http://18.141.13.186/payload</td>\n",
       "      <td>NGINX</td>\n",
       "      <td>3.619</td>\n",
       "      <td>200</td>\n",
       "      <td>256000</td>\n",
       "      <td>ap-southeast-1c</td>\n",
       "      <td>1.286198</td>\n",
       "      <td>0</td>\n",
       "      <td>1</td>\n",
       "      <td>0</td>\n",
       "      <td>1</td>\n",
       "    </tr>\n",
       "    <tr>\n",
       "      <th>2982</th>\n",
       "      <td>2019-10-14 07:40:36.594462</td>\n",
       "      <td>http://18.141.13.186/payload</td>\n",
       "      <td>NGINX</td>\n",
       "      <td>3.696</td>\n",
       "      <td>200</td>\n",
       "      <td>256000</td>\n",
       "      <td>ap-southeast-1c</td>\n",
       "      <td>1.307251</td>\n",
       "      <td>0</td>\n",
       "      <td>1</td>\n",
       "      <td>0</td>\n",
       "      <td>1</td>\n",
       "    </tr>\n",
       "    <tr>\n",
       "      <th>2983</th>\n",
       "      <td>2019-10-14 07:40:36.617872</td>\n",
       "      <td>http://18.141.13.186/payload</td>\n",
       "      <td>NGINX</td>\n",
       "      <td>3.764</td>\n",
       "      <td>200</td>\n",
       "      <td>256000</td>\n",
       "      <td>ap-southeast-1c</td>\n",
       "      <td>1.325482</td>\n",
       "      <td>0</td>\n",
       "      <td>1</td>\n",
       "      <td>0</td>\n",
       "      <td>1</td>\n",
       "    </tr>\n",
       "    <tr>\n",
       "      <th>2984</th>\n",
       "      <td>2019-10-14 07:40:36.636070</td>\n",
       "      <td>http://18.141.13.186/payload</td>\n",
       "      <td>NGINX</td>\n",
       "      <td>3.536</td>\n",
       "      <td>200</td>\n",
       "      <td>256000</td>\n",
       "      <td>ap-southeast-1c</td>\n",
       "      <td>1.262996</td>\n",
       "      <td>0</td>\n",
       "      <td>1</td>\n",
       "      <td>0</td>\n",
       "      <td>1</td>\n",
       "    </tr>\n",
       "    <tr>\n",
       "      <th>2985</th>\n",
       "      <td>2019-10-14 07:40:36.654622</td>\n",
       "      <td>http://18.141.13.186/payload</td>\n",
       "      <td>NGINX</td>\n",
       "      <td>3.483</td>\n",
       "      <td>200</td>\n",
       "      <td>256000</td>\n",
       "      <td>ap-southeast-1c</td>\n",
       "      <td>1.247894</td>\n",
       "      <td>0</td>\n",
       "      <td>1</td>\n",
       "      <td>0</td>\n",
       "      <td>1</td>\n",
       "    </tr>\n",
       "    <tr>\n",
       "      <th>2986</th>\n",
       "      <td>2019-10-14 07:40:36.673028</td>\n",
       "      <td>http://18.141.13.186/payload</td>\n",
       "      <td>NGINX</td>\n",
       "      <td>3.547</td>\n",
       "      <td>200</td>\n",
       "      <td>256000</td>\n",
       "      <td>ap-southeast-1c</td>\n",
       "      <td>1.266102</td>\n",
       "      <td>0</td>\n",
       "      <td>1</td>\n",
       "      <td>0</td>\n",
       "      <td>1</td>\n",
       "    </tr>\n",
       "    <tr>\n",
       "      <th>2987</th>\n",
       "      <td>2019-10-14 07:40:36.691702</td>\n",
       "      <td>http://18.141.13.186/payload</td>\n",
       "      <td>NGINX</td>\n",
       "      <td>3.598</td>\n",
       "      <td>200</td>\n",
       "      <td>256000</td>\n",
       "      <td>ap-southeast-1c</td>\n",
       "      <td>1.280378</td>\n",
       "      <td>0</td>\n",
       "      <td>1</td>\n",
       "      <td>0</td>\n",
       "      <td>1</td>\n",
       "    </tr>\n",
       "    <tr>\n",
       "      <th>2988</th>\n",
       "      <td>2019-10-14 07:40:36.712656</td>\n",
       "      <td>http://18.141.13.186/payload</td>\n",
       "      <td>NGINX</td>\n",
       "      <td>3.590</td>\n",
       "      <td>200</td>\n",
       "      <td>256000</td>\n",
       "      <td>ap-southeast-1c</td>\n",
       "      <td>1.278152</td>\n",
       "      <td>0</td>\n",
       "      <td>1</td>\n",
       "      <td>0</td>\n",
       "      <td>1</td>\n",
       "    </tr>\n",
       "    <tr>\n",
       "      <th>2989</th>\n",
       "      <td>2019-10-14 07:40:36.732142</td>\n",
       "      <td>http://18.141.13.186/payload</td>\n",
       "      <td>NGINX</td>\n",
       "      <td>3.844</td>\n",
       "      <td>200</td>\n",
       "      <td>256000</td>\n",
       "      <td>ap-southeast-1c</td>\n",
       "      <td>1.346513</td>\n",
       "      <td>0</td>\n",
       "      <td>1</td>\n",
       "      <td>0</td>\n",
       "      <td>1</td>\n",
       "    </tr>\n",
       "    <tr>\n",
       "      <th>2990</th>\n",
       "      <td>2019-10-14 07:40:36.750882</td>\n",
       "      <td>http://18.141.13.186/payload</td>\n",
       "      <td>NGINX</td>\n",
       "      <td>3.548</td>\n",
       "      <td>200</td>\n",
       "      <td>256000</td>\n",
       "      <td>ap-southeast-1c</td>\n",
       "      <td>1.266384</td>\n",
       "      <td>0</td>\n",
       "      <td>1</td>\n",
       "      <td>0</td>\n",
       "      <td>1</td>\n",
       "    </tr>\n",
       "    <tr>\n",
       "      <th>2991</th>\n",
       "      <td>2019-10-14 07:40:36.769310</td>\n",
       "      <td>http://18.141.13.186/payload</td>\n",
       "      <td>NGINX</td>\n",
       "      <td>3.574</td>\n",
       "      <td>200</td>\n",
       "      <td>256000</td>\n",
       "      <td>ap-southeast-1c</td>\n",
       "      <td>1.273685</td>\n",
       "      <td>0</td>\n",
       "      <td>1</td>\n",
       "      <td>0</td>\n",
       "      <td>1</td>\n",
       "    </tr>\n",
       "    <tr>\n",
       "      <th>2992</th>\n",
       "      <td>2019-10-14 07:40:36.787998</td>\n",
       "      <td>http://18.141.13.186/payload</td>\n",
       "      <td>NGINX</td>\n",
       "      <td>3.555</td>\n",
       "      <td>200</td>\n",
       "      <td>256000</td>\n",
       "      <td>ap-southeast-1c</td>\n",
       "      <td>1.268355</td>\n",
       "      <td>0</td>\n",
       "      <td>1</td>\n",
       "      <td>0</td>\n",
       "      <td>1</td>\n",
       "    </tr>\n",
       "    <tr>\n",
       "      <th>2993</th>\n",
       "      <td>2019-10-14 07:40:36.806995</td>\n",
       "      <td>http://18.141.13.186/payload</td>\n",
       "      <td>NGINX</td>\n",
       "      <td>3.632</td>\n",
       "      <td>200</td>\n",
       "      <td>256000</td>\n",
       "      <td>ap-southeast-1c</td>\n",
       "      <td>1.289783</td>\n",
       "      <td>0</td>\n",
       "      <td>1</td>\n",
       "      <td>0</td>\n",
       "      <td>1</td>\n",
       "    </tr>\n",
       "    <tr>\n",
       "      <th>2994</th>\n",
       "      <td>2019-10-14 07:40:36.825807</td>\n",
       "      <td>http://18.141.13.186/payload</td>\n",
       "      <td>NGINX</td>\n",
       "      <td>3.543</td>\n",
       "      <td>200</td>\n",
       "      <td>256000</td>\n",
       "      <td>ap-southeast-1c</td>\n",
       "      <td>1.264974</td>\n",
       "      <td>0</td>\n",
       "      <td>1</td>\n",
       "      <td>0</td>\n",
       "      <td>1</td>\n",
       "    </tr>\n",
       "    <tr>\n",
       "      <th>2995</th>\n",
       "      <td>2019-10-14 07:40:36.844959</td>\n",
       "      <td>http://18.141.13.186/payload</td>\n",
       "      <td>NGINX</td>\n",
       "      <td>3.567</td>\n",
       "      <td>200</td>\n",
       "      <td>256000</td>\n",
       "      <td>ap-southeast-1c</td>\n",
       "      <td>1.271725</td>\n",
       "      <td>0</td>\n",
       "      <td>1</td>\n",
       "      <td>0</td>\n",
       "      <td>1</td>\n",
       "    </tr>\n",
       "    <tr>\n",
       "      <th>2996</th>\n",
       "      <td>2019-10-14 07:40:36.864074</td>\n",
       "      <td>http://18.141.13.186/payload</td>\n",
       "      <td>NGINX</td>\n",
       "      <td>3.761</td>\n",
       "      <td>200</td>\n",
       "      <td>256000</td>\n",
       "      <td>ap-southeast-1c</td>\n",
       "      <td>1.324685</td>\n",
       "      <td>0</td>\n",
       "      <td>1</td>\n",
       "      <td>0</td>\n",
       "      <td>1</td>\n",
       "    </tr>\n",
       "    <tr>\n",
       "      <th>2997</th>\n",
       "      <td>2019-10-14 07:40:36.883213</td>\n",
       "      <td>http://18.141.13.186/payload</td>\n",
       "      <td>NGINX</td>\n",
       "      <td>3.486</td>\n",
       "      <td>200</td>\n",
       "      <td>256000</td>\n",
       "      <td>ap-southeast-1c</td>\n",
       "      <td>1.248755</td>\n",
       "      <td>0</td>\n",
       "      <td>1</td>\n",
       "      <td>0</td>\n",
       "      <td>1</td>\n",
       "    </tr>\n",
       "    <tr>\n",
       "      <th>2998</th>\n",
       "      <td>2019-10-14 07:40:36.901825</td>\n",
       "      <td>http://18.141.13.186/payload</td>\n",
       "      <td>NGINX</td>\n",
       "      <td>3.520</td>\n",
       "      <td>200</td>\n",
       "      <td>256000</td>\n",
       "      <td>ap-southeast-1c</td>\n",
       "      <td>1.258461</td>\n",
       "      <td>0</td>\n",
       "      <td>1</td>\n",
       "      <td>0</td>\n",
       "      <td>1</td>\n",
       "    </tr>\n",
       "    <tr>\n",
       "      <th>2999</th>\n",
       "      <td>2019-10-14 07:40:36.920847</td>\n",
       "      <td>http://18.141.13.186/payload</td>\n",
       "      <td>NGINX</td>\n",
       "      <td>3.516</td>\n",
       "      <td>200</td>\n",
       "      <td>256000</td>\n",
       "      <td>ap-southeast-1c</td>\n",
       "      <td>1.257324</td>\n",
       "      <td>0</td>\n",
       "      <td>1</td>\n",
       "      <td>0</td>\n",
       "      <td>1</td>\n",
       "    </tr>\n",
       "  </tbody>\n",
       "</table>\n",
       "<p>9000 rows × 12 columns</p>\n",
       "</div>"
      ],
      "text/plain": [
       "                       timestamp  \\\n",
       "0     2019-10-14 07:31:17.281124   \n",
       "1     2019-10-14 07:31:17.310067   \n",
       "2     2019-10-14 07:31:17.339916   \n",
       "3     2019-10-14 07:31:17.368034   \n",
       "4     2019-10-14 07:31:17.398650   \n",
       "5     2019-10-14 07:31:17.428196   \n",
       "6     2019-10-14 07:31:17.457367   \n",
       "7     2019-10-14 07:31:17.485039   \n",
       "8     2019-10-14 07:31:17.512652   \n",
       "9     2019-10-14 07:31:17.544133   \n",
       "10    2019-10-14 07:31:17.580498   \n",
       "11    2019-10-14 07:31:17.607690   \n",
       "12    2019-10-14 07:31:17.636195   \n",
       "13    2019-10-14 07:31:17.666360   \n",
       "14    2019-10-14 07:31:17.697645   \n",
       "15    2019-10-14 07:31:17.725809   \n",
       "16    2019-10-14 07:31:17.753021   \n",
       "17    2019-10-14 07:31:17.780681   \n",
       "18    2019-10-14 07:31:17.808257   \n",
       "19    2019-10-14 07:31:17.836114   \n",
       "20    2019-10-14 07:31:17.864207   \n",
       "21    2019-10-14 07:31:17.892649   \n",
       "22    2019-10-14 07:31:17.922144   \n",
       "23    2019-10-14 07:31:17.952839   \n",
       "24    2019-10-14 07:31:17.980021   \n",
       "25    2019-10-14 07:31:18.010800   \n",
       "26    2019-10-14 07:31:18.041144   \n",
       "27    2019-10-14 07:31:18.069101   \n",
       "28    2019-10-14 07:31:18.096112   \n",
       "29    2019-10-14 07:31:18.125083   \n",
       "...                          ...   \n",
       "2970  2019-10-14 07:40:36.364009   \n",
       "2971  2019-10-14 07:40:36.382634   \n",
       "2972  2019-10-14 07:40:36.402089   \n",
       "2973  2019-10-14 07:40:36.421677   \n",
       "2974  2019-10-14 07:40:36.440533   \n",
       "2975  2019-10-14 07:40:36.459202   \n",
       "2976  2019-10-14 07:40:36.477865   \n",
       "2977  2019-10-14 07:40:36.497855   \n",
       "2978  2019-10-14 07:40:36.517125   \n",
       "2979  2019-10-14 07:40:36.536335   \n",
       "2980  2019-10-14 07:40:36.555574   \n",
       "2981  2019-10-14 07:40:36.575428   \n",
       "2982  2019-10-14 07:40:36.594462   \n",
       "2983  2019-10-14 07:40:36.617872   \n",
       "2984  2019-10-14 07:40:36.636070   \n",
       "2985  2019-10-14 07:40:36.654622   \n",
       "2986  2019-10-14 07:40:36.673028   \n",
       "2987  2019-10-14 07:40:36.691702   \n",
       "2988  2019-10-14 07:40:36.712656   \n",
       "2989  2019-10-14 07:40:36.732142   \n",
       "2990  2019-10-14 07:40:36.750882   \n",
       "2991  2019-10-14 07:40:36.769310   \n",
       "2992  2019-10-14 07:40:36.787998   \n",
       "2993  2019-10-14 07:40:36.806995   \n",
       "2994  2019-10-14 07:40:36.825807   \n",
       "2995  2019-10-14 07:40:36.844959   \n",
       "2996  2019-10-14 07:40:36.864074   \n",
       "2997  2019-10-14 07:40:36.883213   \n",
       "2998  2019-10-14 07:40:36.901825   \n",
       "2999  2019-10-14 07:40:36.920847   \n",
       "\n",
       "                                                    url      server  \\\n",
       "0     https://df3k2q0k3bu2n.cloudfront.net/static/pa...  CLOUDFRONT   \n",
       "1     https://df3k2q0k3bu2n.cloudfront.net/static/pa...  CLOUDFRONT   \n",
       "2     https://df3k2q0k3bu2n.cloudfront.net/static/pa...  CLOUDFRONT   \n",
       "3     https://df3k2q0k3bu2n.cloudfront.net/static/pa...  CLOUDFRONT   \n",
       "4     https://df3k2q0k3bu2n.cloudfront.net/static/pa...  CLOUDFRONT   \n",
       "5     https://df3k2q0k3bu2n.cloudfront.net/static/pa...  CLOUDFRONT   \n",
       "6     https://df3k2q0k3bu2n.cloudfront.net/static/pa...  CLOUDFRONT   \n",
       "7     https://df3k2q0k3bu2n.cloudfront.net/static/pa...  CLOUDFRONT   \n",
       "8     https://df3k2q0k3bu2n.cloudfront.net/static/pa...  CLOUDFRONT   \n",
       "9     https://df3k2q0k3bu2n.cloudfront.net/static/pa...  CLOUDFRONT   \n",
       "10    https://df3k2q0k3bu2n.cloudfront.net/static/pa...  CLOUDFRONT   \n",
       "11    https://df3k2q0k3bu2n.cloudfront.net/static/pa...  CLOUDFRONT   \n",
       "12    https://df3k2q0k3bu2n.cloudfront.net/static/pa...  CLOUDFRONT   \n",
       "13    https://df3k2q0k3bu2n.cloudfront.net/static/pa...  CLOUDFRONT   \n",
       "14    https://df3k2q0k3bu2n.cloudfront.net/static/pa...  CLOUDFRONT   \n",
       "15    https://df3k2q0k3bu2n.cloudfront.net/static/pa...  CLOUDFRONT   \n",
       "16    https://df3k2q0k3bu2n.cloudfront.net/static/pa...  CLOUDFRONT   \n",
       "17    https://df3k2q0k3bu2n.cloudfront.net/static/pa...  CLOUDFRONT   \n",
       "18    https://df3k2q0k3bu2n.cloudfront.net/static/pa...  CLOUDFRONT   \n",
       "19    https://df3k2q0k3bu2n.cloudfront.net/static/pa...  CLOUDFRONT   \n",
       "20    https://df3k2q0k3bu2n.cloudfront.net/static/pa...  CLOUDFRONT   \n",
       "21    https://df3k2q0k3bu2n.cloudfront.net/static/pa...  CLOUDFRONT   \n",
       "22    https://df3k2q0k3bu2n.cloudfront.net/static/pa...  CLOUDFRONT   \n",
       "23    https://df3k2q0k3bu2n.cloudfront.net/static/pa...  CLOUDFRONT   \n",
       "24    https://df3k2q0k3bu2n.cloudfront.net/static/pa...  CLOUDFRONT   \n",
       "25    https://df3k2q0k3bu2n.cloudfront.net/static/pa...  CLOUDFRONT   \n",
       "26    https://df3k2q0k3bu2n.cloudfront.net/static/pa...  CLOUDFRONT   \n",
       "27    https://df3k2q0k3bu2n.cloudfront.net/static/pa...  CLOUDFRONT   \n",
       "28    https://df3k2q0k3bu2n.cloudfront.net/static/pa...  CLOUDFRONT   \n",
       "29    https://df3k2q0k3bu2n.cloudfront.net/static/pa...  CLOUDFRONT   \n",
       "...                                                 ...         ...   \n",
       "2970                       http://18.141.13.186/payload       NGINX   \n",
       "2971                       http://18.141.13.186/payload       NGINX   \n",
       "2972                       http://18.141.13.186/payload       NGINX   \n",
       "2973                       http://18.141.13.186/payload       NGINX   \n",
       "2974                       http://18.141.13.186/payload       NGINX   \n",
       "2975                       http://18.141.13.186/payload       NGINX   \n",
       "2976                       http://18.141.13.186/payload       NGINX   \n",
       "2977                       http://18.141.13.186/payload       NGINX   \n",
       "2978                       http://18.141.13.186/payload       NGINX   \n",
       "2979                       http://18.141.13.186/payload       NGINX   \n",
       "2980                       http://18.141.13.186/payload       NGINX   \n",
       "2981                       http://18.141.13.186/payload       NGINX   \n",
       "2982                       http://18.141.13.186/payload       NGINX   \n",
       "2983                       http://18.141.13.186/payload       NGINX   \n",
       "2984                       http://18.141.13.186/payload       NGINX   \n",
       "2985                       http://18.141.13.186/payload       NGINX   \n",
       "2986                       http://18.141.13.186/payload       NGINX   \n",
       "2987                       http://18.141.13.186/payload       NGINX   \n",
       "2988                       http://18.141.13.186/payload       NGINX   \n",
       "2989                       http://18.141.13.186/payload       NGINX   \n",
       "2990                       http://18.141.13.186/payload       NGINX   \n",
       "2991                       http://18.141.13.186/payload       NGINX   \n",
       "2992                       http://18.141.13.186/payload       NGINX   \n",
       "2993                       http://18.141.13.186/payload       NGINX   \n",
       "2994                       http://18.141.13.186/payload       NGINX   \n",
       "2995                       http://18.141.13.186/payload       NGINX   \n",
       "2996                       http://18.141.13.186/payload       NGINX   \n",
       "2997                       http://18.141.13.186/payload       NGINX   \n",
       "2998                       http://18.141.13.186/payload       NGINX   \n",
       "2999                       http://18.141.13.186/payload       NGINX   \n",
       "\n",
       "      resp_time  status_code    size           origin  ln_resp_time  \\\n",
       "0        57.333          200  256000  ap-southeast-1a      4.048876   \n",
       "1        21.181          200  256000  ap-southeast-1a      3.053105   \n",
       "2        20.201          200  256000  ap-southeast-1a      3.005732   \n",
       "3        21.043          200  256000  ap-southeast-1a      3.046568   \n",
       "4        23.579          200  256000  ap-southeast-1a      3.160356   \n",
       "5        21.673          200  256000  ap-southeast-1a      3.076067   \n",
       "6        20.149          200  256000  ap-southeast-1a      3.003155   \n",
       "7        20.348          200  256000  ap-southeast-1a      3.012983   \n",
       "8        19.490          200  256000  ap-southeast-1a      2.969902   \n",
       "9        23.007          200  256000  ap-southeast-1a      3.135799   \n",
       "10       26.211          200  256000  ap-southeast-1a      3.266179   \n",
       "11       20.159          200  256000  ap-southeast-1a      3.003651   \n",
       "12       20.422          200  256000  ap-southeast-1a      3.016613   \n",
       "13       20.043          200  256000  ap-southeast-1a      2.997880   \n",
       "14       21.544          200  256000  ap-southeast-1a      3.070097   \n",
       "15       20.091          200  256000  ap-southeast-1a      3.000272   \n",
       "16       19.522          200  256000  ap-southeast-1a      2.971542   \n",
       "17       19.474          200  256000  ap-southeast-1a      2.969080   \n",
       "18       19.670          200  256000  ap-southeast-1a      2.979095   \n",
       "19       19.789          200  256000  ap-southeast-1a      2.985126   \n",
       "20       20.323          200  256000  ap-southeast-1a      3.011753   \n",
       "21       20.234          200  256000  ap-southeast-1a      3.007364   \n",
       "22       22.223          200  256000  ap-southeast-1a      3.101128   \n",
       "23       22.562          200  256000  ap-southeast-1a      3.116267   \n",
       "24       19.705          200  256000  ap-southeast-1a      2.980872   \n",
       "25       21.806          200  256000  ap-southeast-1a      3.082185   \n",
       "26       22.118          200  256000  ap-southeast-1a      3.096392   \n",
       "27       19.472          200  256000  ap-southeast-1a      2.968978   \n",
       "28       18.946          200  256000  ap-southeast-1a      2.941593   \n",
       "29       20.873          200  256000  ap-southeast-1a      3.038456   \n",
       "...         ...          ...     ...              ...           ...   \n",
       "2970      3.603          200  256000  ap-southeast-1c      1.281767   \n",
       "2971      3.596          200  256000  ap-southeast-1c      1.279822   \n",
       "2972      3.863          200  256000  ap-southeast-1c      1.351444   \n",
       "2973      3.576          200  256000  ap-southeast-1c      1.274245   \n",
       "2974      3.611          200  256000  ap-southeast-1c      1.283985   \n",
       "2975      3.612          200  256000  ap-southeast-1c      1.284262   \n",
       "2976      3.532          200  256000  ap-southeast-1c      1.261864   \n",
       "2977      3.652          200  256000  ap-southeast-1c      1.295275   \n",
       "2978      3.643          200  256000  ap-southeast-1c      1.292808   \n",
       "2979      3.851          200  256000  ap-southeast-1c      1.348333   \n",
       "2980      3.612          200  256000  ap-southeast-1c      1.284262   \n",
       "2981      3.619          200  256000  ap-southeast-1c      1.286198   \n",
       "2982      3.696          200  256000  ap-southeast-1c      1.307251   \n",
       "2983      3.764          200  256000  ap-southeast-1c      1.325482   \n",
       "2984      3.536          200  256000  ap-southeast-1c      1.262996   \n",
       "2985      3.483          200  256000  ap-southeast-1c      1.247894   \n",
       "2986      3.547          200  256000  ap-southeast-1c      1.266102   \n",
       "2987      3.598          200  256000  ap-southeast-1c      1.280378   \n",
       "2988      3.590          200  256000  ap-southeast-1c      1.278152   \n",
       "2989      3.844          200  256000  ap-southeast-1c      1.346513   \n",
       "2990      3.548          200  256000  ap-southeast-1c      1.266384   \n",
       "2991      3.574          200  256000  ap-southeast-1c      1.273685   \n",
       "2992      3.555          200  256000  ap-southeast-1c      1.268355   \n",
       "2993      3.632          200  256000  ap-southeast-1c      1.289783   \n",
       "2994      3.543          200  256000  ap-southeast-1c      1.264974   \n",
       "2995      3.567          200  256000  ap-southeast-1c      1.271725   \n",
       "2996      3.761          200  256000  ap-southeast-1c      1.324685   \n",
       "2997      3.486          200  256000  ap-southeast-1c      1.248755   \n",
       "2998      3.520          200  256000  ap-southeast-1c      1.258461   \n",
       "2999      3.516          200  256000  ap-southeast-1c      1.257324   \n",
       "\n",
       "      CLOUDFRONT  NGINX  ap_southeast_1b  ap_southeast_1c  \n",
       "0              1      0                0                0  \n",
       "1              1      0                0                0  \n",
       "2              1      0                0                0  \n",
       "3              1      0                0                0  \n",
       "4              1      0                0                0  \n",
       "5              1      0                0                0  \n",
       "6              1      0                0                0  \n",
       "7              1      0                0                0  \n",
       "8              1      0                0                0  \n",
       "9              1      0                0                0  \n",
       "10             1      0                0                0  \n",
       "11             1      0                0                0  \n",
       "12             1      0                0                0  \n",
       "13             1      0                0                0  \n",
       "14             1      0                0                0  \n",
       "15             1      0                0                0  \n",
       "16             1      0                0                0  \n",
       "17             1      0                0                0  \n",
       "18             1      0                0                0  \n",
       "19             1      0                0                0  \n",
       "20             1      0                0                0  \n",
       "21             1      0                0                0  \n",
       "22             1      0                0                0  \n",
       "23             1      0                0                0  \n",
       "24             1      0                0                0  \n",
       "25             1      0                0                0  \n",
       "26             1      0                0                0  \n",
       "27             1      0                0                0  \n",
       "28             1      0                0                0  \n",
       "29             1      0                0                0  \n",
       "...          ...    ...              ...              ...  \n",
       "2970           0      1                0                1  \n",
       "2971           0      1                0                1  \n",
       "2972           0      1                0                1  \n",
       "2973           0      1                0                1  \n",
       "2974           0      1                0                1  \n",
       "2975           0      1                0                1  \n",
       "2976           0      1                0                1  \n",
       "2977           0      1                0                1  \n",
       "2978           0      1                0                1  \n",
       "2979           0      1                0                1  \n",
       "2980           0      1                0                1  \n",
       "2981           0      1                0                1  \n",
       "2982           0      1                0                1  \n",
       "2983           0      1                0                1  \n",
       "2984           0      1                0                1  \n",
       "2985           0      1                0                1  \n",
       "2986           0      1                0                1  \n",
       "2987           0      1                0                1  \n",
       "2988           0      1                0                1  \n",
       "2989           0      1                0                1  \n",
       "2990           0      1                0                1  \n",
       "2991           0      1                0                1  \n",
       "2992           0      1                0                1  \n",
       "2993           0      1                0                1  \n",
       "2994           0      1                0                1  \n",
       "2995           0      1                0                1  \n",
       "2996           0      1                0                1  \n",
       "2997           0      1                0                1  \n",
       "2998           0      1                0                1  \n",
       "2999           0      1                0                1  \n",
       "\n",
       "[9000 rows x 12 columns]"
      ]
     },
     "execution_count": 91,
     "metadata": {},
     "output_type": "execute_result"
    }
   ],
   "source": [
    "df_az"
   ]
  },
  {
   "cell_type": "code",
   "execution_count": 90,
   "metadata": {},
   "outputs": [],
   "source": [
    "df_az.rename(columns={\n",
    "    \"ap-southeast-1a\" : \"ap_southeast_1a\",\n",
    "    \"ap-southeast-1b\" : \"ap_southeast_1b\",\n",
    "    \"ap-southeast-1c\" : \"ap_southeast_1c\"\n",
    "}, inplace=True)"
   ]
  },
  {
   "cell_type": "code",
   "execution_count": 93,
   "metadata": {},
   "outputs": [
    {
     "name": "stdout",
     "output_type": "stream",
     "text": [
      "                            OLS Regression Results                            \n",
      "==============================================================================\n",
      "Dep. Variable:           ln_resp_time   R-squared:                       0.811\n",
      "Model:                            OLS   Adj. R-squared:                  0.811\n",
      "Method:                 Least Squares   F-statistic:                     9675.\n",
      "Date:                Mon, 14 Oct 2019   Prob (F-statistic):               0.00\n",
      "Time:                        21:45:02   Log-Likelihood:                -4527.4\n",
      "No. Observations:                9000   AIC:                             9065.\n",
      "Df Residuals:                    8995   BIC:                             9100.\n",
      "Df Model:                           4                                         \n",
      "Covariance Type:            nonrobust                                         \n",
      "===================================================================================\n",
      "                      coef    std err          t      P>|t|      [0.025      0.975]\n",
      "-----------------------------------------------------------------------------------\n",
      "Intercept           3.1861      0.009    337.707      0.000       3.168       3.205\n",
      "NGINX              -1.9215      0.010   -185.922      0.000      -1.942      -1.901\n",
      "CLOUDFRONT         -0.4016      0.010    -38.862      0.000      -0.422      -0.381\n",
      "ap_southeast_1b     0.1566      0.010     15.154      0.000       0.136       0.177\n",
      "ap_southeast_1c     0.0916      0.010      8.861      0.000       0.071       0.112\n",
      "==============================================================================\n",
      "Omnibus:                     3783.940   Durbin-Watson:                   0.454\n",
      "Prob(Omnibus):                  0.000   Jarque-Bera (JB):            25680.498\n",
      "Skew:                           1.880   Prob(JB):                         0.00\n",
      "Kurtosis:                      10.371   Cond. No.                         4.44\n",
      "==============================================================================\n",
      "\n",
      "Warnings:\n",
      "[1] Standard Errors assume that the covariance matrix of the errors is correctly specified.\n"
     ]
    }
   ],
   "source": [
    "results = smf.ols(\"ln_resp_time ~ NGINX + CLOUDFRONT + ap_southeast_1b + ap_southeast_1c \", data=df_az).fit()\n",
    "print(results.summary())"
   ]
  },
  {
   "cell_type": "code",
   "execution_count": 654,
   "metadata": {
    "scrolled": true
   },
   "outputs": [
    {
     "data": {
      "text/plain": [
       "-33.0751608485781"
      ]
     },
     "execution_count": 654,
     "metadata": {},
     "output_type": "execute_result"
    }
   ],
   "source": [
    "100*(np.exp(-0.4016)-1)"
   ]
  },
  {
   "cell_type": "code",
   "execution_count": 645,
   "metadata": {},
   "outputs": [
    {
     "data": {
      "text/plain": [
       "14.638721653755152"
      ]
     },
     "execution_count": 645,
     "metadata": {},
     "output_type": "execute_result"
    }
   ],
   "source": [
    "np.exp(-1.9215)*100"
   ]
  },
  {
   "cell_type": "markdown",
   "metadata": {},
   "source": [
    "## OLS Regression - VPN"
   ]
  },
  {
   "cell_type": "code",
   "execution_count": 43,
   "metadata": {},
   "outputs": [],
   "source": [
    "import statsmodels.formula.api as smf"
   ]
  },
  {
   "cell_type": "code",
   "execution_count": 62,
   "metadata": {},
   "outputs": [
    {
     "data": {
      "text/plain": [
       "Index(['timestamp', 'url', 'server', 'resp_time', 'status_code', 'size',\n",
       "       'origin', 'ln_resp_time'],\n",
       "      dtype='object')"
      ]
     },
     "execution_count": 62,
     "metadata": {},
     "output_type": "execute_result"
    }
   ],
   "source": [
    "df.columns"
   ]
  },
  {
   "cell_type": "code",
   "execution_count": 63,
   "metadata": {},
   "outputs": [],
   "source": [
    "# Get server dummies - s3 as base\n",
    "server_dummies = pd.get_dummies(df['server']).drop('S3', axis=1)\n",
    "\n",
    "# Get Availability Zone dummies - 1a as base\n",
    "az_dummies = pd.get_dummies(df['origin'], drop_first=True)"
   ]
  },
  {
   "cell_type": "code",
   "execution_count": 65,
   "metadata": {},
   "outputs": [],
   "source": [
    "df = pd.concat([df, server_dummies], axis=1)\n",
    "df = pd.concat([df, az_dummies], axis=1)"
   ]
  },
  {
   "cell_type": "code",
   "execution_count": 69,
   "metadata": {},
   "outputs": [],
   "source": [
    "df.rename(columns={\n",
    "    \"sg-vpn-2\":\"sg_vpn_2\",\n",
    "    \"sg-vpn-3\" : \"sg_vpn_3\"\n",
    "}, inplace=True)"
   ]
  },
  {
   "cell_type": "code",
   "execution_count": 72,
   "metadata": {},
   "outputs": [
    {
     "name": "stdout",
     "output_type": "stream",
     "text": [
      "                            OLS Regression Results                            \n",
      "==============================================================================\n",
      "Dep. Variable:           ln_resp_time   R-squared:                       0.946\n",
      "Model:                            OLS   Adj. R-squared:                  0.946\n",
      "Method:                 Least Squares   F-statistic:                 3.910e+04\n",
      "Date:                Mon, 14 Oct 2019   Prob (F-statistic):               0.00\n",
      "Time:                        21:40:47   Log-Likelihood:                -76.087\n",
      "No. Observations:                9000   AIC:                             162.2\n",
      "Df Residuals:                    8995   BIC:                             197.7\n",
      "Df Model:                           4                                         \n",
      "Covariance Type:            nonrobust                                         \n",
      "==============================================================================\n",
      "                 coef    std err          t      P>|t|      [0.025      0.975]\n",
      "------------------------------------------------------------------------------\n",
      "Intercept      3.9444      0.006    685.587      0.000       3.933       3.956\n",
      "NGINX         -1.0723      0.006   -170.142      0.000      -1.085      -1.060\n",
      "CLOUDFRONT     0.1482      0.006     23.507      0.000       0.136       0.161\n",
      "sg_vpn_2       1.4071      0.006    223.262      0.000       1.395       1.419\n",
      "sg_vpn_3       2.0614      0.006    327.078      0.000       2.049       2.074\n",
      "==============================================================================\n",
      "Omnibus:                     8965.008   Durbin-Watson:                   1.267\n",
      "Prob(Omnibus):                  0.000   Jarque-Bera (JB):          1430594.622\n",
      "Skew:                           4.489   Prob(JB):                         0.00\n",
      "Kurtosis:                      64.109   Cond. No.                         4.44\n",
      "==============================================================================\n",
      "\n",
      "Warnings:\n",
      "[1] Standard Errors assume that the covariance matrix of the errors is correctly specified.\n"
     ]
    }
   ],
   "source": [
    "results = smf.ols(\"ln_resp_time ~ NGINX + CLOUDFRONT + sg_vpn_2 + sg_vpn_3 \", data=df).fit()\n",
    "print(results.summary())"
   ]
  }
 ],
 "metadata": {
  "kernelspec": {
   "display_name": "Python 3",
   "language": "python",
   "name": "python3"
  },
  "language_info": {
   "codemirror_mode": {
    "name": "ipython",
    "version": 3
   },
   "file_extension": ".py",
   "mimetype": "text/x-python",
   "name": "python",
   "nbconvert_exporter": "python",
   "pygments_lexer": "ipython3",
   "version": "3.6.7"
  }
 },
 "nbformat": 4,
 "nbformat_minor": 2
}
