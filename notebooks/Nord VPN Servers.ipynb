{
 "cells": [
  {
   "cell_type": "markdown",
   "metadata": {},
   "source": [
    "# Unique NordVPN Servers in Singapore"
   ]
  },
  {
   "cell_type": "markdown",
   "metadata": {},
   "source": [
    "This short notebook shows that despite having 184 servers in Singapore, NordVPN's servers are located in a single data cener according to coordinates provided by the NordVPN API."
   ]
  },
  {
   "cell_type": "code",
   "execution_count": 1,
   "metadata": {},
   "outputs": [],
   "source": [
    "import requests"
   ]
  },
  {
   "cell_type": "code",
   "execution_count": 8,
   "metadata": {},
   "outputs": [
    {
     "name": "stdout",
     "output_type": "stream",
     "text": [
      "0.990808\n"
     ]
    }
   ],
   "source": [
    "url = \"http://3.0.61.50/payload\"\n",
    "r = requests.get(url)\n",
    "print(r.elapsed.total_seconds())"
   ]
  },
  {
   "cell_type": "code",
   "execution_count": null,
   "metadata": {},
   "outputs": [],
   "source": []
  },
  {
   "cell_type": "code",
   "execution_count": 44,
   "metadata": {},
   "outputs": [],
   "source": [
    "r = requests.get(\"https://api.nordvpn.com/server\")"
   ]
  },
  {
   "cell_type": "code",
   "execution_count": 45,
   "metadata": {},
   "outputs": [],
   "source": [
    "server_list = r.json()"
   ]
  },
  {
   "cell_type": "code",
   "execution_count": 50,
   "metadata": {},
   "outputs": [],
   "source": [
    "sg_server_name = [ str(server['name']) \\\n",
    "                     for server in server_list \\\n",
    "                     if server['country'] == 'Singapore' ]"
   ]
  },
  {
   "cell_type": "code",
   "execution_count": 51,
   "metadata": {},
   "outputs": [
    {
     "data": {
      "text/plain": [
       "['Singapore #94',\n",
       " 'Singapore #95',\n",
       " 'Singapore #96',\n",
       " 'Singapore #98',\n",
       " 'Singapore #99',\n",
       " 'Singapore #100',\n",
       " 'Singapore #103',\n",
       " 'Singapore #104',\n",
       " 'Singapore #105',\n",
       " 'Singapore #106',\n",
       " 'Singapore #109',\n",
       " 'Singapore #110',\n",
       " 'Singapore #111',\n",
       " 'Singapore #112',\n",
       " 'Singapore #113',\n",
       " 'Singapore #122',\n",
       " 'Singapore #123',\n",
       " 'Singapore #130',\n",
       " 'Singapore #131',\n",
       " 'Singapore #138',\n",
       " 'Singapore #139',\n",
       " 'Singapore #142',\n",
       " 'Singapore #143',\n",
       " 'Singapore #146',\n",
       " 'Singapore #147',\n",
       " 'Singapore #150',\n",
       " 'Singapore #151',\n",
       " 'Singapore #154',\n",
       " 'Singapore #155',\n",
       " 'Singapore #158',\n",
       " 'Singapore #159',\n",
       " 'Singapore #162',\n",
       " 'Singapore #163',\n",
       " 'Singapore #166',\n",
       " 'Singapore #167',\n",
       " 'Singapore #170',\n",
       " 'Singapore #171',\n",
       " 'Singapore #172',\n",
       " 'Singapore #173',\n",
       " 'Singapore #174',\n",
       " 'Singapore #175',\n",
       " 'Singapore #176',\n",
       " 'Singapore #177',\n",
       " 'Singapore #178',\n",
       " 'Singapore #179',\n",
       " 'Singapore #180',\n",
       " 'Singapore #181',\n",
       " 'Singapore #182',\n",
       " 'Singapore #183',\n",
       " 'Singapore #188',\n",
       " 'Singapore #189',\n",
       " 'Singapore #190',\n",
       " 'Singapore #191',\n",
       " 'Singapore #192',\n",
       " 'Singapore #193',\n",
       " 'Singapore #194',\n",
       " 'Singapore #195',\n",
       " 'Singapore #196',\n",
       " 'Singapore #197',\n",
       " 'Singapore #198',\n",
       " 'Singapore #199',\n",
       " 'Singapore #200',\n",
       " 'Singapore #201',\n",
       " 'Singapore #202',\n",
       " 'Singapore #203',\n",
       " 'Singapore #204',\n",
       " 'Singapore #205',\n",
       " 'Singapore #206',\n",
       " 'Singapore #207',\n",
       " 'Singapore #208',\n",
       " 'Singapore #209',\n",
       " 'Singapore #210',\n",
       " 'Singapore #211',\n",
       " 'Singapore #212',\n",
       " 'Singapore #213',\n",
       " 'Singapore #214',\n",
       " 'Singapore #215',\n",
       " 'Singapore #216',\n",
       " 'Singapore #217',\n",
       " 'Singapore #218',\n",
       " 'Singapore #219',\n",
       " 'Singapore #220',\n",
       " 'Singapore #221',\n",
       " 'Singapore #222',\n",
       " 'Singapore #223',\n",
       " 'Singapore #224',\n",
       " 'Singapore #225',\n",
       " 'Singapore #226',\n",
       " 'Singapore #227',\n",
       " 'Singapore #228',\n",
       " 'Singapore #229',\n",
       " 'Singapore #230',\n",
       " 'Singapore #231',\n",
       " 'Singapore #232',\n",
       " 'Singapore #233',\n",
       " 'Singapore #234',\n",
       " 'Singapore #235',\n",
       " 'Singapore #236',\n",
       " 'Singapore #237',\n",
       " 'Singapore #238',\n",
       " 'Singapore #239',\n",
       " 'Singapore #240',\n",
       " 'Singapore #241',\n",
       " 'Singapore #242',\n",
       " 'Singapore #243',\n",
       " 'Singapore #244',\n",
       " 'Singapore #245',\n",
       " 'Singapore #246',\n",
       " 'Singapore #247',\n",
       " 'Singapore #248',\n",
       " 'Singapore #249',\n",
       " 'Singapore #250',\n",
       " 'Singapore #251',\n",
       " 'Singapore #252',\n",
       " 'Singapore #253',\n",
       " 'Singapore #254',\n",
       " 'Singapore #255',\n",
       " 'Singapore #256',\n",
       " 'Singapore #258',\n",
       " 'Singapore #260',\n",
       " 'Singapore #261',\n",
       " 'Singapore #262',\n",
       " 'Singapore #263',\n",
       " 'Singapore #264',\n",
       " 'Singapore #265',\n",
       " 'Singapore #266',\n",
       " 'Singapore #267',\n",
       " 'Singapore #268',\n",
       " 'Singapore #269',\n",
       " 'Singapore #270',\n",
       " 'Singapore #271',\n",
       " 'Singapore #272',\n",
       " 'Singapore #273',\n",
       " 'Singapore #274',\n",
       " 'Singapore #275',\n",
       " 'Singapore #276',\n",
       " 'Singapore #277',\n",
       " 'Singapore #278',\n",
       " 'Singapore #279',\n",
       " 'Singapore #280',\n",
       " 'Singapore #281',\n",
       " 'Singapore #282',\n",
       " 'Singapore #283',\n",
       " 'Singapore #284',\n",
       " 'Singapore #285',\n",
       " 'Singapore #286',\n",
       " 'Singapore #287',\n",
       " 'Singapore #288',\n",
       " 'Singapore #289',\n",
       " 'Singapore #290',\n",
       " 'Singapore #291',\n",
       " 'Singapore #292',\n",
       " 'Singapore #293',\n",
       " 'Singapore #294',\n",
       " 'Singapore #295',\n",
       " 'Singapore #296',\n",
       " 'Singapore #297',\n",
       " 'Singapore #298',\n",
       " 'Singapore #299',\n",
       " 'Singapore #300',\n",
       " 'Singapore #301',\n",
       " 'Singapore #302',\n",
       " 'Singapore #303',\n",
       " 'Singapore #304',\n",
       " 'Singapore #305',\n",
       " 'Singapore #306',\n",
       " 'Singapore #307',\n",
       " 'Singapore #308',\n",
       " 'Singapore #309',\n",
       " 'Singapore #310',\n",
       " 'Singapore #311',\n",
       " 'Singapore #312',\n",
       " 'Singapore #313',\n",
       " 'Singapore #314',\n",
       " 'Singapore #315',\n",
       " 'Singapore #316',\n",
       " 'Singapore #317',\n",
       " 'Singapore #318',\n",
       " 'Singapore #319',\n",
       " 'Singapore #320',\n",
       " 'Singapore #325',\n",
       " 'Singapore #326',\n",
       " 'Singapore #371',\n",
       " 'Singapore #372']"
      ]
     },
     "execution_count": 51,
     "metadata": {},
     "output_type": "execute_result"
    }
   ],
   "source": [
    "sg_server_name"
   ]
  },
  {
   "cell_type": "code",
   "execution_count": 46,
   "metadata": {},
   "outputs": [],
   "source": [
    "sg_server_loc = [ str(server['location']['lat']) + ',' + str(server['location']['long']) \\\n",
    "                     for server in server_list \\\n",
    "                     if server['country'] == 'Singapore' ]"
   ]
  },
  {
   "cell_type": "code",
   "execution_count": 40,
   "metadata": {},
   "outputs": [
    {
     "name": "stdout",
     "output_type": "stream",
     "text": [
      "Number of NordVPN Servers in Singapore: 184\n"
     ]
    }
   ],
   "source": [
    "print(f\"Number of NordVPN Servers in Singapore: {len(sg_server_loc)}\")"
   ]
  },
  {
   "cell_type": "code",
   "execution_count": 42,
   "metadata": {
    "scrolled": true
   },
   "outputs": [
    {
     "name": "stdout",
     "output_type": "stream",
     "text": [
      "Number of Unique NordVPN Server locations in Singapore: 1\n"
     ]
    }
   ],
   "source": [
    "print(f\"Number of Unique NordVPN Server locations in Singapore: {len(set(sg_server_loc))}\")"
   ]
  },
  {
   "cell_type": "code",
   "execution_count": 56,
   "metadata": {},
   "outputs": [
    {
     "data": {
      "text/plain": [
       "5.833333333333333"
      ]
     },
     "execution_count": 56,
     "metadata": {},
     "output_type": "execute_result"
    }
   ],
   "source": []
  },
  {
   "cell_type": "code",
   "execution_count": null,
   "metadata": {},
   "outputs": [],
   "source": []
  }
 ],
 "metadata": {
  "kernelspec": {
   "display_name": "Python 3",
   "language": "python",
   "name": "python3"
  },
  "language_info": {
   "codemirror_mode": {
    "name": "ipython",
    "version": 3
   },
   "file_extension": ".py",
   "mimetype": "text/x-python",
   "name": "python",
   "nbconvert_exporter": "python",
   "pygments_lexer": "ipython3",
   "version": "3.6.8"
  }
 },
 "nbformat": 4,
 "nbformat_minor": 2
}
