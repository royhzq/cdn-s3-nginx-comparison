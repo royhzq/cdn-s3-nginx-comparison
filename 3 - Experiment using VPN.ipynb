{
 "cells": [
  {
   "cell_type": "markdown",
   "metadata": {},
   "source": [
    "## 3 - Conducting the experiment using a VPN"
   ]
  },
  {
   "cell_type": "markdown",
   "metadata": {},
   "source": [
    "Rather than using EC2 to simulate requests from different locations in Singapore, we can use a VPN instead to avoid the bias that was discussed in the previous run. However, one disadvantage with a VPN service would be that we will not know if the origin of the requests will be spread out or close together. "
   ]
  },
  {
   "cell_type": "markdown",
   "metadata": {},
   "source": [
    "This run can be conducted in the same manner through the local machine, or through an EC2 instance as long as a network VPN is applied. NordVPN was used and 9000 requests were made proxied through three different NordVPN servers in Singapore."
   ]
  },
  {
   "cell_type": "markdown",
   "metadata": {},
   "source": [
    "## OLS Regression Specification"
   ]
  },
  {
   "cell_type": "markdown",
   "metadata": {},
   "source": [
    "$$ log(T_i) = \\beta_0 + \\beta_1\\text{Nginx}_i + \\beta_2\\text{Cloudfront}_i + \\beta_3\\text{vpn-2}_i + \\beta_4\\text{vpn-3}_i + \\epsilon_i $$"
   ]
  },
  {
   "cell_type": "markdown",
   "metadata": {},
   "source": [
    "Where:\n",
    "* $ T_i = $ Dependent variable. The response time of the $i$th HTTP GET request for the payload file\n",
    "* $ \\text{Nginx}_i = $ Dummy variable of the $i$the request if the file source is from the Nginx server\n",
    "* $ \\text{Cloudfront}_i = $ Dummy variable of the $i$the request if the file source is from the CDN\n",
    "* $ \\text{vpn-2}_i = $ Dummy variable of the $i$the request if the request is proxied from the second Singapore vpn server\n",
    "* $ \\text{vpn-3}_i = $ Dummy variable of the $i$the request if the request is proxied from the third Singapore vpn\n"
   ]
  },
  {
   "cell_type": "code",
   "execution_count": 1,
   "metadata": {},
   "outputs": [],
   "source": [
    "import pandas as pd\n",
    "import numpy as np\n",
    "import matplotlib.pyplot as plt\n",
    "from scipy import stats\n",
    "import statsmodels.formula.api as smf"
   ]
  },
  {
   "cell_type": "code",
   "execution_count": 7,
   "metadata": {},
   "outputs": [],
   "source": [
    "df_a = pd.read_csv(\"./data/sg-vpn-1-data.csv\")\n",
    "df_b = pd.read_csv(\"./data/sg-vpn-2-data.csv\")\n",
    "df_c = pd.read_csv(\"./data/sg-vpn-3-data.csv\")\n",
    "df = df_a.append(df_b).append(df_c)"
   ]
  },
  {
   "cell_type": "code",
   "execution_count": 8,
   "metadata": {},
   "outputs": [],
   "source": [
    "df['resp_time'] = df['resp_time'] * 1000 # Convert to milliseconds\n",
    "df['ln_resp_time'] = np.log(df['resp_time']) # Log response times"
   ]
  },
  {
   "cell_type": "code",
   "execution_count": 9,
   "metadata": {
    "scrolled": false
   },
   "outputs": [
    {
     "data": {
      "image/png": "[encoded data removed]",
      "text/plain": [
       "<Figure size 1080x360 with 2 Axes>"
      ]
     },
     "metadata": {
      "needs_background": "light"
     },
     "output_type": "display_data"
    },
    {
     "name": "stdout",
     "output_type": "stream",
     "text": [
      "Mean response times (ms): 255.30652666666668 (CloudFront), 218.870238 (S3), 84.998068 (NGINX) \n",
      "Variance: 36033.54 (CloudFront), 21997.82 (S3), 5870.15 (NGINX) \n",
      "N=9000\n"
     ]
    }
   ],
   "source": [
    "cdn, ln_cdn = zip(*df[['resp_time','ln_resp_time']].loc[df['server']=='CLOUDFRONT'].values)\n",
    "s3, ln_s3 = zip(*df[['resp_time','ln_resp_time']].loc[df['server']=='S3'].values)\n",
    "nginx, ln_nginx = zip(*df[['resp_time','ln_resp_time']].loc[df['server']=='NGINX'].values)\n",
    "\n",
    "bins = np.linspace(0, df['resp_time'].quantile(0.999), 100) # Less outliers\n",
    "ln_bins = np.linspace(df['ln_resp_time'].min(), df['ln_resp_time'].quantile(0.999), 100)\n",
    "\n",
    "fig, (ax1, ax2) = plt.subplots(1,2, figsize=(15,5))\n",
    "\n",
    "ax1.hist(cdn, bins=bins, label='AWS CloudFront CDN')\n",
    "ax1.hist(s3, bins=bins, label='AWS S3')\n",
    "ax1.hist(nginx, bins=bins, label='NGINX')\n",
    "ax1.set_title('Distribution of Response Times, milliseconds \\n Request origin: VPN (SG)', fontsize=12, fontweight='bold')\n",
    "ax1.legend()\n",
    "ax1.set_xlabel(\"Response Time (ms)\", fontsize=12)\n",
    "\n",
    "ax2.hist(ln_cdn, bins=ln_bins, label='AWS CloudFront CDN')\n",
    "ax2.hist(ln_s3, bins=ln_bins, label='AWS S3')\n",
    "ax2.hist(ln_nginx, bins=ln_bins, label='NGINX')\n",
    "ax2.set_title('Distribution of log Response Times, milliseconds \\n Request origin: VPN (SG)', fontsize=12, fontweight='bold')\n",
    "ax2.legend()\n",
    "ax2.set_xlabel(\"Log Response Time (ms)\", fontsize=12)\n",
    "\n",
    "plt.savefig('./static/local-hist.png')\n",
    "plt.show()\n",
    "\n",
    "print(f\"Mean response times (ms): {np.mean(cdn)} (CloudFront), {np.mean(s3)} (S3), {np.mean(nginx)} (NGINX) \")\n",
    "print(f\"Variance: {np.var(cdn):.2f} (CloudFront), {np.var(s3):.2f} (S3), {np.var(nginx):.2f} (NGINX) \")\n",
    "print(f\"N={df.shape[0]}\")"
   ]
  },
  {
   "cell_type": "code",
   "execution_count": 10,
   "metadata": {},
   "outputs": [],
   "source": [
    "# Get server dummies - s3 as base\n",
    "server_dummies = pd.get_dummies(df['server']).drop('S3', axis=1)\n",
    "\n",
    "# Get vpn dummies - sg-vpn-1 as base\n",
    "vpn_dummies = pd.get_dummies(df['origin'], drop_first=True)"
   ]
  },
  {
   "cell_type": "code",
   "execution_count": 11,
   "metadata": {},
   "outputs": [],
   "source": [
    "df = pd.concat([df, server_dummies], axis=1)\n",
    "df = pd.concat([df, vpn_dummies], axis=1)"
   ]
  },
  {
   "cell_type": "code",
   "execution_count": 13,
   "metadata": {},
   "outputs": [],
   "source": [
    "df.rename(columns={\n",
    "    \"sg-vpn-1\" : \"sg_vpn_1\",\n",
    "    \"sg-vpn-2\" : \"sg_vpn_2\",\n",
    "    \"sg-vpn-3\" : \"sg_vpn_3\",\n",
    "}, inplace=True)"
   ]
  },
  {
   "cell_type": "code",
   "execution_count": 14,
   "metadata": {},
   "outputs": [
    {
     "name": "stdout",
     "output_type": "stream",
     "text": [
      "                            OLS Regression Results                            \n",
      "==============================================================================\n",
      "Dep. Variable:           ln_resp_time   R-squared:                       0.946\n",
      "Model:                            OLS   Adj. R-squared:                  0.946\n",
      "Method:                 Least Squares   F-statistic:                 3.910e+04\n",
      "Date:                Tue, 15 Oct 2019   Prob (F-statistic):               0.00\n",
      "Time:                        15:46:53   Log-Likelihood:                -76.087\n",
      "No. Observations:                9000   AIC:                             162.2\n",
      "Df Residuals:                    8995   BIC:                             197.7\n",
      "Df Model:                           4                                         \n",
      "Covariance Type:            nonrobust                                         \n",
      "==============================================================================\n",
      "                 coef    std err          t      P>|t|      [0.025      0.975]\n",
      "------------------------------------------------------------------------------\n",
      "Intercept      3.9444      0.006    685.587      0.000       3.933       3.956\n",
      "NGINX         -1.0723      0.006   -170.142      0.000      -1.085      -1.060\n",
      "CLOUDFRONT     0.1482      0.006     23.507      0.000       0.136       0.161\n",
      "sg_vpn_2       1.4071      0.006    223.262      0.000       1.395       1.419\n",
      "sg_vpn_3       2.0614      0.006    327.078      0.000       2.049       2.074\n",
      "==============================================================================\n",
      "Omnibus:                     8965.008   Durbin-Watson:                   1.267\n",
      "Prob(Omnibus):                  0.000   Jarque-Bera (JB):          1430594.622\n",
      "Skew:                           4.489   Prob(JB):                         0.00\n",
      "Kurtosis:                      64.109   Cond. No.                         4.44\n",
      "==============================================================================\n",
      "\n",
      "Warnings:\n",
      "[1] Standard Errors assume that the covariance matrix of the errors is correctly specified.\n"
     ]
    }
   ],
   "source": [
    "results = smf.ols(\"ln_resp_time ~ NGINX + CLOUDFRONT + sg_vpn_2 + sg_vpn_3 \", data=df).fit()\n",
    "print(results.summary())"
   ]
  },
  {
   "cell_type": "markdown",
   "metadata": {},
   "source": [
    "## Discussion"
   ]
  },
  {
   "cell_type": "markdown",
   "metadata": {},
   "source": [
    "Using a VPN to proxy requests from different servers in Singapore, our OLS regression estimates now seem to support our initial results, that requests from CloudFront CDN are in fact slower than requests from S3, within the Singapore region. For this run, requests to the CDN are associated with a $100(e^{0.1482}-1)=15.9$ percent increase in response times while requests to the Nginx server are associated with $100(e^{-1.0723}-1)=-65.8$ percent decrease in response times. These estimates are statistically significant at the $\\alpha=0.01$ level of significance. "
   ]
  },
  {
   "cell_type": "markdown",
   "metadata": {},
   "source": [
    "## Conclusion"
   ]
  },
  {
   "cell_type": "markdown",
   "metadata": {},
   "source": [
    "It is common practice to deploy a CDN to speed up the delivery of static content, and in most cases, the CDN does the job well by caching the content on geographically distributed servers. Users will retrieve content through servers located nearest to them, thereby reducing response times. However, for an application serving a local region, the benefits of using a CDN may be diminished, especially in a geographically tiny region such as Singapore."
   ]
  },
  {
   "cell_type": "markdown",
   "metadata": {},
   "source": [
    "This analysis has shown statistically that serving static content in the Singapore region through a CDN (CloudFront) can in fact be slower than through a basic cloud storage service (AWS S3). In addition, our analysis also suggests that a Nginx static file server outperforms both the CDN and the cloud storage service in this area. "
   ]
  },
  {
   "cell_type": "markdown",
   "metadata": {},
   "source": [
    "However, a few caveats are in order. The response times are recorded via network requests through a local machine, vpn, and ec2 instances. These timings may not be representative of the typical user experience as the variation in origin locations of the experimental requests are quite limited. "
   ]
  },
  {
   "cell_type": "markdown",
   "metadata": {},
   "source": [
    "These comparisons are also conducted solely on AWS infrastructure. Using other cloud storage / CDN service providers may yield different results. "
   ]
  },
  {
   "cell_type": "markdown",
   "metadata": {},
   "source": [
    "Lastly, the performance of the Nginx server is likely biased downwards (faster) as the requests to the file server are HTTP based, as compared to HTTPS on S3 and CloudFront. Enabling HTTPS on the Nginx file server would be a fairer comparison against the other methods as the time taken for the SSL/TLS handshake is not insignificant at the millisecond scale. "
   ]
  }
 ],
 "metadata": {
  "kernelspec": {
   "display_name": "Python 3",
   "language": "python",
   "name": "python3"
  },
  "language_info": {
   "codemirror_mode": {
    "name": "ipython",
    "version": 3
   },
   "file_extension": ".py",
   "mimetype": "text/x-python",
   "name": "python",
   "nbconvert_exporter": "python",
   "pygments_lexer": "ipython3",
   "version": "3.6.8"
  }
 },
 "nbformat": 4,
 "nbformat_minor": 2
}
