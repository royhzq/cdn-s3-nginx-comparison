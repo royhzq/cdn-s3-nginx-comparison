{
 "cells": [
  {
   "cell_type": "markdown",
   "metadata": {},
   "source": [
    "# AWS S3 vs CloudFront CDN vs NGINX"
   ]
  },
  {
   "cell_type": "markdown",
   "metadata": {},
   "source": [
    "A statistical comparison of transfer speeds for static files served from a Content Delivery Network (CDN), Amazon's Simple Storage Service (S3) and an NGINX server in Singapore."
   ]
  },
  {
   "cell_type": "markdown",
   "metadata": {},
   "source": [
    "Content Delivery Networks serve as web proxies and allows caching of data nearer to the requesting user's location. Using a CDN can greatly increase transfer speeds if you are serving content to a global audience."
   ]
  },
  {
   "cell_type": "markdown",
   "metadata": {},
   "source": [
    "However, if you are serving content solely to a local region, static files served with a CDN may not be faster than files served using a regular storage service (i.e., AWS S3). This may be even more so in a small region like Singapore, where distances between data centers are relatively short."
   ]
  },
  {
   "cell_type": "markdown",
   "metadata": {},
   "source": [
    "As such, we will conduct a statistical comparison of the speeds for three different methods of serving a 100kb file. \n",
    "\n",
    "1. **AWS Simple Storage Service** <br> - Amazon's default cloud storage service\n",
    "2. **AWS CloudFront CDN** <br> - Amazon's Content Delivery Network Service\n",
    "3. **NGINX Web Server** <br> - A popular open source web server "
   ]
  },
  {
   "cell_type": "markdown",
   "metadata": {},
   "source": [
    "## Motivation"
   ]
  },
  {
   "cell_type": "markdown",
   "metadata": {},
   "source": [
    "It is not immediately obvious if a CDN will be beneficial for applications serving solely serving the Singapore market. In AWS, the S3 service stores files in specific regions. And in South-East Asia region, AWS only has data centers in Singapore. Likewise, it's CDN service will serve the same files through the same data centers (together with edge locations). For each region (including Singapore), AWS maintains 3 availability zones. These zones contain one or more data centers and each zone is separated by a significant distance to spread the risk of a disaster bringing down all zones at once. This means that in the Singapore, one availability zone may be in Jurong area and the other in Tampines. The distance could be around ~20km."
   ]
  },
  {
   "cell_type": "markdown",
   "metadata": {},
   "source": [
    "Compare the scenario to the Ohio region where it is ~100x larger in area than Singapore. The availability zones are spread out much further. Thus, using a CDN will be more effective there. The case is not so clear for Singapore."
   ]
  },
  {
   "cell_type": "markdown",
   "metadata": {},
   "source": [
    "As such, is it still worthwhile to use a CDN in Singapore, solely for the Singapore market?"
   ]
  }
 ],
 "metadata": {
  "kernelspec": {
   "display_name": "Python 3",
   "language": "python",
   "name": "python3"
  },
  "language_info": {
   "codemirror_mode": {
    "name": "ipython",
    "version": 3
   },
   "file_extension": ".py",
   "mimetype": "text/x-python",
   "name": "python",
   "nbconvert_exporter": "python",
   "pygments_lexer": "ipython3",
   "version": "3.6.8"
  }
 },
 "nbformat": 4,
 "nbformat_minor": 2
}
