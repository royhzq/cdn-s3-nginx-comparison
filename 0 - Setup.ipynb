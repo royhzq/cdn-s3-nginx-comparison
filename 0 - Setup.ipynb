{
 "cells": [
  {
   "cell_type": "markdown",
   "metadata": {},
   "source": [
    "# Setup\n",
    "For this experiment, an AWS account is required. The services used are namely AWS Simple Storage Service (S3), AWS Elastic Compute (EC2), and AWS CloudFront CDN. Running this experiment may incur slight charges on your AWS account."
   ]
  },
  {
   "cell_type": "markdown",
   "metadata": {},
   "source": [
    "### Request Target\n"
   ]
  },
  {
   "cell_type": "markdown",
   "metadata": {},
   "source": [
    "We'll create a 256KB file for our experiment. This same file will be the request target for all three content delivery methods.\n",
    "```{bash}\n",
    "$ dd if=/dev/zero of=payload  bs=256KB  count=1\n",
    "```"
   ]
  },
  {
   "cell_type": "markdown",
   "metadata": {},
   "source": [
    "## S3"
   ]
  },
  {
   "cell_type": "markdown",
   "metadata": {},
   "source": [
    "First, upload the payload file to an S3 bucket. Detailed instructions on how to upload files to S3 can be found here https://docs.aws.amazon.com/AmazonS3/latest/user-guide/upload-objects.html"
   ]
  },
  {
   "cell_type": "markdown",
   "metadata": {},
   "source": [
    "Take note of the following when uploading the object to S3:\n",
    "* The bucket should be hosted in the *ap-southeast-1* region which is located in Singapore\n",
    "* Public access to the object is disallowed by default. Turn on public access to the file.\n",
    "* Choose **S3 Standard** for the object storage class"
   ]
  },
  {
   "cell_type": "markdown",
   "metadata": {},
   "source": [
    "Once done, the file can be accessed over the Internet via the URL format:\n",
    "```{bash}\n",
    "https://<bucket-name>.s3-ap-southeast-1.amazonaws.com/payload\n",
    "```"
   ]
  },
  {
   "cell_type": "markdown",
   "metadata": {},
   "source": [
    "## CloudFront CDN"
   ]
  },
  {
   "cell_type": "markdown",
   "metadata": {},
   "source": [
    "Next, with the object uploaded to S3, you can easily enable the CDN service on the S3 bucket. This will allow the same file to be served through Amazon's content delivery network - CloudFront. The CDN url path for the payload object should be in the format below:\n",
    "```{bash}\n",
    "https://<your-assigned-cloudfront-url>.cloudfront.net/payload\n",
    "```\n",
    "Detailed instructions on how to enable CloudFront on S3 can be found here, and it should take only a few minutes setup: https://aws.amazon.com/premiumsupport/knowledge-center/cloudfront-https-requests-s3/"
   ]
  },
  {
   "cell_type": "markdown",
   "metadata": {},
   "source": [
    "## NGINX File Server"
   ]
  },
  {
   "cell_type": "markdown",
   "metadata": {},
   "source": [
    "We will first deploy an AWS EC2 instance and use NGINX as a static file server to serve the payload file. If you have never deployed an EC2 instance before, you can follow the instructions here:\n",
    "https://docs.aws.amazon.com/efs/latest/ug/gs-step-one-create-ec2-resources.html"
   ]
  },
  {
   "cell_type": "markdown",
   "metadata": {},
   "source": [
    " We will deploy a *t2.small* instance using the standard *Amazon Linux 2 AMI (HVM), SSD Volume Type* AMI. <br>\n",
    " Take note that of the following when launching this instance:\n",
    " * Instance should be deployed in the **ap-southeast-1a** availability zone in the Singapore region.  \n",
    " * For simplicity, you may deploy this instance in the default subnet.\n",
    " * Configure the security group to allow inbound traffic from port 80\n",
    " * Input user-data script below"
   ]
  },
  {
   "cell_type": "markdown",
   "metadata": {},
   "source": [
    "#### Bootstrap Script"
   ]
  },
  {
   "cell_type": "markdown",
   "metadata": {},
   "source": [
    "When deploying EC2 instances, we can upload bash scripts during deployment and these scripts will run when the instance is deployed automatically. To automate the server configurations, we will add the configuration script to run on instance launch. To find out more on running scripts on instance launch, see the docs here: https://docs.aws.amazon.com/AWSEC2/latest/UserGuide/user-data.html"
   ]
  },
  {
   "cell_type": "markdown",
   "metadata": {},
   "source": [
    "The following script goes into the **user-data** field in *Step 3 - Configure Instance* in the AWS Console when launching an EC2 instance:"
   ]
  },
  {
   "cell_type": "markdown",
   "metadata": {},
   "source": [
    "```{bash}\n",
    "#!/bin/bash\n",
    "yum update -y\n",
    "amazon-linux-extras install nginx1.12 -y\n",
    "cat > local.conf <<- EOM\n",
    "server {\n",
    "    listen 80;\n",
    "    server_name _;\n",
    "    root /usr/share/nginx;\n",
    "    location / {\n",
    "    }\n",
    "}\n",
    "EOM\n",
    "mv local.conf /etc/nginx/conf.d/local.conf\n",
    "dd if=/dev/zero of=/usr/share/nginx/html/payload  bs=256KB  count=1\n",
    "systemctl restart nginx\n",
    "\n",
    "```"
   ]
  },
  {
   "cell_type": "markdown",
   "metadata": {},
   "source": [
    "What this script does is:\n",
    "1. Install Nginx\n",
    "2. Configure Nginx to serve files on port 80\n",
    "3. Create the 256KB payload file \n",
    "4. Restarts Nginx"
   ]
  },
  {
   "cell_type": "markdown",
   "metadata": {},
   "source": [
    "The file server is now ready and the payload file will be accessible in the given URL format:\n",
    "```{bash}\n",
    "http://<public-ipv4-address>/payload\n",
    "```"
   ]
  },
  {
   "cell_type": "markdown",
   "metadata": {},
   "source": [
    "Overwrite the URLS to the 3 file servers in *config.py* "
   ]
  },
  {
   "cell_type": "code",
   "execution_count": 4,
   "metadata": {},
   "outputs": [],
   "source": [
    "# Replace key values in config.py\n",
    "source = {\n",
    "    \"CLOUDFRONT\": \"https://<your-assigned-cloudfront-url>.cloudfront.net/payload\",\n",
    "    \"S3\": \"https://<bucket-name>.s3-ap-southeast-1.amazonaws.com/payload\",\n",
    "    \"NGINX\": \"http://<public-ipv4-address>/payload\",\n",
    "}"
   ]
  },
  {
   "cell_type": "markdown",
   "metadata": {},
   "source": [
    "Now all three content delivery methods are ready and we can begin the experiment.<br>"
   ]
  }
 ],
 "metadata": {
  "kernelspec": {
   "display_name": "Python 3",
   "language": "python",
   "name": "python3"
  },
  "language_info": {
   "codemirror_mode": {
    "name": "ipython",
    "version": 3
   },
   "file_extension": ".py",
   "mimetype": "text/x-python",
   "name": "python",
   "nbconvert_exporter": "python",
   "pygments_lexer": "ipython3",
   "version": "3.6.8"
  }
 },
 "nbformat": 4,
 "nbformat_minor": 2
}
