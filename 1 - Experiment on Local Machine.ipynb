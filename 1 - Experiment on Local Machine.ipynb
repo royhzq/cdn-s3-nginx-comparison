{
 "cells": [
  {
   "cell_type": "markdown",
   "metadata": {},
   "source": [
    "## 1 - Conducting the experiment from a local machine"
   ]
  },
  {
   "cell_type": "markdown",
   "metadata": {},
   "source": [
    "We'll start with a simple case / base case - requesting the static files from our local machine. As this experiment investigates the response times from within the Singapore region, you need to be located in Singapore for this run to be valid. If you are not located in Singapore, you may use a VPN (see subsequent jupyter notebooks) as a proxy."
   ]
  },
  {
   "cell_type": "code",
   "execution_count": 5,
   "metadata": {},
   "outputs": [],
   "source": [
    "import config\n",
    "import requests\n",
    "import datetime\n",
    "import pandas as pd\n",
    "import numpy as np\n",
    "import matplotlib.pyplot as plt\n",
    "from scipy import stats"
   ]
  },
  {
   "cell_type": "markdown",
   "metadata": {},
   "source": [
    "We iterate through each file server in *config.SOURCE* and make 1000 HTTP GET requests for the payload file for each source. The response times and other metrics such as status codes are recorded and written to a csv file in the data folder."
   ]
  },
  {
   "cell_type": "code",
   "execution_count": null,
   "metadata": {
    "scrolled": true
   },
   "outputs": [],
   "source": [
    "with open(\"./data/local-data.csv\", \"w\") as f:\n",
    "\n",
    "    n=1000\n",
    "    origin = \"local-test\" # Request coming from local machine    \n",
    "    headers = \"timestamp,url,server,resp_time,status_code,size,origin\"\n",
    "    f.write(headers)\n",
    "    f.write(\"\\n\")\n",
    "    \n",
    "    # Iterate through each mode of serving payload\n",
    "    for server, url in config.SOURCE.items():    \n",
    "        for i in range(1000):\n",
    "            r = requests.get(url)\n",
    "            timestamp = datetime.datetime.utcnow().strftime('%Y-%m-%d %H:%M:%S.%f')\n",
    "            row = [\n",
    "                timestamp, \n",
    "                url, \n",
    "                server, \n",
    "                str(r.elapsed.total_seconds()), \n",
    "                str(r.status_code), \n",
    "                str(len(r.content)), \n",
    "                origin\n",
    "            ]\n",
    "            f.write(\",\".join(row))\n",
    "            f.write(\"\\n\")\n",
    "            print(i, server, r.elapsed.total_seconds(), r.status_code)"
   ]
  },
  {
   "cell_type": "markdown",
   "metadata": {},
   "source": [
    "## Hypothesis Testing"
   ]
  },
  {
   "cell_type": "markdown",
   "metadata": {},
   "source": [
    "With the data at hand, we can visualize and conduct a t-test to ascertain if there any significant differences in speeds between the three methods of delivering static content"
   ]
  },
  {
   "cell_type": "code",
   "execution_count": 6,
   "metadata": {},
   "outputs": [],
   "source": [
    "df = pd.read_csv('./data/local-data.csv')"
   ]
  },
  {
   "cell_type": "code",
   "execution_count": 7,
   "metadata": {},
   "outputs": [],
   "source": [
    "df['resp_time'] = df['resp_time'] * 1000 # Convert to milliseconds\n",
    "df['ln_resp_time'] = np.log(df['resp_time']) # Log response times"
   ]
  },
  {
   "cell_type": "code",
   "execution_count": 8,
   "metadata": {},
   "outputs": [
    {
     "data": {
      "text/html": [
       "<div>\n",
       "<style scoped>\n",
       "    .dataframe tbody tr th:only-of-type {\n",
       "        vertical-align: middle;\n",
       "    }\n",
       "\n",
       "    .dataframe tbody tr th {\n",
       "        vertical-align: top;\n",
       "    }\n",
       "\n",
       "    .dataframe thead th {\n",
       "        text-align: right;\n",
       "    }\n",
       "</style>\n",
       "<table border=\"1\" class=\"dataframe\">\n",
       "  <thead>\n",
       "    <tr style=\"text-align: right;\">\n",
       "      <th></th>\n",
       "      <th>resp_time</th>\n",
       "      <th>ln_resp_time</th>\n",
       "      <th>server</th>\n",
       "      <th>origin</th>\n",
       "    </tr>\n",
       "  </thead>\n",
       "  <tbody>\n",
       "    <tr>\n",
       "      <td>195</td>\n",
       "      <td>63.296</td>\n",
       "      <td>4.147822</td>\n",
       "      <td>CLOUDFRONT</td>\n",
       "      <td>local</td>\n",
       "    </tr>\n",
       "    <tr>\n",
       "      <td>2882</td>\n",
       "      <td>11.929</td>\n",
       "      <td>2.478972</td>\n",
       "      <td>NGINX</td>\n",
       "      <td>local</td>\n",
       "    </tr>\n",
       "    <tr>\n",
       "      <td>379</td>\n",
       "      <td>59.916</td>\n",
       "      <td>4.092944</td>\n",
       "      <td>CLOUDFRONT</td>\n",
       "      <td>local</td>\n",
       "    </tr>\n",
       "    <tr>\n",
       "      <td>2441</td>\n",
       "      <td>12.570</td>\n",
       "      <td>2.531313</td>\n",
       "      <td>NGINX</td>\n",
       "      <td>local</td>\n",
       "    </tr>\n",
       "    <tr>\n",
       "      <td>1880</td>\n",
       "      <td>58.267</td>\n",
       "      <td>4.065036</td>\n",
       "      <td>S3</td>\n",
       "      <td>local</td>\n",
       "    </tr>\n",
       "  </tbody>\n",
       "</table>\n",
       "</div>"
      ],
      "text/plain": [
       "      resp_time  ln_resp_time      server origin\n",
       "195      63.296      4.147822  CLOUDFRONT  local\n",
       "2882     11.929      2.478972       NGINX  local\n",
       "379      59.916      4.092944  CLOUDFRONT  local\n",
       "2441     12.570      2.531313       NGINX  local\n",
       "1880     58.267      4.065036          S3  local"
      ]
     },
     "execution_count": 8,
     "metadata": {},
     "output_type": "execute_result"
    }
   ],
   "source": [
    "df[['resp_time','ln_resp_time','server','origin']].sample(5)"
   ]
  },
  {
   "cell_type": "markdown",
   "metadata": {},
   "source": [
    "### Plotting response times from local machine"
   ]
  },
  {
   "cell_type": "code",
   "execution_count": 10,
   "metadata": {},
   "outputs": [
    {
     "data": {
      "image/png": "[encoded data removed]",
      "text/plain": [
       "<Figure size 1080x360 with 2 Axes>"
      ]
     },
     "metadata": {
      "needs_background": "light"
     },
     "output_type": "display_data"
    },
    {
     "name": "stdout",
     "output_type": "stream",
     "text": [
      "Mean response times (ms): 68.566772 (CloudFront), 49.351551 (S3), 11.131122 (NGINX) \n",
      "Variance: 221.79 (CloudFront), 202.14 (S3), 5.87 (NGINX) \n",
      "N=3000\n"
     ]
    }
   ],
   "source": [
    "cdn, ln_cdn = zip(*df[['resp_time','ln_resp_time']].loc[df['server']=='CLOUDFRONT'].values)\n",
    "s3, ln_s3 = zip(*df[['resp_time','ln_resp_time']].loc[df['server']=='S3'].values)\n",
    "nginx, ln_nginx = zip(*df[['resp_time','ln_resp_time']].loc[df['server']=='NGINX'].values)\n",
    "\n",
    "bins = np.linspace(0, df['resp_time'].quantile(0.999), 100) # Less outliers\n",
    "ln_bins = np.linspace(df['ln_resp_time'].min(), df['ln_resp_time'].quantile(0.999), 100)\n",
    "\n",
    "fig, (ax1, ax2) = plt.subplots(1,2, figsize=(15,5))\n",
    "\n",
    "ax1.hist(cdn, bins=bins, label='AWS CloudFront CDN')\n",
    "ax1.hist(s3, bins=bins, label='AWS S3')\n",
    "ax1.hist(nginx, bins=bins, label='NGINX')\n",
    "ax1.set_title('Distribution of Response Times, milliseconds \\n Request origin: local machine', fontsize=12, fontweight='bold')\n",
    "ax1.legend()\n",
    "ax1.set_xlabel(\"Response Time (ms)\", fontsize=12)\n",
    "\n",
    "ax2.hist(ln_cdn, bins=ln_bins, label='AWS CloudFront CDN')\n",
    "ax2.hist(ln_s3, bins=ln_bins, label='AWS S3')\n",
    "ax2.hist(ln_nginx, bins=ln_bins, label='NGINX')\n",
    "ax2.set_title('Distribution of log Response Times, milliseconds \\n Request origin: local machine', fontsize=12, fontweight='bold')\n",
    "ax2.legend()\n",
    "ax2.set_xlabel(\"Log Response Time (ms)\", fontsize=12)\n",
    "\n",
    "plt.savefig('./static/local-hist.png')\n",
    "plt.show()\n",
    "\n",
    "print(f\"Mean response times (ms): {np.mean(cdn)} (CloudFront), {np.mean(s3)} (S3), {np.mean(nginx)} (NGINX) \")\n",
    "print(f\"Variance: {np.var(cdn):.2f} (CloudFront), {np.var(s3):.2f} (S3), {np.var(nginx):.2f} (NGINX) \")\n",
    "print(f\"N={df.shape[0]}\")"
   ]
  },
  {
   "cell_type": "markdown",
   "metadata": {},
   "source": [
    "The results from the figure above are quite surprising. The distribution of response times suggests that the CDN is in fact slower than S3 is delivering the static payload file. In fact, the Nginx file server seems to have the best performance so far, with the lowest variance."
   ]
  },
  {
   "cell_type": "markdown",
   "metadata": {},
   "source": [
    "For formality, we will conduct a pairwise t-test for the three delivery methods using a targeted critical value of $\\alpha= 0.01$. Applying the bonferroni correction, we get $\\alpha_{bonferroni}=0.01/3=0.0033$"
   ]
  },
  {
   "cell_type": "markdown",
   "metadata": {},
   "source": [
    "The Welch's t-test for unequal variances will be used:"
   ]
  },
  {
   "cell_type": "markdown",
   "metadata": {},
   "source": [
    "$$ t = \\frac{\\bar{X_1}-\\bar{X_2}}{\\sqrt{\\frac{s_1^2}{N_1}+\\frac{s_2^2}{N_2}}} $$"
   ]
  },
  {
   "cell_type": "code",
   "execution_count": 121,
   "metadata": {},
   "outputs": [],
   "source": [
    "var_ln_cdn = np.var(ln_cdn, ddof=1)\n",
    "var_ln_s3 = np.var(ln_s3, ddof=1)\n",
    "var_ln_nginx = np.var(ln_nginx, ddof=1)"
   ]
  },
  {
   "cell_type": "markdown",
   "metadata": {},
   "source": [
    "### S3 - CloudFront\n",
    "$$ H_0:\\mu_{S3} = \\mu_{CloudFront}$$\n",
    "$$ H_1:\\mu_{S3} \\neq \\mu_{CloudFront}$$"
   ]
  },
  {
   "cell_type": "code",
   "execution_count": 122,
   "metadata": {},
   "outputs": [
    {
     "name": "stdout",
     "output_type": "stream",
     "text": [
      "t score: -37.20724414762849\n",
      "p-value: 2.3533065364465215e-228\n"
     ]
    }
   ],
   "source": [
    "t, p = stats.ttest_ind(ln_s3, ln_cdn, equal_var = False)\n",
    "print(f\"t score: {t}\")\n",
    "print(f\"p-value: {p}\")"
   ]
  },
  {
   "cell_type": "markdown",
   "metadata": {},
   "source": [
    "Since the estimated p-value is < than $\\alpha_{bonferroni}$, we can reject the null hypothesis that the response times from S3 is equal to that of CloudFront."
   ]
  },
  {
   "cell_type": "markdown",
   "metadata": {},
   "source": [
    "### S3 - NGINX\n",
    "$$ H_0:\\mu_{S3} = \\mu_{nginx}$$\n",
    "$$ H_1:\\mu_{S3} \\neq \\mu_{nginx}$$"
   ]
  },
  {
   "cell_type": "markdown",
   "metadata": {},
   "source": [
    "Now all three environments serving the same file has been deployed. We can run the experiment"
   ]
  },
  {
   "cell_type": "code",
   "execution_count": 120,
   "metadata": {},
   "outputs": [
    {
     "name": "stdout",
     "output_type": "stream",
     "text": [
      "t score: 158.75436806449343\n",
      "p-value: 0.0\n"
     ]
    }
   ],
   "source": [
    "t, p = stats.ttest_ind(ln_s3, ln_nginx, equal_var = False)\n",
    "print(f\"t score: {t}\")\n",
    "print(f\"p-value: {p}\")"
   ]
  },
  {
   "cell_type": "markdown",
   "metadata": {},
   "source": [
    "Since the estimated p-value is < than $\\alpha_{bonferroni}$, we can reject the null hypothesis that the response times from S3 is equal to that of NGINX."
   ]
  },
  {
   "cell_type": "markdown",
   "metadata": {},
   "source": [
    "###  NGINX - CloudFront\n",
    "$$ H_0:\\mu_{nginx} = \\mu_{CloudFront}$$\n",
    "$$ H_1:\\mu_{nginx} \\neq \\mu_{CloudFront}$$"
   ]
  },
  {
   "cell_type": "code",
   "execution_count": 119,
   "metadata": {},
   "outputs": [
    {
     "name": "stdout",
     "output_type": "stream",
     "text": [
      "t score: -219.1072594031005\n",
      "p-value: 0.0\n"
     ]
    }
   ],
   "source": [
    "t, p = stats.ttest_ind(ln_nginx, ln_cdn, equal_var = False)\n",
    "print(f\"t score: {t}\")\n",
    "print(f\"p-value: {p}\")"
   ]
  },
  {
   "cell_type": "markdown",
   "metadata": {},
   "source": [
    "Since the estimated p-value is < than $\\alpha_{bonferroni}$, we can reject the null hypothesis that the response times from CloudFront is equal to that of NGINX."
   ]
  },
  {
   "cell_type": "markdown",
   "metadata": {},
   "source": [
    "## Discussion"
   ]
  },
  {
   "cell_type": "markdown",
   "metadata": {},
   "source": [
    "Running the experiment from the local machine (in Singapore) shows surprising results. First, it turns out that accessing the static file payload from a CDN is in fact slower than getting it directly from S3. In addition, retrieving the same file from an Nginx server deployed on an EC2 instance is a lot faster than getting it from S3 or a CDN. "
   ]
  },
  {
   "cell_type": "markdown",
   "metadata": {},
   "source": [
    "While the differences are statistically significant, there are still improvements to made to the experimental design. Since these results are generated from a single point location (local machine) in Singapore, it may not  be representative of the typical response times in the region. One improvement would be to record the observations from distributed locations in the region, which will be discussed in the next notebook."
   ]
  },
  {
   "cell_type": "markdown",
   "metadata": {},
   "source": [
    "## Comparing speeds from different locations"
   ]
  },
  {
   "cell_type": "code",
   "execution_count": null,
   "metadata": {},
   "outputs": [],
   "source": [
    "df = pd.read_csv(\"../data/local-data.csv\")\n",
    "df_a = pd.read_csv(\"../data/ap-southeast-1a-data.csv\")\n",
    "df_b = pd.read_csv(\"../data/ap-southeast-1b-data.csv\")\n",
    "df_c = pd.read_csv(\"../data/ap-southeast-1c-data.csv\")"
   ]
  },
  {
   "cell_type": "code",
   "execution_count": null,
   "metadata": {},
   "outputs": [],
   "source": [
    "df_az = df_a.append(df_b).append(df_c)\n"
   ]
  },
  {
   "cell_type": "code",
   "execution_count": null,
   "metadata": {
    "scrolled": false
   },
   "outputs": [],
   "source": [
    "df_az.shape"
   ]
  },
  {
   "cell_type": "code",
   "execution_count": null,
   "metadata": {},
   "outputs": [],
   "source": [
    "df_az['resp_time'] = df_az['resp_time'] * 1000 # Convert to milliseconds\n",
    "df_az['ln_resp_time'] = np.log(df_az['resp_time'])"
   ]
  },
  {
   "cell_type": "code",
   "execution_count": null,
   "metadata": {},
   "outputs": [],
   "source": [
    "# Plot distribution of response times from local machine\n",
    "\n",
    "cdn, ln_cdn = zip(*df_az[['resp_time','ln_resp_time']].loc[df_az['server']=='CLOUDFRONT'].values)\n",
    "s3, ln_s3 = zip(*df_az[['resp_time','ln_resp_time']].loc[df_az['server']=='S3'].values)\n",
    "nginx, ln_nginx = zip(*df_az[['resp_time','ln_resp_time']].loc[df_az['server']=='NGINX'].values)\n",
    "\n",
    "bins = np.linspace(0, df_az['resp_time'].quantile(0.999), 100)\n",
    "ln_bins = np.linspace(df_az['ln_resp_time'].min(), df_az['ln_resp_time'].quantile(0.999), 100)\n",
    "\n",
    "fig, (ax1, ax2) = plt.subplots(1,2, figsize=(15,5))\n",
    "\n",
    "ax1.hist(cdn, bins=bins, label='AWS CloudFront CDN')\n",
    "ax1.hist(s3, bins=bins, label='AWS S3')\n",
    "ax1.hist(nginx, bins=bins, label='NGINX')\n",
    "ax1.set_title('Distribution of Response Times, milliseconds \\n Request origin: Multi-AZ', fontsize=12, fontweight='bold')\n",
    "ax1.legend()\n",
    "ax1.set_xlabel(\"Response Time (ms)\", fontsize=12)\n",
    "\n",
    "ax2.hist(ln_cdn, bins=ln_bins, label='AWS CloudFront CDN')\n",
    "ax2.hist(ln_s3, bins=ln_bins, label='AWS S3')\n",
    "ax2.hist(ln_nginx, bins=ln_bins, label='NGINX')\n",
    "ax2.set_title('Distribution of log Response Times, milliseconds \\n Request origin: Multi-AZ', fontsize=12, fontweight='bold')\n",
    "ax2.legend()\n",
    "ax2.set_xlabel(\"Response Time (ms)\", fontsize=12)\n",
    "\n",
    "\n",
    "plt.show()"
   ]
  },
  {
   "cell_type": "code",
   "execution_count": null,
   "metadata": {},
   "outputs": [],
   "source": [
    "df_az['resp_time'].loc[(df_az['server']=='NGINX') & (df_az['origin']=='ap-southeast-1a')].mean()"
   ]
  },
  {
   "cell_type": "code",
   "execution_count": null,
   "metadata": {},
   "outputs": [],
   "source": [
    "df_az['resp_time'].loc[(df_az['server']=='NGINX') & (df_az['origin']=='ap-southeast-1b')].mean()"
   ]
  },
  {
   "cell_type": "code",
   "execution_count": null,
   "metadata": {},
   "outputs": [],
   "source": [
    "df_az['resp_time'].loc[(df_az['server']=='NGINX') & (df_az['origin']=='ap-southeast-1c')].mean()"
   ]
  },
  {
   "cell_type": "code",
   "execution_count": null,
   "metadata": {},
   "outputs": [],
   "source": [
    "np.mean(s3)"
   ]
  },
  {
   "cell_type": "code",
   "execution_count": null,
   "metadata": {},
   "outputs": [],
   "source": [
    "np.mean(nginx)"
   ]
  },
  {
   "cell_type": "markdown",
   "metadata": {},
   "source": [
    "## OLS Regression - AWS AZ"
   ]
  },
  {
   "cell_type": "code",
   "execution_count": null,
   "metadata": {},
   "outputs": [],
   "source": [
    "import statsmodels.formula.api as smf"
   ]
  },
  {
   "cell_type": "code",
   "execution_count": null,
   "metadata": {},
   "outputs": [],
   "source": [
    "df.columns"
   ]
  },
  {
   "cell_type": "code",
   "execution_count": null,
   "metadata": {},
   "outputs": [],
   "source": [
    "# Get server dummies - s3 as base\n",
    "server_dummies = pd.get_dummies(df_az['server']).drop('S3', axis=1)\n",
    "\n",
    "# Get Availability Zone dummies - 1a as base\n",
    "az_dummies = pd.get_dummies(df_az['origin'], drop_first=True)"
   ]
  },
  {
   "cell_type": "code",
   "execution_count": null,
   "metadata": {},
   "outputs": [],
   "source": [
    "df_az = pd.concat([df_az, server_dummies], axis=1)\n",
    "df_az = pd.concat([df_az, az_dummies], axis=1)"
   ]
  },
  {
   "cell_type": "code",
   "execution_count": null,
   "metadata": {},
   "outputs": [],
   "source": [
    "df_az.rename(columns={\n",
    "    \"ap-southeast-1a\" : \"ap_southeast_1a\",\n",
    "    \"ap-southeast-1b\" : \"ap_southeast_1b\",\n",
    "    \"ap-southeast-1c\" : \"ap_southeast_1c\"\n",
    "}, inplace=True)"
   ]
  },
  {
   "cell_type": "code",
   "execution_count": null,
   "metadata": {
    "scrolled": false
   },
   "outputs": [],
   "source": [
    "results = smf.ols(\"ln_resp_time ~ NGINX + CLOUDFRONT + ap_southeast_1b + ap_southeast_1c \", data=df_az).fit()\n",
    "print(results.summary())"
   ]
  },
  {
   "cell_type": "code",
   "execution_count": null,
   "metadata": {
    "scrolled": true
   },
   "outputs": [],
   "source": [
    "100*(np.exp(-0.4016)-1)"
   ]
  },
  {
   "cell_type": "code",
   "execution_count": null,
   "metadata": {},
   "outputs": [],
   "source": [
    "np.exp(-1.9215)*100"
   ]
  },
  {
   "cell_type": "markdown",
   "metadata": {},
   "source": [
    "## OLS Regression - VPN"
   ]
  },
  {
   "cell_type": "code",
   "execution_count": null,
   "metadata": {},
   "outputs": [],
   "source": [
    "import statsmodels.formula.api as smf"
   ]
  },
  {
   "cell_type": "code",
   "execution_count": null,
   "metadata": {},
   "outputs": [],
   "source": [
    "df.columns"
   ]
  },
  {
   "cell_type": "code",
   "execution_count": null,
   "metadata": {},
   "outputs": [],
   "source": [
    "# Get server dummies - s3 as base\n",
    "server_dummies = pd.get_dummies(df['server']).drop('S3', axis=1)\n",
    "\n",
    "# Get Availability Zone dummies - 1a as base\n",
    "az_dummies = pd.get_dummies(df['origin'], drop_first=True)"
   ]
  },
  {
   "cell_type": "code",
   "execution_count": null,
   "metadata": {},
   "outputs": [],
   "source": [
    "df = pd.concat([df, server_dummies], axis=1)\n",
    "df = pd.concat([df, az_dummies], axis=1)"
   ]
  },
  {
   "cell_type": "code",
   "execution_count": null,
   "metadata": {},
   "outputs": [],
   "source": [
    "df.rename(columns={\n",
    "    \"sg-vpn-2\":\"sg_vpn_2\",\n",
    "    \"sg-vpn-3\" : \"sg_vpn_3\"\n",
    "}, inplace=True)"
   ]
  },
  {
   "cell_type": "code",
   "execution_count": null,
   "metadata": {},
   "outputs": [],
   "source": [
    "results = smf.ols(\"ln_resp_time ~ NGINX + CLOUDFRONT + sg_vpn_2 + sg_vpn_3 \", data=df).fit()\n",
    "print(results.summary())"
   ]
  },
  {
   "cell_type": "code",
   "execution_count": null,
   "metadata": {},
   "outputs": [],
   "source": []
  }
 ],
 "metadata": {
  "kernelspec": {
   "display_name": "Python 3",
   "language": "python",
   "name": "python3"
  },
  "language_info": {
   "codemirror_mode": {
    "name": "ipython",
    "version": 3
   },
   "file_extension": ".py",
   "mimetype": "text/x-python",
   "name": "python",
   "nbconvert_exporter": "python",
   "pygments_lexer": "ipython3",
   "version": "3.6.8"
  }
 },
 "nbformat": 4,
 "nbformat_minor": 2
}
